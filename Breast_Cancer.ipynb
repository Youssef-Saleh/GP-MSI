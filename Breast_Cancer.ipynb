{
 "cells": [
  {
   "cell_type": "markdown",
   "metadata": {},
   "source": [
    "# Imports"
   ]
  },
  {
   "cell_type": "code",
   "execution_count": null,
   "metadata": {},
   "outputs": [],
   "source": [
    "# %matplotlib qt\n",
    "import numpy as np\n",
    "import matplotlib.pyplot as plt\n",
    "#import cv2\n",
    "import h5py\n",
    "\n",
    "import pandas as pd\n",
    "from sklearn.preprocessing import StandardScaler , MinMaxScaler\n",
    "from sklearn.decomposition import PCA\n",
    "\n",
    "from sklearn.manifold import TSNE\n",
    "from openTSNE import TSNE as opTSNE\n",
    "\n",
    "from skimage.color import lab2rgb , rgb2lab\n",
    "\n",
    "import matplotlib.pyplot as plt\n",
    "\n",
    "import seaborn as sns\n",
    "from matplotlib.colors import ListedColormap, LinearSegmentedColormap\n",
    "from sklearn.cluster import KMeans\n",
    "\n",
    "from scipy.stats import hypergeom,fisher_exact\n",
    "\n",
    "\n",
    "\n",
    "from sklearn.mixture import GaussianMixture \n",
    "# from lifelines import KaplanMeierFitter\n",
    "\n",
    "import copy\n",
    "import time\n",
    "\n"
   ]
  },
  {
   "cell_type": "markdown",
   "metadata": {},
   "source": [
    "# Functions"
   ]
  },
  {
   "cell_type": "code",
   "execution_count": null,
   "metadata": {},
   "outputs": [],
   "source": [
    "def SampleZoomIn(SampleID , PixelSampleID ,padding_factor = 1):\n",
    "    specific_index = SampleID\n",
    "    mask = (PixelSampleID == specific_index) \n",
    "    label_indices = np.where(mask == True)\n",
    "\n",
    "    zoomed_height_max = max(label_indices[0]) + padding_factor\n",
    "    zoomed_height_min = min(label_indices[0]) - padding_factor\n",
    "    zoomed_width_max = max(label_indices[1]) + padding_factor\n",
    "    zoomed_width_min = min(label_indices[1]) - padding_factor\n",
    "\n",
    "    if zoomed_height_max > height:\n",
    "        zoomed_height_max= height\n",
    "\n",
    "    if zoomed_height_min < 0:\n",
    "        zoomed_height_min= 0\n",
    "\n",
    "    if zoomed_width_max > width:\n",
    "        zoomed_width_max= width\n",
    "\n",
    "    if zoomed_width_min < 0:\n",
    "        zoomed_width_min= 0\n",
    "        \n",
    "    return zoomed_height_max , zoomed_height_min , zoomed_width_max, zoomed_width_min"
   ]
  },
  {
   "cell_type": "code",
   "execution_count": null,
   "metadata": {},
   "outputs": [],
   "source": [
    "def rescale(arr):\n",
    "    arr_min = arr.min()\n",
    "    arr_max = arr.max()\n",
    "    return (arr - arr_min) / (arr_max - arr_min)\n",
    "def rescale_AB(arr):\n",
    "    arr_min = arr.min()\n",
    "    arr_max = arr.max()\n",
    "    return ( (arr - arr_min) / (arr_max - arr_min)  ) * 255 - 128"
   ]
  },
  {
   "cell_type": "code",
   "execution_count": null,
   "metadata": {},
   "outputs": [],
   "source": [
    "def CreateColorMap(NumberofColors , colorsArray ):\n",
    "    cmap = LinearSegmentedColormap.from_list('cmap', colorsArray, N=NumberofColors)\n",
    "    return cmap"
   ]
  },
  {
   "cell_type": "code",
   "execution_count": null,
   "metadata": {},
   "outputs": [],
   "source": [
    "def CreateColorMap_Continuous(NumberofColors , colorsArray ):\n",
    "    cvals = np.arange(0,NumberofColors-1)\n",
    "    colors = colorsArray\n",
    "    norm=plt.Normalize(min(cvals),max(cvals))\n",
    "    tuples = list(zip(map(norm,cvals), colors))\n",
    "    cmap = LinearSegmentedColormap.from_list(\"\", tuples)\n",
    "    \n",
    "    return cmap"
   ]
  },
  {
   "cell_type": "markdown",
   "metadata": {},
   "source": [
    "# Reading Breast Data"
   ]
  },
  {
   "cell_type": "code",
   "execution_count": null,
   "metadata": {},
   "outputs": [],
   "source": [
    "h5 = h5py.File('breastData.mat', 'r')\n",
    "\n",
    "\n",
    "HE_image= h5.get('HE_image')[:]\n",
    "HE_image = HE_image.swapaxes(0,2)\n",
    "\n",
    "\n",
    "MSI_data_cube = h5.get('MSI_data_cube')[:]\n",
    "MSI_data_cube = MSI_data_cube.swapaxes(0,2)\n",
    "\n",
    "goodlist= h5.get('goodlist')[:]\n",
    "goodlist = goodlist.swapaxes(0,1)\n",
    "\n",
    "peak_list= h5.get('peak_list')[:]\n",
    "peak_list = peak_list.swapaxes(0,1)\n",
    "\n",
    "pixel_to_sample_ID = h5.get('pixel_to_sample_ID')[:]\n",
    "pixel_to_sample_ID = pixel_to_sample_ID.swapaxes(0,1)  \n",
    "print(list(h5.keys()))\n",
    "z = h5.get('z')[:]\n",
    "print(z)\n",
    "h5.close()\n",
    "\n",
    "# Clinical_data = pd.read_excel('ClinicalData.xlsx')\n",
    "height , width = (pixel_to_sample_ID.shape) # ( 443 , 1653 )\n",
    "\n",
    "flattened_MSI_data_cube = MSI_data_cube.flatten().reshape(MSI_data_cube.shape[0] * MSI_data_cube.shape[1] , MSI_data_cube.shape[2])\n",
    "\n",
    "flattened_pixel_to_sample_ID = pixel_to_sample_ID.flatten() \n",
    "indices_of_background = np.where(flattened_pixel_to_sample_ID == -1)\n",
    "sample_only_data = np.delete(flattened_MSI_data_cube, indices_of_background[0] , axis=0)\n",
    "sample_ID_pixels = np.delete(flattened_pixel_to_sample_ID , indices_of_background[0] , axis=0)\n",
    "# The scaler object (model)\n",
    "scaler = StandardScaler()\n",
    "# fit and transform the data\n",
    "sample_only_scaled_data = scaler.fit_transform(sample_only_data) \n"
   ]
  },
  {
   "cell_type": "code",
   "execution_count": null,
   "metadata": {},
   "outputs": [],
   "source": [
    "plt.figure(figsize=(16,10))\n",
    "plt.imshow(HE_image)\n",
    "plt.show()"
   ]
  },
  {
   "cell_type": "markdown",
   "metadata": {},
   "source": [
    "# PCA "
   ]
  },
  {
   "cell_type": "code",
   "execution_count": null,
   "metadata": {},
   "outputs": [],
   "source": [
    "pca = PCA(n_components=8)\n",
    "pca_result = pca.fit_transform(sample_only_scaled_data)\n",
    "\n",
    "pca_df = pd.DataFrame(data=pca_result[:],columns=[\"PC1\",\"PC2\",\"PC3\",\"PC4\",\"PC5\",\"PC6\",\"PC7\",\"PC8\"])\n",
    "print('Explained variation per PC: {}'.format(pca.explained_variance_ratio_))\n",
    "variance = pca.explained_variance_ratio_"
   ]
  },
  {
   "cell_type": "code",
   "execution_count": null,
   "metadata": {},
   "outputs": [],
   "source": [
    "sample_only_scaled_data.shape"
   ]
  },
  {
   "cell_type": "code",
   "execution_count": null,
   "metadata": {},
   "outputs": [],
   "source": [
    "PCA=[\"PC1\",\"PC2\",\"PC3\",\"PC4\",\"PC5\",\"PC6\",\"PC7\",\"PC8\"]\n",
    "\n",
    "COLORS =[\"#7f0000\",\"#ff0000\",\"#F67280\",\"#F8B195\", \"#78a4c7\",\"#ff7f00\",\"#C06C84\",\"#6C5B7B\" ]\n",
    "\n",
    "plt.bar(PCA, variance*100, color=COLORS)\n",
    "\n",
    "plt.title('Variance of Each Prinicple Component')\n",
    "plt.xlabel('Priniciple Component')\n",
    "plt.ylabel('Variance Percentage')\n",
    "\n",
    "# Pie chart\n",
    "labels = \"PC1\",\"PC2\",\"PC3\",\"PC4\",\"PC5\",\"PC6\",\"PC7\",\"PC8\", \"Remaining\"\n",
    "sizes = [ variance[0], variance[1], variance[2], variance[3] , variance[4] ,variance[5],variance[6],variance[7] , 1 - ( variance[0] + variance[1] + variance[2] + variance[3] + variance[4] +variance[5]+variance[6]+variance[7]) ]\n",
    "explode = (0.1, 0, 0, 0, 0, 0,0,0,0) \n",
    "\n",
    "fig1, ax1 = plt.subplots()\n",
    "ax1.pie(sizes, explode=explode, labels=labels, autopct='%1.1f%%',\n",
    "        shadow=True, startangle=90, normalize=False)\n",
    "ax1.axis('equal')  # Equal aspect ratio ensures that pie is drawn as a circle.\n",
    "\n",
    "plt.show()\n",
    "print('Variance Represented by PCA = ' + str(round((variance[0] + variance[1] + variance[2] + variance[3] + variance[4]+variance[5]+variance[6]+variance[7])*100 , 2) ) +' %')"
   ]
  },
  {
   "cell_type": "code",
   "execution_count": null,
   "metadata": {},
   "outputs": [],
   "source": [
    "fig, axes = plt.subplots(1, 4, figsize=(20, 5))\n",
    "# sns.set(rc = {'figure.figsize':(15,8)})\n",
    "\n",
    "sns.scatterplot(\n",
    "    ax=axes[0],\n",
    "    x=\"PC1\", y=\"PC2\",\n",
    "    palette=sns.color_palette(\"icefire\"),\n",
    "    data=pca_df\n",
    ")\n",
    "axes[0].set_title(\"PC1 & PC2 Plot\")\n",
    "sns.scatterplot(\n",
    "    ax=axes[1],\n",
    "    x=\"PC1\", y=\"PC3\",\n",
    "    palette=sns.color_palette(\"icefire\"),\n",
    "    data=pca_df\n",
    ")\n",
    "axes[1].set_title(\"PC1 & PC3 Plot\")\n",
    "sns.scatterplot(\n",
    "    ax=axes[2],\n",
    "    x=\"PC2\", y=\"PC3\",\n",
    "    palette=sns.color_palette(\"icefire\"),\n",
    "    data=pca_df\n",
    ")\n",
    "axes[2].set_title(\"PC2 & PC3 Plot\")\n",
    "\n",
    "sns.scatterplot(\n",
    "    ax=axes[3],\n",
    "    x=\"PC4\", y=\"PC5\",\n",
    "    palette=sns.color_palette(\"icefire\"),\n",
    "    data=pca_df\n",
    ")\n",
    "axes[3].set_title(\"PC4 & PC5 Plot\")\n",
    "\n",
    "plt.tight_layout()\n",
    "plt.show()\n",
    "\n",
    "ax = plt.figure(figsize=(16,10)).gca(projection='3d')\n",
    "scatter_3d = ax.scatter(\n",
    "    xs=pca_df['PC1'], \n",
    "    ys=pca_df['PC2'], \n",
    "    zs=pca_df['PC3'], \n",
    "    alpha = 1\n",
    ")\n",
    "\n",
    "ax.set_xlabel('PC1')\n",
    "ax.set_ylabel('PC2')\n",
    "ax.set_zlabel('PC3')\n",
    "ax.set_title(\"PCA 3D\")"
   ]
  },
  {
   "cell_type": "markdown",
   "metadata": {},
   "source": [
    "# TSNE"
   ]
  },
  {
   "cell_type": "code",
   "execution_count": null,
   "metadata": {},
   "outputs": [],
   "source": [
    "# Old Breast Cancer TSNE Settings\n",
    "\n",
    "# time_start = time.time()\n",
    "# tsne = opTSNE(\n",
    "#     n_components = 3,\n",
    "#     perplexity = 30,\n",
    "#     learning_rate = 200,\n",
    "#     initialization  = 'pca',\n",
    "#     random_state = 0,\n",
    "#     early_exaggeration = 12,\n",
    "#     n_iter = 1000,\n",
    "#     # verbose=False,\n",
    "#     early_exaggeration_iter = 250,\n",
    "#     # early_exaggeration = 10,\n",
    "#     # n_iter = 700,\n",
    "#     # initialization = 'pca',\n",
    "#     # initial_momentum = 0.5,\n",
    "#     # final_momentum = 0.8,\n",
    "#     metric=\"euclidean\",\n",
    "#     # n_jobs=-1,\n",
    "#     # random_state=0,\n",
    "#     negative_gradient_method = 'barnes-hut',\n",
    "#     verbose=True,\n",
    "# )\n",
    "# %time tsne_results_op = tsne.fit(sample_only_scaled_data)\n",
    "\n",
    "# print('t-SNE done! Time elapsed: {} seconds'.format(time.time()-time_start))\n",
    "\n",
    "# np.save('op_tSNE_Results_' + 'Time_{}_seconds'.format(time.time()-time_start) , tsne_results)"
   ]
  },
  {
   "cell_type": "code",
   "execution_count": null,
   "metadata": {},
   "outputs": [],
   "source": [
    "# tSNE Model , Run once and save results in numpy array to be used later\n",
    "'''\n",
    "time_start = time.time()\n",
    "tsne_results_op = TSNE(n_components=3,\n",
    "            perplexity = 50,\n",
    "            learning_rate = 200,\n",
    "            init = 'random',\n",
    "            random_state = 0,\n",
    "            early_exaggeration = 12,\n",
    "            n_iter = 1500,\n",
    "            verbose=True,\n",
    "            ).fit_transform(sample_only_scaled_data)\n",
    "\n",
    "\n",
    "\n",
    "print('t-SNE done! Time elapsed: {} seconds'.format(time.time()-time_start))\n",
    "'''\n"
   ]
  },
  {
   "cell_type": "code",
   "execution_count": null,
   "metadata": {},
   "outputs": [],
   "source": [
    "# tsne_results_op = np.load('op_tSNE_Results_per30_lr200_earlyexagiter450_earlyexag10_iter700_intialization_PCATime_493.8574388027191_seconds.npy')\n",
    "# tsne_results_op = np.load('op_tSNE_Results_per30_lr200_earlyexagiter250_earlyexag12_iter1000_PCATime_1808.5516831874847_seconds.npy')\n",
    "tsne_results_op = np.load('tSNE_Breast_Results_default_Time_2366.2736546993256_seconds.npy')"
   ]
  },
  {
   "cell_type": "code",
   "execution_count": null,
   "metadata": {},
   "outputs": [],
   "source": [
    "tsne_df = pd.DataFrame(data=tsne_results_op[:],columns=[\"tSNE_dim1\",\"tSNE_dim2\",\"tSNE_dim3\"])\n",
    "tsne_df['pixel_ID'] = sample_ID_pixels\n",
    "tsne_df['L_Component'] = tsne_results_op[:,0]\n",
    "tsne_df['A_Component'] = tsne_results_op[:,1]\n",
    "tsne_df['B_Component'] = tsne_results_op[:,2]"
   ]
  },
  {
   "cell_type": "code",
   "execution_count": null,
   "metadata": {},
   "outputs": [],
   "source": [
    "LAB_mapping = [ tsne_df['L_Component'] , tsne_df['A_Component'] , tsne_df['B_Component'] ]\n",
    "LAB_colors = np.asarray(LAB_mapping)\n",
    "LAB_colors = LAB_colors.swapaxes(0,1)\n",
    "\n",
    "L = rescale(LAB_colors[:,0]) * 100\n",
    "A = rescale_AB(LAB_colors[:,1])\n",
    "B = rescale_AB(LAB_colors[:,2])\n",
    "LAB_colors = np.asarray( [ L , A, B ] )\n",
    "LAB_colors = LAB_colors.swapaxes(0,1)\n",
    "RGB_colors = lab2rgb(LAB_colors)"
   ]
  },
  {
   "cell_type": "code",
   "execution_count": null,
   "metadata": {},
   "outputs": [],
   "source": [
    "fig, axes = plt.subplots(1, 3, figsize=(20, 5))\n",
    "# sns.set(rc = {'figure.figsize':(15,8)})\n",
    "marker_size = 9\n",
    "\n",
    "sns.scatterplot(\n",
    "    ax = axes[0],\n",
    "    x = \"tSNE_dim1\", y=\"tSNE_dim2\",\n",
    "    c = RGB_colors,\n",
    "    s = marker_size,\n",
    "    data = tsne_df\n",
    ")\n",
    "axes[0].set_title(\"tSNE Dimension 1 & tSNE Dimension 2 Plot\")\n",
    "\n",
    "sns.scatterplot(\n",
    "    ax = axes[1],\n",
    "    x = \"tSNE_dim1\", y=\"tSNE_dim3\",\n",
    "    c = RGB_colors,\n",
    "    s = marker_size,\n",
    "    data = tsne_df\n",
    ")\n",
    "axes[1].set_title(\"tSNE Dimension 1 & tSNE Dimension 3 Plot\")\n",
    "\n",
    "sns.scatterplot(\n",
    "    ax = axes[2],\n",
    "    x = \"tSNE_dim2\", y=\"tSNE_dim3\",\n",
    "    c = RGB_colors,\n",
    "    s = marker_size,\n",
    "    data = tsne_df\n",
    ")\n",
    "axes[2].set_title(\"tSNE Dimension 2 & tSNE Dimension 3 Plot\")\n",
    "\n",
    "\n",
    "\n",
    "plt.tight_layout()\n",
    "plt.show()\n"
   ]
  },
  {
   "cell_type": "code",
   "execution_count": null,
   "metadata": {},
   "outputs": [],
   "source": [
    "ax = plt.figure(figsize=(16,10)).gca(projection='3d')\n",
    "scatter_3d = ax.scatter(\n",
    "    xs=tsne_df['tSNE_dim1'], \n",
    "    ys=tsne_df['tSNE_dim2'],\n",
    "    zs= tsne_df['tSNE_dim3'],\n",
    "    c = RGB_colors,\n",
    "    s = 5,\n",
    "    alpha = 1,\n",
    ")\n",
    "# ax.set_xlim(-40,40)\n",
    "# ax.set_ylim(-40,40)\n",
    "# ax.set_zlim(-40,40)\n",
    "ax.set_xlabel('tSNE_dim1')\n",
    "ax.set_ylabel('tSNE_dim2')\n",
    "ax.set_zlabel('tSNE_dim3')\n",
    "ax.set_title(\"tSNE Colored map\")\n",
    "\n",
    "fig.subplots_adjust(left=0, right=1, bottom=0, top=1)\n",
    "\n",
    "# elev is z-axis, +ve moves up, -ve moves down\n",
    "# azim is x axis, +ve moves right, -ve moves left\n",
    "ax.view_init(elev = 20 , azim = -160) \n",
    "plt.tight_layout()\n"
   ]
  },
  {
   "cell_type": "code",
   "execution_count": null,
   "metadata": {},
   "outputs": [],
   "source": [
    "indices_edit = np.where(pixel_to_sample_ID != -1)\n",
    "tsne_image = np.zeros( (height,width,3) )\n",
    "increment = 0\n",
    "\n",
    "for i,j in zip(indices_edit[0],indices_edit[1]):\n",
    "    tsne_image[i][j][0] = RGB_colors[increment][0]\n",
    "    tsne_image[i][j][1] = RGB_colors[increment][1]\n",
    "    tsne_image[i][j][2] = RGB_colors[increment][2]\n",
    "    increment += 1\n",
    "\n",
    "plt.figure(figsize=(16, 8), dpi=100)\n",
    "plt.imshow(tsne_image)\n"
   ]
  },
  {
   "cell_type": "markdown",
   "metadata": {},
   "source": [
    "# Kmeans "
   ]
  },
  {
   "cell_type": "code",
   "execution_count": null,
   "metadata": {},
   "outputs": [],
   "source": [
    "kmeans = KMeans(n_clusters=8, n_init=100, max_iter=2000, random_state=0, verbose=0 ).fit(tsne_results_op)\n",
    "kmeans_7 = KMeans(n_clusters=7, n_init=100, max_iter=2000, random_state=0, verbose=0 ).fit(tsne_results_op)\n",
    "kmeans_6 = KMeans(n_clusters=6, n_init=100, max_iter=2000, random_state=0, verbose=0 ).fit(tsne_results_op)\n",
    "kmeans_5 = KMeans(n_clusters=5, n_init=100, max_iter=2000, random_state=0, verbose=0 ).fit(tsne_results_op)\n",
    "\n",
    "#kmeans_9 = KMeans(n_clusters=9, n_init=100, max_iter=2000, random_state=0, verbose=0 ).fit(tsne_results_op)\n",
    "\n"
   ]
  },
  {
   "cell_type": "code",
   "execution_count": null,
   "metadata": {},
   "outputs": [],
   "source": [
    "indices_edit = np.where(pixel_to_sample_ID != -1)\n",
    "KMeans_image = np.full( (height,width),-1 )\n",
    "KMeans_image_6 = np.full( (height,width),-1 )\n",
    "KMeans_image_7 = np.full( (height,width),-1 )\n",
    "KMeans_image_5 = np.full( (height,width),-1 )\n",
    "\n",
    "increment = 0\n",
    "for i,j in zip(indices_edit[0],indices_edit[1]):\n",
    "    KMeans_image[i][j] = kmeans.labels_[increment]\n",
    "    \n",
    "    increment += 1\n",
    "\n",
    "increment = 0\n",
    "for i,j in zip(indices_edit[0],indices_edit[1]):\n",
    "    KMeans_image_6[i][j] = kmeans_6.labels_[increment]\n",
    "    \n",
    "    increment += 1\n",
    "increment = 0\n",
    "for i,j in zip(indices_edit[0],indices_edit[1]):\n",
    "    KMeans_image_7[i][j] = kmeans_7.labels_[increment]\n",
    "    \n",
    "    increment += 1\n",
    "increment = 0\n",
    "for i,j in zip(indices_edit[0],indices_edit[1]):\n",
    "    KMeans_image_5[i][j] = kmeans_5.labels_[increment]\n",
    "    \n",
    "    increment += 1\n",
    "increment = 0"
   ]
  },
  {
   "cell_type": "markdown",
   "metadata": {},
   "source": [
    "# Gaussian Mixture Model"
   ]
  },
  {
   "cell_type": "code",
   "execution_count": null,
   "metadata": {},
   "outputs": [],
   "source": [
    "gmm = GaussianMixture(n_components=8,\n",
    "                      max_iter=1500,\n",
    "                      n_init=10,\n",
    "                      covariance_type='diag', verbose=0, random_state=42).fit_predict(tsne_results_op)\n"
   ]
  },
  {
   "cell_type": "code",
   "execution_count": null,
   "metadata": {},
   "outputs": [],
   "source": [
    "indices_edit = np.where(pixel_to_sample_ID != -1)\n",
    "gaussian_image = np.full((height, width), -1)\n",
    "\n",
    "increment = 0\n",
    "for i, j in zip(indices_edit[0], indices_edit[1]):\n",
    "    gaussian_image[i][j] = gmm[increment]\n",
    "    increment += 1\n"
   ]
  },
  {
   "cell_type": "markdown",
   "metadata": {},
   "source": [
    "# Whole image Results"
   ]
  },
  {
   "cell_type": "code",
   "execution_count": null,
   "metadata": {},
   "outputs": [],
   "source": [
    "# colorsarray = [ \"black\" , \"royalblue\" , , \"aqua\" , \"orangered\" , \"yellow\",,\"sandybrown\",\"red\" ] \n",
    "# colorsarray=[\"black\",\"#80B1D3\",\"#FF7F0E\",\"#2CA02C\",\"#B5CF6B\",\"#9467BD\",\"#E7CB94\",\"#BCBD22\",\"#FFD92F\"]\n",
    "# colorsarray=['#000000','powderblue','magenta', 'teal', 'yellow', 'blue', 'orange',\"lime\",\"crimson\"]\n",
    "# colorsarray8 = [ \"black\" , \"magenta\" , \"#007fff\", \"#00ffff\" , \"#7fff7f\" , \"#ffff00\",\"#ff7f00\",\"#ff0000\",\"#7f0000\" ]\n",
    "colorarray8=[ \"black\",\"olivedrab\",\"gold\",\"darkturquoise\", \"wheat\",\"fuchsia\",\"indigo\",\"#7f0000\",\"#ff7f00\"]\n",
    "colorsarray7 = [ \"black\",\"olivedrab\",\"gold\",\"darkturquoise\", \"wheat\",\"fuchsia\",\"indigo\",\"#7f0000\"]\n",
    "colorsarray6 = [ \"black\",\"olivedrab\",\"gold\",\"darkturquoise\", \"wheat\",\"fuchsia\",\"indigo\"]\n",
    "colorsarray5 = [ \"black\",\"olivedrab\",\"gold\",\"darkturquoise\", \"wheat\",\"fuchsia\"]\n",
    "\n",
    "colorsarrayTSNE = [\"olivedrab\",\"gold\",\"darkturquoise\", \"wheat\",\"fuchsia\",\"indigo\",\"#7f0000\",\"#ff7f00\"]\n",
    "colorsarray_5_TSNE = [\"olivedrab\",\"gold\",\"darkturquoise\", \"wheat\",\"fuchsia\"]\n",
    "\n",
    "cmap8 = CreateColorMap(9,colorarray8)\n",
    "cmapTSNE= CreateColorMap(8,colorsarrayTSNE)\n",
    "\n",
    "cmap7 = CreateColorMap(8,colorsarray7)\n",
    "cmap6 = CreateColorMap(7,colorsarray6)\n",
    "\n",
    "cmap5 = CreateColorMap(6,colorsarray5)\n",
    "cmap5_TSNE = CreateColorMap(5,colorsarray_5_TSNE)"
   ]
  },
  {
   "cell_type": "code",
   "execution_count": null,
   "metadata": {},
   "outputs": [],
   "source": [
    "\n",
    "plt.figure(figsize=(25, 15), dpi=80)\n",
    "plt.figure(1)\n",
    "plt.subplot(311)\n",
    "plt.title(\"Kmean 8 Components\")\n",
    "plt.imshow(KMeans_image, cmap=cmap8)\n",
    "\n",
    "cbar = plt.colorbar(aspect=10,shrink=0.9, pad=0.01)\n",
    "\n",
    "cbar.ax.get_yaxis().set_ticks([])\n",
    "for j, lab in enumerate(['$B$','$1$','$2$','$3$','$4$','$5$','$6$','$7$','$8$']):\n",
    "    cbar.ax.text(2.5, (j * 4.5 - 3.1) / 5, lab, ha='center', va='center', color=\"mintcream\", fontsize=12, fontweight=\"extra bold\", fontfamily=\"monospace\" ) # the font doesn't acutally change, only the size & color :D\n"
   ]
  },
  {
   "cell_type": "code",
   "execution_count": null,
   "metadata": {},
   "outputs": [],
   "source": [
    "\n",
    "plt.figure(figsize=(25, 15), dpi=80)\n",
    "plt.figure(1)\n",
    "plt.subplot(311)\n",
    "plt.title(\"Kmean 7 Components\")\n",
    "plt.imshow(KMeans_image_7, cmap=cmap7)\n",
    "\n",
    "cbar = plt.colorbar(aspect=10,shrink=0.9, pad=0.01)\n",
    "\n",
    "cbar.ax.get_yaxis().set_ticks([])\n",
    "for j, lab in enumerate(['$B$','$1$','$2$','$3$','$4$','$5$','$6$','$7$']):\n",
    "    cbar.ax.text(2.5, (j * 4.2 - 2.4) / 4.9, lab, ha='center', va='center', color=\"mintcream\", fontsize=12, fontweight=\"extra bold\", fontfamily=\"serif\" ) # the font doesn't acutally change, only the size & color :D\n",
    "\n"
   ]
  },
  {
   "cell_type": "code",
   "execution_count": null,
   "metadata": {},
   "outputs": [],
   "source": [
    "\n",
    "plt.figure(figsize=(25, 15), dpi=80)\n",
    "plt.figure(1)\n",
    "plt.subplot(311)\n",
    "plt.title(\"Kmean 6 Components\")\n",
    "plt.imshow(KMeans_image_6, cmap=cmap6)\n",
    "\n",
    "cbar = plt.colorbar(aspect=10,shrink=0.9, pad=0.01)\n",
    "\n",
    "cbar.ax.get_yaxis().set_ticks([])\n",
    "for j, lab in enumerate(['$B$','$1$','$2$','$3$','$4$','$5$','$6$']):\n",
    "    cbar.ax.text(2.5, (j * 4.2 - 2.4) / 5, lab, ha='center', va='center', color=\"mintcream\", fontsize=12, fontweight=\"extra bold\", fontfamily=\"serif\" ) # the font doesn't acutally change, only the size & color :D\n",
    "\n"
   ]
  },
  {
   "cell_type": "code",
   "execution_count": null,
   "metadata": {},
   "outputs": [],
   "source": [
    "\n",
    "plt.figure(figsize=(25, 15), dpi=80)\n",
    "plt.figure(1)\n",
    "plt.subplot(311)\n",
    "plt.title(\"Kmean 5 Components\")\n",
    "plt.imshow(KMeans_image_5, cmap=cmap5)\n",
    "\n",
    "cbar = plt.colorbar(aspect=10,shrink=0.9, pad=0.01)\n",
    "\n",
    "cbar.ax.get_yaxis().set_ticks([])\n",
    "for j, lab in enumerate(['$B$','$1$','$2$','$3$','$4$','$5$']):\n",
    "    cbar.ax.text(2, (j * 4.2 - 2.4) / 5, lab, ha='center', va='center', color=\"mintcream\", fontsize=12, fontweight=\"extra bold\", fontfamily=\"serif\" ) # the font doesn't acutally change, only the size & color :D\n",
    "\n"
   ]
  },
  {
   "cell_type": "code",
   "execution_count": null,
   "metadata": {},
   "outputs": [],
   "source": [
    "\n",
    "plt.figure(figsize=(25, 15), dpi=80)\n",
    "plt.figure(1)\n",
    "plt.subplot(311)\n",
    "plt.title(\"Gaussian image 8 Components\")\n",
    "plt.imshow(gaussian_image, cmap=cmap8)\n",
    "\n",
    "cbar = plt.colorbar(aspect=10,shrink=0.9, pad=0.01)\n",
    "\n",
    "cbar.ax.get_yaxis().set_ticks([])\n",
    "for j, lab in enumerate(['$B$','$1$','$2$','$3$','$4$','$5$','$6$','$7$','$8$']):\n",
    "    cbar.ax.text(2.5, (j * 4.5 - 3.1) / 5, lab, ha='center', va='center', color=\"mintcream\", fontsize=12, fontweight=\"extra bold\", fontfamily=\"monospace\" ) # the font doesn't acutally change, only the size & color :D\n"
   ]
  },
  {
   "cell_type": "markdown",
   "metadata": {},
   "source": [
    "# Zoomedin image Results"
   ]
  },
  {
   "cell_type": "code",
   "execution_count": null,
   "metadata": {},
   "outputs": [],
   "source": [
    "zoomed_height_max , zoomed_height_min , zoomed_width_max , zoomed_width_min = SampleZoomIn(SampleID = 21, PixelSampleID = pixel_to_sample_ID , padding_factor = 2)\n",
    "\n",
    "zoomedIn_image = KMeans_image[zoomed_height_min : zoomed_height_max+1, zoomed_width_min : zoomed_width_max+1]\n",
    "\n",
    "\n",
    "zoomedIn_image_5 = KMeans_image_5[zoomed_height_min : zoomed_height_max+1, zoomed_width_min : zoomed_width_max+1]\n"
   ]
  },
  {
   "cell_type": "code",
   "execution_count": null,
   "metadata": {},
   "outputs": [],
   "source": [
    "\n",
    "'''\n",
    "unique_cluster_labels = np.unique(zoomedIn_image)\n",
    "colorarray8_np = np.array(colorarray8)\n",
    "zoomedin_cmap = CreateColorMap(len(unique_cluster_labels) , colorarray8_np[unique_cluster_labels+1])\n",
    "\n",
    "x = np.arange(-1,len(unique_cluster_labels))\n",
    "iterations = len(x) - len(unique_cluster_labels)\n",
    "for i in range(iterations):\n",
    "    x = np.delete(x, -1)\n",
    "print(x)\n",
    "\n",
    "plt.imshow(zoomedIn_image, cmap=zoomedin_cmap)\n",
    "colorbar = plt.colorbar()\n",
    "colorbar.set_ticks(x)\n",
    "colorbar.set_ticklabels(labels[unique_cluster_labels+1])\n",
    "'''\n",
    "\n",
    "plt.figure(figsize=(25, 15), dpi=80)\n",
    "plt.figure(1)\n",
    "plt.subplot(311)\n",
    "plt.title(\"Sample 21 ZoomedIn - 8 Components\")\n",
    "plt.imshow(zoomedIn_image, cmap=cmap8)\n",
    "\n",
    "cbar = plt.colorbar(aspect=10,shrink=0.9, pad=0.01)\n",
    "\n",
    "cbar.ax.get_yaxis().set_ticks([])\n",
    "for j, lab in enumerate(['$B$','$1$','$2$','$3$','$4$','$5$','$6$','$7$','$8$']):\n",
    "    cbar.ax.text(2.5, (j * 4.5 - 3.1) / 5, lab, ha='center', va='center', color=\"mintcream\", fontsize=12, fontweight=\"extra bold\", fontfamily=\"monospace\" ) # the font doesn't acutally change, only the size & color :D\n",
    "\n",
    "\n",
    "\n",
    "\n",
    "\n"
   ]
  },
  {
   "cell_type": "code",
   "execution_count": null,
   "metadata": {},
   "outputs": [],
   "source": [
    "\n",
    "'''\n",
    "unique_cluster_labels = np.unique(zoomedIn_image)\n",
    "colorarray8_np = np.array(colorarray8)\n",
    "zoomedin_cmap = CreateColorMap(len(unique_cluster_labels) , colorarray8_np[unique_cluster_labels+1])\n",
    "\n",
    "x = np.arange(-1,len(unique_cluster_labels))\n",
    "iterations = len(x) - len(unique_cluster_labels)\n",
    "for i in range(iterations):\n",
    "    x = np.delete(x, -1)\n",
    "print(x)\n",
    "\n",
    "plt.imshow(zoomedIn_image, cmap=zoomedin_cmap)\n",
    "colorbar = plt.colorbar()\n",
    "colorbar.set_ticks(x)\n",
    "colorbar.set_ticklabels(labels[unique_cluster_labels+1])\n",
    "'''\n",
    "\n",
    "plt.figure(figsize=(25, 15), dpi=80)\n",
    "plt.figure(1)\n",
    "plt.subplot(311)\n",
    "plt.title(\"Sample 21 ZoomedIn - 5 Components\")\n",
    "plt.imshow(zoomedIn_image_5, cmap=cmap5)\n",
    "\n",
    "cbar = plt.colorbar(aspect=10,shrink=0.9, pad=0.01)\n",
    "\n",
    "cbar.ax.get_yaxis().set_ticks([])\n",
    "for j, lab in enumerate(['$B$','$1$','$2$','$3$','$4$','$5$']):\n",
    "    cbar.ax.text(1.8, (j * 4.5 - 3.1) / 5.4, lab, ha='center', va='center', color=\"mintcream\", fontsize=12, fontweight=\"extra bold\", fontfamily=\"monospace\" ) # the font doesn't acutally change, only the size & color :D\n"
   ]
  },
  {
   "cell_type": "code",
   "execution_count": null,
   "metadata": {},
   "outputs": [],
   "source": [
    "ax = plt.figure(figsize=(16,10)).gca(projection='3d')\n",
    "scatter_3d = ax.scatter(\n",
    "    xs=tsne_df['tSNE_dim1'], \n",
    "    ys=tsne_df['tSNE_dim2'], \n",
    "    zs=tsne_df['tSNE_dim3'], \n",
    "    c = kmeans.labels_,\n",
    "    cmap = cmapTSNE,\n",
    "    s = 5,\n",
    "    alpha = 1,\n",
    ")\n",
    "\n",
    "ax.set_xlabel('tSNE_dim1')\n",
    "ax.set_ylabel('tSNE_dim2')\n",
    "ax.set_zlabel('tSNE_dim3')\n",
    "ax.set_title(\"tSNE Colored map for 8 components\")\n",
    "\n",
    "\n",
    "# elev is z-axis, +ve moves up, -ve moves down\n",
    "# azim is x axis, +ve moves right, -ve moves left\n",
    "ax.view_init(elev = 30 , azim = -150) \n",
    "plt.tight_layout()"
   ]
  },
  {
   "cell_type": "code",
   "execution_count": null,
   "metadata": {},
   "outputs": [],
   "source": [
    "ax = plt.figure(figsize=(16,10)).gca(projection='3d')\n",
    "scatter_3d = ax.scatter(\n",
    "    xs=tsne_df['tSNE_dim1'], \n",
    "    ys=tsne_df['tSNE_dim2'], \n",
    "    zs=tsne_df['tSNE_dim3'], \n",
    "    c = kmeans_5.labels_,\n",
    "    cmap = cmap5_TSNE,\n",
    "    s = 5,\n",
    "    alpha = 1,\n",
    ")\n",
    "\n",
    "ax.set_xlabel('tSNE_dim1')\n",
    "ax.set_ylabel('tSNE_dim2')\n",
    "ax.set_zlabel('tSNE_dim3')\n",
    "ax.set_title(\"tSNE Colored map for 5 components\")\n",
    "\n",
    "\n",
    "# elev is z-axis, +ve moves up, -ve moves down\n",
    "# azim is x axis, +ve moves right, -ve moves left\n",
    "ax.view_init(elev = 30 , azim = -150) \n",
    "plt.tight_layout()"
   ]
  },
  {
   "cell_type": "markdown",
   "metadata": {},
   "source": [
    "# Metastasis Analysis"
   ]
  },
  {
   "cell_type": "code",
   "execution_count": null,
   "metadata": {},
   "outputs": [],
   "source": [
    "Clinical_data = pd.read_excel('ClinicalData.xlsx',\"Breast Cancer Clinical Data\")\n",
    "# print(Clinical_data[\"pN\"])"
   ]
  },
  {
   "cell_type": "code",
   "execution_count": null,
   "metadata": {},
   "outputs": [],
   "source": [
    "def metastasis_status(labels, Clinical_data, sample_ID_pixels=sample_ID_pixels):\n",
    "\n",
    "    Clinical_data_copied = Clinical_data.copy(deep=True)\n",
    "    labels_count = len(np.unique(labels))\n",
    "    Clusters = [[] for _ in range(labels_count)]\n",
    "\n",
    "    for i in range(1,len(Clinical_data)+1):\n",
    "        Pixels_Samples = np.where(sample_ID_pixels == i)[0]\n",
    "        Patient_Labels = labels[Pixels_Samples]\n",
    "\n",
    "        for cluster_label in range(labels_count):\n",
    "            Patient_Pixels = Patient_Labels[Patient_Labels == cluster_label]\n",
    "            if len(Patient_Pixels) >= int((1/labels_count * len(Patient_Labels))):\n",
    "                Clusters[cluster_label].append(i)\n",
    "\n",
    "    NonMetastasis_Clusters = [[] for _ in range(labels_count)]\n",
    "    Metastasis_Clusters = [[] for _ in range(labels_count)]\n",
    "    Metastasis_IDs = [[] for _ in range(labels_count)]\n",
    "\n",
    "    patient_id_iterator = 1\n",
    "    for i in range(0, len(Clinical_data)):\n",
    "        for j in range(labels_count):\n",
    "            if (patient_id_iterator in Clusters[j]):\n",
    "                if Clinical_data[\"pN\"][i] == 1:\n",
    "                    NonMetastasis_Clusters[j].append(1)\n",
    "                elif Clinical_data[\"pN\"][i] == 2:\n",
    "                    Metastasis_Clusters[j].append(1)\n",
    "                    Metastasis_IDs[j].append(patient_id_iterator)\n",
    "        patient_id_iterator += 1\n",
    "\n",
    "\n",
    "    return NonMetastasis_Clusters, Metastasis_Clusters\n",
    "\n"
   ]
  },
  {
   "cell_type": "code",
   "execution_count": null,
   "metadata": {},
   "outputs": [],
   "source": [
    "def plot_metastasis_status(state0, state1):\n",
    "   ind = len(state0)\n",
    "   status0 = np.zeros(ind)\n",
    "   status1 = np.zeros(ind)\n",
    "   cluster_numbers = []\n",
    "   for i in range(1, ind+1):\n",
    "      cluster_numbers.append(str(i))\n",
    "      \n",
    "\n",
    "   for i in range(len(state0)):\n",
    "      status0[i] = len(state0[i])\n",
    "   for i in range(len(state1)):\n",
    "      status1[i] = len(state1[i])\n",
    "   print(\"NonMetastasis: \" + str(status0))\n",
    "   print(\"Metastasis: \" + str(status1))\n",
    "\n",
    "   plt.bar(cluster_numbers, status0, color=\"#d4d0c8\")\n",
    "   plt.bar(cluster_numbers, status1, bottom=status0, color=\"black\")\n",
    "   plt.xticks(cluster_numbers)\n",
    "   plt.xlabel(\"Cluster numbers\")\n",
    "   plt.ylabel(\"Number of patients\")\n",
    "   plt.title(\"Metastasis Analysis of {} Clusters\".format(ind))\n",
    "   colors = {'pN0': '#d4d0c8', 'pN1': 'black'}\n",
    "   labels = list(colors.keys())\n",
    "   handles = [plt.Rectangle((0, 0), 1, 1, color=colors[label])\n",
    "              for label in labels]\n",
    "   plt.legend(handles, labels)\n",
    "\n",
    "   plt.show()\n"
   ]
  },
  {
   "cell_type": "code",
   "execution_count": null,
   "metadata": {},
   "outputs": [],
   "source": [
    "# Returns Non-Metastasis and Metastasis clusters\n",
    "state08, state18 = metastasis_status(kmeans.labels_, Clinical_data)\n",
    "state07, state17 = metastasis_status(kmeans_7.labels_, Clinical_data)\n",
    "state06, state16 = metastasis_status(kmeans_6.labels_, Clinical_data)\n",
    "state05, state15 = metastasis_status(kmeans_5.labels_, Clinical_data)\n",
    "# gmm08,gmm18=metastasis_status(gmm,Clinical_data)\n",
    "#state09,state19=metastasis_status(kmeans_9.labels_,Clinical_data)\n",
    "\n",
    "# Plots bar plot of Non-Metastasis and Metastasis clusters\n",
    "plot_metastasis_status(state08, state18)\n",
    "plot_metastasis_status(state07, state17)\n",
    "plot_metastasis_status(state06, state16)\n",
    "plot_metastasis_status(state05, state15)\n",
    "# plot_metastasis_status(gmm08,gmm18)\n",
    "#plot_metastasis_status(state09,state19)\n"
   ]
  },
  {
   "cell_type": "markdown",
   "metadata": {},
   "source": [
    "# Fisher Exact Test\n"
   ]
  },
  {
   "cell_type": "code",
   "execution_count": null,
   "metadata": {},
   "outputs": [],
   "source": [
    "'''\n",
    "#table, column fully metastatic cluster, column not fully metastatic cluster\n",
    "#row 1:               number of metastasis, number of metastasis \n",
    "#row 2:               number of non-metastasis, number of non-metastasis\n",
    "ind = len(state08)\n",
    "status0 = np.zeros(ind)\n",
    "status1 = np.zeros(ind)\n",
    "\n",
    "for i in range(len(state08)):\n",
    "    status0[i] = len(state08[i])\n",
    "for i in range(len(state18)):\n",
    "    status1[i] = len(state18[i])\n",
    "\n",
    "metastatic_cluster_N0 = 0\n",
    "metastatic_cluster_N1 = status1[fully_metastasis_cluster_label]\n",
    "\n",
    "new_status_0 = np.delete(status0,fully_metastasis_cluster_label)\n",
    "non_metastatic_cluster_N0 = sum(new_status_0)\n",
    "\n",
    "new_status_1 = np.delete(status1,fully_metastasis_cluster_label)\n",
    "non_metastatic_cluster_N1 = sum(new_status_1)\n",
    "\n",
    "table = np.array([[metastatic_cluster_N1 , non_metastatic_cluster_N1] , [metastatic_cluster_N0 , non_metastatic_cluster_N0 ]])\n",
    "M = table.sum()\n",
    "n = table[0].sum()\n",
    "N = table[:, 0].sum()\n",
    "start, end = hypergeom.support(M, n, N)\n",
    "hypergeom.pmf(np.arange(start, end+1), M, n, N)\n",
    "\n",
    "oddsr, p = fisher_exact(table, alternative='two-sided')\n",
    "p\n",
    "'''"
   ]
  },
  {
   "cell_type": "markdown",
   "metadata": {},
   "source": [
    "# SAM"
   ]
  },
  {
   "cell_type": "code",
   "execution_count": null,
   "metadata": {},
   "outputs": [],
   "source": [
    "# Detect the fully metastasis cluster\n",
    "selected_state = state05\n",
    "fully_metastasis_cluster_label = 0\n",
    "labels = kmeans_5.labels_\n",
    "\n",
    "for cluster in selected_state:\n",
    "    if not cluster: # Cluster list is empty, has no healthy patients, so it's fully metastasis cluster\n",
    "        break # fully_metastasis_cluster_label now has the right label, exit loop\n",
    "    \n",
    "    fully_metastasis_cluster_label += 1\n",
    "\n",
    "print(\"Fully metastasis cluster label's index is {} and it is cluster {}\".format(fully_metastasis_cluster_label,fully_metastasis_cluster_label+1))"
   ]
  },
  {
   "cell_type": "code",
   "execution_count": null,
   "metadata": {},
   "outputs": [],
   "source": [
    "labels_count=len(np.unique(labels))\n",
    "indices_of_patients = [[] for _ in range(len(Clinical_data))]\n",
    "Sig_Cluster=[[] for _ in range(len(Clinical_data))]\n",
    "Status=[[] for _ in range(len(Clinical_data))]\n",
    "\n",
    "for i in range(1,len(Clinical_data)+1):\n",
    "    Pixels_Samples = np.where(sample_ID_pixels == i)[0]\n",
    "    Patient_Labels = labels[Pixels_Samples]\n",
    "    \n",
    "    for cluster_label in range(labels_count):\n",
    "\n",
    "        Patient_Pixels = Patient_Labels[Patient_Labels == cluster_label]\n",
    "\n",
    "        if len(Patient_Pixels) >= int((1/labels_count * len(Patient_Labels))):\n",
    "\n",
    "            if cluster_label != fully_metastasis_cluster_label:\n",
    "                \n",
    "                Status[i-1].append(1)\n",
    "            else:\n",
    "                Status[i-1].append(2)  \n",
    "\n",
    "\n",
    "            Sig_Cluster[i-1].append(cluster_label)\n",
    "\n",
    "    for j in range(0,len(Sig_Cluster[i-1])):\n",
    "        \n",
    "        indices=np.where(labels == Sig_Cluster[i-1][j])[0]\n",
    "\n",
    "        # for element in indices:\n",
    "        #     if element in Pixels_Samples:\n",
    "                \n",
    "        #         indices_of_patients[i-1].append(element)\n",
    "\n",
    "        indices_of_patients[i-1].extend(list(set(Pixels_Samples).intersection(indices)))\n"
   ]
  },
  {
   "cell_type": "code",
   "execution_count": null,
   "metadata": {},
   "outputs": [],
   "source": [
    "Final_Status=[]\n",
    "for patient in Status:\n",
    "    if 2 in patient:\n",
    "        Final_Status.append(2)\n",
    "    else:\n",
    "        Final_Status.append(1)"
   ]
  },
  {
   "cell_type": "code",
   "execution_count": null,
   "metadata": {},
   "outputs": [],
   "source": [
    "Unique_IDs = list(range(1,len(Clinical_data)+1))\n",
    "Metastasis_Patients = [ ]\n",
    "Average_protein_values = [ ]\n",
    "\n",
    "for i in range(0,len(Unique_IDs)):\n",
    "    Patient_MSI_values = sample_only_data[indices_of_patients[i]]\n",
    "    Metastasis_Patients.append(Patient_MSI_values)\n",
    "    Average_protein_values.append(np.average(Metastasis_Patients[i], axis=0))\n",
    "    "
   ]
  },
  {
   "cell_type": "code",
   "execution_count": null,
   "metadata": {},
   "outputs": [],
   "source": [
    "protein_dataframe = pd.DataFrame(Average_protein_values,columns=peak_list[:,0].astype(int))\n",
    "protein_dataframe[\"Status\"] = Final_Status\n",
    "# protein_dataframe[\"SampleID\"] = np.arange(1,len(Clinical_data)+1)"
   ]
  },
  {
   "cell_type": "code",
   "execution_count": null,
   "metadata": {},
   "outputs": [],
   "source": [
    "protein_dataframe"
   ]
  },
  {
   "cell_type": "code",
   "execution_count": null,
   "metadata": {},
   "outputs": [],
   "source": [
    "protein_dataframe.to_csv(\"BreastCancerAverageSpectrumValues.csv\",index=False)"
   ]
  },
  {
   "cell_type": "code",
   "execution_count": null,
   "metadata": {},
   "outputs": [],
   "source": [
    "protein_ion = 4965\n",
    "protein_index = protein_dataframe.columns.get_loc(protein_ion)\n",
    "print(protein_index)"
   ]
  },
  {
   "cell_type": "code",
   "execution_count": null,
   "metadata": {},
   "outputs": [],
   "source": [
    "scaler = MinMaxScaler(feature_range=(-1,1))\n",
    "\n",
    "Scaled_MSI_Protein_Values = scaler.fit_transform(MSI_data_cube[:,:,protein_index]) "
   ]
  },
  {
   "cell_type": "code",
   "execution_count": null,
   "metadata": {},
   "outputs": [],
   "source": [
    "# np.unique(MSI_data_cube[:,:,protein_index])[1]\n",
    "protein_arr = copy.deepcopy(MSI_data_cube[:,:,protein_index])\n",
    "#protein_arr = copy.deepcopy(Scaled_MSI_Protein_Values)\n",
    "\n",
    "mask = (MSI_data_cube[:,:,protein_index] == 0)\n",
    "#mask = (Scaled_MSI_Protein_Values == -1) \n",
    "\n",
    "protein_arr[mask]= 0"
   ]
  },
  {
   "cell_type": "code",
   "execution_count": null,
   "metadata": {},
   "outputs": [],
   "source": [
    "def adjust_lightness(color, amount=0.5):\n",
    "    import matplotlib.colors as mc\n",
    "    import colorsys\n",
    "    try:\n",
    "        c = mc.cnames[color]\n",
    "    except:\n",
    "        c = color\n",
    "    c = colorsys.rgb_to_hls(*mc.to_rgb(c))\n",
    "    return colorsys.hls_to_rgb(c[0], max(0, min(1, amount * c[1])), c[2])\n",
    "\n",
    "\n",
    "colorarray=[\"black\",adjust_lightness(\"blue\",1.2),adjust_lightness(\"lime\",1.2),adjust_lightness(\"yellow\",1.3),adjust_lightness(\"red\",1)]\n",
    "cmap = CreateColorMap_Continuous(len(colorarray)+1,colorarray)\n",
    "\n",
    "plt.figure(figsize=(25, 15), dpi=80)\n",
    "plt.figure(1)\n",
    "plt.subplot(311)\n",
    "plt.imshow(protein_arr,cmap)\n",
    "colorbar = plt.colorbar(aspect=10,shrink=0.9, pad=0.01)\n",
    "max_tick = 0.026 # variable to be edited for max tick\n",
    "\n",
    "colorbar.ax.tick_params(size=0)\n",
    "colorbar.set_ticks([0,max_tick]) # Comment the colorbar lines and look at the tick values to find the max value tick to be edited\n",
    "colorbar.ax.set_yticklabels(['Low','High'],weight='bold',fontsize=24) \n",
    "plt.text(1420,300, \"{}{}\".format(\"m/z = \", protein_ion) , fontsize = 24,fontweight=\"bold\",bbox = dict(facecolor = 'white', alpha = 1))\n",
    "plt.tight_layout()\n",
    "plt.xticks([])\n",
    "plt.yticks([])\n",
    "plt.show()\n"
   ]
  },
  {
   "cell_type": "code",
   "execution_count": null,
   "metadata": {},
   "outputs": [],
   "source": [
    "cmhot = plt.get_cmap(\"hot\") #name of cmap u want from matplotlib\n",
    "\n",
    "ax = plt.figure(figsize=(16,10)).gca(projection='3d')\n",
    "scatter_3d = ax.scatter(\n",
    "    xs=tsne_df['tSNE_dim1'], \n",
    "    ys=tsne_df['tSNE_dim2'], \n",
    "    zs=tsne_df['tSNE_dim3'], \n",
    "    c = sample_only_data[:,protein_index],\n",
    "    cmap = cmhot,\n",
    "    s = 5,\n",
    "    alpha = 1,\n",
    ")\n",
    "\n",
    "ax.set_xlabel('tSNE_dim1')\n",
    "ax.set_ylabel('tSNE_dim2')\n",
    "ax.set_zlabel('tSNE_dim3')\n",
    "\n",
    "\n",
    "# elev is z-axis, +ve moves up, -ve moves down\n",
    "# azim is x axis, +ve moves right, -ve moves left\n",
    "ax.view_init(elev = 30 , azim = -150) \n",
    "plt.tight_layout()"
   ]
  },
  {
   "cell_type": "markdown",
   "metadata": {},
   "source": [
    "# Classifier\n"
   ]
  },
  {
   "cell_type": "code",
   "execution_count": null,
   "metadata": {},
   "outputs": [],
   "source": [
    "def readSignificantProteins(file , delete=False):\n",
    "    import json\n",
    "    with open(file) as f:\n",
    "        proteins = json.load(f)\n",
    "\n",
    "\n",
    "    edited_proteins = [ ]\n",
    "    for protein in proteins:\n",
    "        for string in protein:\n",
    "            string = string[1::]\n",
    "            string = int(string)\n",
    "            edited_proteins.append(string)\n",
    "\n",
    "    # To delete the file, in order to be not confused with old versions of same file\n",
    "    if delete == True:\n",
    "        import os\n",
    "        os.remove(file)\n",
    "\n",
    "    return edited_proteins"
   ]
  },
  {
   "cell_type": "code",
   "execution_count": null,
   "metadata": {},
   "outputs": [],
   "source": [
    "SAM_protein = readSignificantProteins(\"significant_breast_proteins.json\",delete=False)\n",
    "\n",
    "# Check the metastasis analysis before relying on this value\n",
    "# Detect the fully metastasis cluster, need to use the chosen state (at k=5 is tested) to get the metastasis cluster \n",
    "selected_state = state05\n",
    "fully_metastasis_cluster_label = 0\n",
    "\n",
    "for cluster in selected_state:\n",
    "    if not cluster: # Cluster list is empty, has no healthy patients, so it's fully metastasis cluster\n",
    "        break # fully_metastasis_cluster_label now has the right label, exit loop\n",
    "    \n",
    "    fully_metastasis_cluster_label += 1\n",
    "\n",
    "print(\"Fully metastasis cluster label's index is {} and it is cluster {}\".format(fully_metastasis_cluster_label,fully_metastasis_cluster_label+1))"
   ]
  },
  {
   "cell_type": "code",
   "execution_count": null,
   "metadata": {},
   "outputs": [],
   "source": [
    "SAM_protein_indices=[]\n",
    "for i in range(len(peak_list)):\n",
    "\n",
    "    if peak_list[i][0] in SAM_protein:\n",
    "        SAM_protein_indices.append(i)"
   ]
  },
  {
   "cell_type": "code",
   "execution_count": null,
   "metadata": {},
   "outputs": [],
   "source": [
    "'''\n",
    "Entire_Models_MSI_Train_Data = [ ]\n",
    "Entire_Models_MSI_Test_Data = [ ]\n",
    "\n",
    "for patient_ID in range(1,len(Clinical_data)+1):\n",
    "    test_patient_indicies=np.where(sample_ID_pixels == patient_ID)\n",
    "\n",
    "    mask = np.ones(sample_only_scaled_data.shape[0], dtype=bool)\n",
    "    mask[test_patient_indicies] = False\n",
    "\n",
    "    Entire_Models_MSI_Train_Data.append(sample_only_scaled_data[mask][:,SAM_protein_indices])\n",
    "    Entire_Models_MSI_Test_Data.append(sample_only_scaled_data[test_patient_indicies][:,SAM_protein_indices])\n",
    "''' # OR run this, relying on one patient then another patient\n",
    "patient_ID = 11\n",
    "test_patient_indicies=np.where(sample_ID_pixels == patient_ID)\n",
    "\n",
    "mask = np.ones(sample_only_scaled_data.shape[0], dtype=bool)\n",
    "mask[test_patient_indicies] = False\n",
    "\n",
    "train_data = sample_only_scaled_data[mask]\n",
    "test_data = sample_only_scaled_data[test_patient_indicies]\n",
    "\n",
    "\n",
    "train_data = train_data[:,SAM_protein_indices]\n",
    "test_data = test_data[:,SAM_protein_indices]"
   ]
  },
  {
   "cell_type": "code",
   "execution_count": null,
   "metadata": {},
   "outputs": [],
   "source": [
    "labels = kmeans_5.labels_\n",
    "\n",
    "# Change Fully Metastasis cluster to the one identified in the metastasis analysis (use index not actual value)\n",
    "Fully_Metastasis_cluster = fully_metastasis_cluster_label\n",
    "\n",
    "Non_Metastasis = 1\n",
    "Metastasis = 2\n",
    "\n",
    "labels_count=len(np.unique(labels))\n",
    "Status=[[] for _ in range(len(Clinical_data))]\n",
    "\n",
    "dropped_patient = -1\n",
    "\n",
    "for i in range(1,len(Clinical_data)+1):\n",
    "\n",
    "    if i == dropped_patient:\n",
    "        break\n",
    "\n",
    "    Pixels_Samples = np.where(sample_ID_pixels == i)[0]\n",
    "    Patient_Labels = labels[Pixels_Samples]\n",
    "    \n",
    "    for cluster_label in range(labels_count):\n",
    "\n",
    "        Patient_Pixels = Patient_Labels[Patient_Labels == cluster_label]\n",
    "\n",
    "        if len(Patient_Pixels) >= int((1/labels_count * len(Patient_Labels))):\n",
    "\n",
    "            if cluster_label != Fully_Metastasis_cluster:\n",
    "                \n",
    "                Status[i-1].append(1)\n",
    "            else:\n",
    "                Status[i-1].append(2)  \n",
    "\n",
    "\n"
   ]
  },
  {
   "cell_type": "code",
   "execution_count": null,
   "metadata": {},
   "outputs": [],
   "source": [
    "Final_Status=[]\n",
    "for patient in Status:\n",
    "    if 2 in patient:\n",
    "        Final_Status.append(2)\n",
    "    else:\n",
    "        Final_Status.append(1)"
   ]
  },
  {
   "cell_type": "code",
   "execution_count": null,
   "metadata": {},
   "outputs": [],
   "source": [
    "Target_labels=copy.deepcopy(labels)\n",
    "\n",
    "for i in range(1,len(Final_Status)+1):\n",
    "    if Final_Status[i-1] == 2:\n",
    "        Pixels_Samples = np.where(sample_ID_pixels == i)[0]\n",
    "        Target_labels[Pixels_Samples] = Metastasis\n",
    "    \n",
    "Target_labels[Target_labels != Metastasis] = Non_Metastasis\n",
    "\n",
    "train_labels=Target_labels[mask]\n",
    "test_labels=Target_labels[test_patient_indicies]"
   ]
  },
  {
   "cell_type": "code",
   "execution_count": null,
   "metadata": {},
   "outputs": [],
   "source": [
    "#SVM Model\n",
    "\n",
    "from sklearn import svm\n",
    "\n",
    "#Create a svm Classifier\n",
    "clf = svm.SVC(kernel='rbf' , C = 0.1)\n",
    "\n",
    "#Train the model using the training sets\n",
    "clf.fit(train_data, train_labels)\n",
    "\n",
    "#Predict the response for test dataset\n",
    "y_pred = clf.predict(test_data)"
   ]
  },
  {
   "cell_type": "code",
   "execution_count": null,
   "metadata": {},
   "outputs": [],
   "source": [
    "Probability_arr=np.unique(y_pred,return_counts=True)"
   ]
  },
  {
   "cell_type": "code",
   "execution_count": null,
   "metadata": {},
   "outputs": [],
   "source": [
    "Total_Propability = 0\n",
    "Metastasis_prob = 0\n",
    "Non_Metastasis_prob = 0\n",
    "\n",
    "for Probability in Probability_arr[1]:\n",
    "    Total_Propability += Probability\n",
    "\n",
    "increment = 0\n",
    "for Metastasis_label in Probability_arr[0]:\n",
    "    if Metastasis_label == Non_Metastasis:\n",
    "        Non_Metastasis_prob = (Probability_arr[1][increment] / Total_Propability) * 100\n",
    "    elif Metastasis_label == Metastasis:\n",
    "        Metastasis_prob = (Probability_arr[1][increment] / Total_Propability) * 100\n",
    "    increment += 1\n",
    "\n",
    "print(\"Metastasis probability : {} \\nNon-Metastasis probability : {}\".format(Metastasis_prob,Non_Metastasis_prob))\n"
   ]
  },
  {
   "cell_type": "code",
   "execution_count": null,
   "metadata": {},
   "outputs": [],
   "source": [
    "######    KNN Model ######\n",
    "\n",
    "from sklearn.neighbors import KNeighborsClassifier\n",
    "\n",
    "model = KNeighborsClassifier(n_neighbors=5)\n",
    "\n",
    "# Train the model using the training sets\n",
    "model.fit(train_data,train_labels)"
   ]
  },
  {
   "cell_type": "code",
   "execution_count": null,
   "metadata": {},
   "outputs": [],
   "source": [
    "predicted_labels= model.predict(test_data)"
   ]
  },
  {
   "cell_type": "code",
   "execution_count": null,
   "metadata": {},
   "outputs": [],
   "source": [
    "Probability_arr=np.unique(predicted_labels,return_counts=True)"
   ]
  },
  {
   "cell_type": "code",
   "execution_count": null,
   "metadata": {},
   "outputs": [],
   "source": [
    "Total_Propability = 0\n",
    "Metastasis_prob = 0\n",
    "Non_Metastasis_prob = 0\n",
    "\n",
    "for Probability in Probability_arr[1]:\n",
    "    Total_Propability += Probability\n",
    "\n",
    "increment = 0\n",
    "for Metastasis_label in Probability_arr[0]:\n",
    "    if Metastasis_label == 1:\n",
    "        Non_Metastasis_prob = (Probability_arr[1][increment] / Total_Propability) * 100\n",
    "    elif Metastasis_label == 2:\n",
    "        Metastasis_prob = (Probability_arr[1][increment] / Total_Propability) * 100\n",
    "    increment += 1\n",
    "\n",
    "print(\"Metastasis probability : {} \\nNon-Metastasis probability : {}\".format(Metastasis_prob,Non_Metastasis_prob))\n"
   ]
  },
  {
   "cell_type": "code",
   "execution_count": null,
   "metadata": {},
   "outputs": [],
   "source": [
    "# Prepare this dataframe (total results) only once\n",
    "total_results_dataframe = pd.DataFrame(columns=[\"Patient to be predicted/left out\" , \"Metastasis-Free Subpopulation\" , \"Metastasis Subpopulation\" , \n",
    "\"Metastasis Status\", \"SAM Features for each tSNE run on new subset\"])\n",
    "\n",
    "results_dataframe = {}\n",
    "patient_ID = 1\n",
    "results_dataframe[\"Patient to be predicted/left out\"] = patient_ID\n",
    "results_dataframe[\"Metastasis-Free Subpopulation\"] = Non_Metastasis_prob\n",
    "results_dataframe[\"Metastasis Subpopulation\"] = Metastasis_prob\n",
    "results_dataframe[\"Metastasis Status\"] = Clinical_data[\"pN\"][patient_ID-1]\n",
    "results_dataframe[\"SAM Features for each tSNE run on new subset\"] = \"Significant Features : m/z = \" + str(SAM_protein)\n",
    "\n",
    "results_dataframe = pd.DataFrame([results_dataframe])\n",
    "total_results_dataframe = total_results_dataframe.append(results_dataframe)\n",
    "\n",
    "total_results_dataframe"
   ]
  }
 ],
 "metadata": {
  "interpreter": {
   "hash": "3bbc2d5af10c5c6001f514008ff63472a005acf99c7e4d77d708cf2bbdd285f1"
  },
  "kernelspec": {
   "display_name": "Python 3.8.8 64-bit ('base': conda)",
   "language": "python",
   "name": "python3"
  },
  "language_info": {
   "codemirror_mode": {
    "name": "ipython",
    "version": 3
   },
   "file_extension": ".py",
   "mimetype": "text/x-python",
   "name": "python",
   "nbconvert_exporter": "python",
   "pygments_lexer": "ipython3",
   "version": "3.8.5"
  },
  "orig_nbformat": 4
 },
 "nbformat": 4,
 "nbformat_minor": 2
}
