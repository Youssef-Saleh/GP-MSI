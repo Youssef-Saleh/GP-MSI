{
 "cells": [
  {
   "cell_type": "code",
   "execution_count": 32,
   "metadata": {},
   "outputs": [],
   "source": [
    "import matplotlib.pyplot as plt\n",
    "import seaborn as sns\n",
    "import pandas as pd\n",
    "import numpy as np"
   ]
  },
  {
   "cell_type": "code",
   "execution_count": 33,
   "metadata": {},
   "outputs": [],
   "source": [
    "GastricResults = pd.read_csv(\"total_GastricCancer_results_SVM.csv\")"
   ]
  },
  {
   "cell_type": "code",
   "execution_count": 34,
   "metadata": {},
   "outputs": [
    {
     "data": {
      "text/html": [
       "<div>\n",
       "<style scoped>\n",
       "    .dataframe tbody tr th:only-of-type {\n",
       "        vertical-align: middle;\n",
       "    }\n",
       "\n",
       "    .dataframe tbody tr th {\n",
       "        vertical-align: top;\n",
       "    }\n",
       "\n",
       "    .dataframe thead th {\n",
       "        text-align: right;\n",
       "    }\n",
       "</style>\n",
       "<table border=\"1\" class=\"dataframe\">\n",
       "  <thead>\n",
       "    <tr style=\"text-align: right;\">\n",
       "      <th></th>\n",
       "      <th>Patient to be predicted/left out</th>\n",
       "      <th>Poor Survival Subpopulation</th>\n",
       "      <th>Moderate Survival Subpopulation</th>\n",
       "      <th>Good Survival Subpopulation</th>\n",
       "      <th>Predicted Survivability</th>\n",
       "      <th>Surv(months)</th>\n",
       "      <th>Survival Status</th>\n",
       "      <th>Number of Clusters</th>\n",
       "      <th>SAM Features for each tSNE run on new subset</th>\n",
       "    </tr>\n",
       "  </thead>\n",
       "  <tbody>\n",
       "    <tr>\n",
       "      <th>0</th>\n",
       "      <td>1</td>\n",
       "      <td>81.48</td>\n",
       "      <td>12.49</td>\n",
       "      <td>6.03</td>\n",
       "      <td>Poor</td>\n",
       "      <td>34.23</td>\n",
       "      <td>0</td>\n",
       "      <td>5</td>\n",
       "      <td>Significant Features : m/z = [7009, 3516, 3482...</td>\n",
       "    </tr>\n",
       "    <tr>\n",
       "      <th>1</th>\n",
       "      <td>2</td>\n",
       "      <td>0.14</td>\n",
       "      <td>73.33</td>\n",
       "      <td>26.52</td>\n",
       "      <td>High</td>\n",
       "      <td>0.67</td>\n",
       "      <td>1</td>\n",
       "      <td>4</td>\n",
       "      <td>Significant Features : m/z = [3374, 3445, 3409...</td>\n",
       "    </tr>\n",
       "    <tr>\n",
       "      <th>2</th>\n",
       "      <td>3</td>\n",
       "      <td>9.73</td>\n",
       "      <td>4.98</td>\n",
       "      <td>85.29</td>\n",
       "      <td>High</td>\n",
       "      <td>0.43</td>\n",
       "      <td>0</td>\n",
       "      <td>6</td>\n",
       "      <td>Significant Features : m/z = [3409, 3374, 3445...</td>\n",
       "    </tr>\n",
       "    <tr>\n",
       "      <th>3</th>\n",
       "      <td>4</td>\n",
       "      <td>29.78</td>\n",
       "      <td>46.67</td>\n",
       "      <td>23.56</td>\n",
       "      <td>Moderate</td>\n",
       "      <td>45.00</td>\n",
       "      <td>0</td>\n",
       "      <td>4</td>\n",
       "      <td>Significant Features : m/z = [3374, 3445, 3409...</td>\n",
       "    </tr>\n",
       "    <tr>\n",
       "      <th>4</th>\n",
       "      <td>5</td>\n",
       "      <td>43.66</td>\n",
       "      <td>36.75</td>\n",
       "      <td>19.59</td>\n",
       "      <td>Moderate</td>\n",
       "      <td>33.53</td>\n",
       "      <td>1</td>\n",
       "      <td>4</td>\n",
       "      <td>Significant Features : m/z = [3374, 3445, 3409...</td>\n",
       "    </tr>\n",
       "    <tr>\n",
       "      <th>...</th>\n",
       "      <td>...</td>\n",
       "      <td>...</td>\n",
       "      <td>...</td>\n",
       "      <td>...</td>\n",
       "      <td>...</td>\n",
       "      <td>...</td>\n",
       "      <td>...</td>\n",
       "      <td>...</td>\n",
       "      <td>...</td>\n",
       "    </tr>\n",
       "    <tr>\n",
       "      <th>58</th>\n",
       "      <td>59</td>\n",
       "      <td>77.69</td>\n",
       "      <td>1.41</td>\n",
       "      <td>20.90</td>\n",
       "      <td>Poor</td>\n",
       "      <td>20.77</td>\n",
       "      <td>1</td>\n",
       "      <td>3</td>\n",
       "      <td>Significant Features : m/z = [3445, 3374, 3409...</td>\n",
       "    </tr>\n",
       "    <tr>\n",
       "      <th>59</th>\n",
       "      <td>60</td>\n",
       "      <td>54.12</td>\n",
       "      <td>27.06</td>\n",
       "      <td>18.82</td>\n",
       "      <td>Poor</td>\n",
       "      <td>0.30</td>\n",
       "      <td>1</td>\n",
       "      <td>4</td>\n",
       "      <td>Significant Features : m/z = [3374, 3445, 3409...</td>\n",
       "    </tr>\n",
       "    <tr>\n",
       "      <th>60</th>\n",
       "      <td>61</td>\n",
       "      <td>50.77</td>\n",
       "      <td>46.05</td>\n",
       "      <td>3.18</td>\n",
       "      <td>Poor</td>\n",
       "      <td>2.67</td>\n",
       "      <td>1</td>\n",
       "      <td>4</td>\n",
       "      <td>Significant Features : m/z = [3374, 3445, 3409...</td>\n",
       "    </tr>\n",
       "    <tr>\n",
       "      <th>61</th>\n",
       "      <td>62</td>\n",
       "      <td>49.26</td>\n",
       "      <td>16.12</td>\n",
       "      <td>34.62</td>\n",
       "      <td>Moderate</td>\n",
       "      <td>0.47</td>\n",
       "      <td>1</td>\n",
       "      <td>4</td>\n",
       "      <td>Significant Features : m/z = [3374, 3445, 3409...</td>\n",
       "    </tr>\n",
       "    <tr>\n",
       "      <th>62</th>\n",
       "      <td>63</td>\n",
       "      <td>0.00</td>\n",
       "      <td>85.71</td>\n",
       "      <td>14.29</td>\n",
       "      <td>High</td>\n",
       "      <td>1.13</td>\n",
       "      <td>1</td>\n",
       "      <td>4</td>\n",
       "      <td>Significant Features : m/z = [3374, 3445, 3409...</td>\n",
       "    </tr>\n",
       "  </tbody>\n",
       "</table>\n",
       "<p>63 rows × 9 columns</p>\n",
       "</div>"
      ],
      "text/plain": [
       "    Patient to be predicted/left out  Poor Survival Subpopulation  \\\n",
       "0                                  1                        81.48   \n",
       "1                                  2                         0.14   \n",
       "2                                  3                         9.73   \n",
       "3                                  4                        29.78   \n",
       "4                                  5                        43.66   \n",
       "..                               ...                          ...   \n",
       "58                                59                        77.69   \n",
       "59                                60                        54.12   \n",
       "60                                61                        50.77   \n",
       "61                                62                        49.26   \n",
       "62                                63                         0.00   \n",
       "\n",
       "    Moderate Survival Subpopulation  Good Survival Subpopulation  \\\n",
       "0                             12.49                         6.03   \n",
       "1                             73.33                        26.52   \n",
       "2                              4.98                        85.29   \n",
       "3                             46.67                        23.56   \n",
       "4                             36.75                        19.59   \n",
       "..                              ...                          ...   \n",
       "58                             1.41                        20.90   \n",
       "59                            27.06                        18.82   \n",
       "60                            46.05                         3.18   \n",
       "61                            16.12                        34.62   \n",
       "62                            85.71                        14.29   \n",
       "\n",
       "   Predicted Survivability  Surv(months)  Survival Status  Number of Clusters  \\\n",
       "0                     Poor         34.23                0                   5   \n",
       "1                     High          0.67                1                   4   \n",
       "2                     High          0.43                0                   6   \n",
       "3                 Moderate         45.00                0                   4   \n",
       "4                 Moderate         33.53                1                   4   \n",
       "..                     ...           ...              ...                 ...   \n",
       "58                    Poor         20.77                1                   3   \n",
       "59                    Poor          0.30                1                   4   \n",
       "60                    Poor          2.67                1                   4   \n",
       "61                Moderate          0.47                1                   4   \n",
       "62                    High          1.13                1                   4   \n",
       "\n",
       "         SAM Features for each tSNE run on new subset  \n",
       "0   Significant Features : m/z = [7009, 3516, 3482...  \n",
       "1   Significant Features : m/z = [3374, 3445, 3409...  \n",
       "2   Significant Features : m/z = [3409, 3374, 3445...  \n",
       "3   Significant Features : m/z = [3374, 3445, 3409...  \n",
       "4   Significant Features : m/z = [3374, 3445, 3409...  \n",
       "..                                                ...  \n",
       "58  Significant Features : m/z = [3445, 3374, 3409...  \n",
       "59  Significant Features : m/z = [3374, 3445, 3409...  \n",
       "60  Significant Features : m/z = [3374, 3445, 3409...  \n",
       "61  Significant Features : m/z = [3374, 3445, 3409...  \n",
       "62  Significant Features : m/z = [3374, 3445, 3409...  \n",
       "\n",
       "[63 rows x 9 columns]"
      ]
     },
     "execution_count": 34,
     "metadata": {},
     "output_type": "execute_result"
    }
   ],
   "source": [
    "GastricResults"
   ]
  },
  {
   "cell_type": "code",
   "execution_count": 35,
   "metadata": {},
   "outputs": [],
   "source": [
    "# GastricResults_ref = pd.read_excel(\"C:/Users/omars/Desktop/model_results_reference - Copy.xls\")\n",
    "# Poor_reference = GastricResults_ref[\"Poor Survival Subpopulation\"].to_numpy()\n",
    "# predictions = []\n",
    "# for i in Poor_reference:\n",
    "#     if i <= 10:\n",
    "#         predictions.append(\"High\")\n",
    "#     elif i > 10 and i <= 50:\n",
    "#         predictions.append(\"Moderate\")\n",
    "#     elif i > 50:\n",
    "#         predictions.append(\"Poor\")\n",
    "\n",
    "# GastricResults_ref[\"Predicted Survivability\"] = predictions\n",
    "# GastricResults = GastricResults_ref"
   ]
  },
  {
   "cell_type": "code",
   "execution_count": 36,
   "metadata": {},
   "outputs": [],
   "source": [
    "Significant_Proteins = GastricResults[\"SAM Features for each tSNE run on new subset\"].to_numpy()"
   ]
  },
  {
   "cell_type": "code",
   "execution_count": 37,
   "metadata": {},
   "outputs": [
    {
     "data": {
      "text/html": [
       "<div>\n",
       "<style scoped>\n",
       "    .dataframe tbody tr th:only-of-type {\n",
       "        vertical-align: middle;\n",
       "    }\n",
       "\n",
       "    .dataframe tbody tr th {\n",
       "        vertical-align: top;\n",
       "    }\n",
       "\n",
       "    .dataframe thead th {\n",
       "        text-align: right;\n",
       "    }\n",
       "</style>\n",
       "<table border=\"1\" class=\"dataframe\">\n",
       "  <thead>\n",
       "    <tr style=\"text-align: right;\">\n",
       "      <th></th>\n",
       "      <th>Patient to be predicted/left out</th>\n",
       "      <th>Poor Survival Subpopulation</th>\n",
       "      <th>Moderate Survival Subpopulation</th>\n",
       "      <th>Good Survival Subpopulation</th>\n",
       "      <th>Predicted Survivability</th>\n",
       "      <th>Surv(months)</th>\n",
       "      <th>Survival Status</th>\n",
       "      <th>Number of Clusters</th>\n",
       "      <th>SAM Features for each tSNE run on new subset</th>\n",
       "    </tr>\n",
       "  </thead>\n",
       "  <tbody>\n",
       "    <tr>\n",
       "      <th>6</th>\n",
       "      <td>7</td>\n",
       "      <td>0.00</td>\n",
       "      <td>100.00</td>\n",
       "      <td>0.00</td>\n",
       "      <td>High</td>\n",
       "      <td>1.57</td>\n",
       "      <td>0</td>\n",
       "      <td>4</td>\n",
       "      <td>Significant Features : m/z = [3374, 3445, 3409...</td>\n",
       "    </tr>\n",
       "    <tr>\n",
       "      <th>10</th>\n",
       "      <td>11</td>\n",
       "      <td>0.00</td>\n",
       "      <td>98.70</td>\n",
       "      <td>1.30</td>\n",
       "      <td>High</td>\n",
       "      <td>54.17</td>\n",
       "      <td>0</td>\n",
       "      <td>5</td>\n",
       "      <td>Significant Features : m/z = [3374, 3445, 3409...</td>\n",
       "    </tr>\n",
       "    <tr>\n",
       "      <th>17</th>\n",
       "      <td>18</td>\n",
       "      <td>0.00</td>\n",
       "      <td>100.00</td>\n",
       "      <td>0.00</td>\n",
       "      <td>High</td>\n",
       "      <td>0.57</td>\n",
       "      <td>1</td>\n",
       "      <td>5</td>\n",
       "      <td>Significant Features : m/z = [3445, 3374, 3711...</td>\n",
       "    </tr>\n",
       "    <tr>\n",
       "      <th>19</th>\n",
       "      <td>20</td>\n",
       "      <td>1.79</td>\n",
       "      <td>98.21</td>\n",
       "      <td>0.00</td>\n",
       "      <td>High</td>\n",
       "      <td>1.87</td>\n",
       "      <td>0</td>\n",
       "      <td>4</td>\n",
       "      <td>Significant Features : m/z = [3374, 3445, 3409...</td>\n",
       "    </tr>\n",
       "    <tr>\n",
       "      <th>29</th>\n",
       "      <td>30</td>\n",
       "      <td>0.34</td>\n",
       "      <td>98.80</td>\n",
       "      <td>0.86</td>\n",
       "      <td>High</td>\n",
       "      <td>12.93</td>\n",
       "      <td>0</td>\n",
       "      <td>4</td>\n",
       "      <td>Significant Features : m/z = [3374, 3445, 3409...</td>\n",
       "    </tr>\n",
       "    <tr>\n",
       "      <th>44</th>\n",
       "      <td>45</td>\n",
       "      <td>3.78</td>\n",
       "      <td>96.22</td>\n",
       "      <td>0.00</td>\n",
       "      <td>High</td>\n",
       "      <td>14.33</td>\n",
       "      <td>1</td>\n",
       "      <td>4</td>\n",
       "      <td>Significant Features : m/z = [3374, 3445, 3409...</td>\n",
       "    </tr>\n",
       "    <tr>\n",
       "      <th>45</th>\n",
       "      <td>46</td>\n",
       "      <td>0.23</td>\n",
       "      <td>96.78</td>\n",
       "      <td>2.99</td>\n",
       "      <td>High</td>\n",
       "      <td>6.10</td>\n",
       "      <td>1</td>\n",
       "      <td>4</td>\n",
       "      <td>Significant Features : m/z = [3374, 3445, 3409...</td>\n",
       "    </tr>\n",
       "  </tbody>\n",
       "</table>\n",
       "</div>"
      ],
      "text/plain": [
       "    Patient to be predicted/left out  Poor Survival Subpopulation  \\\n",
       "6                                  7                         0.00   \n",
       "10                                11                         0.00   \n",
       "17                                18                         0.00   \n",
       "19                                20                         1.79   \n",
       "29                                30                         0.34   \n",
       "44                                45                         3.78   \n",
       "45                                46                         0.23   \n",
       "\n",
       "    Moderate Survival Subpopulation  Good Survival Subpopulation  \\\n",
       "6                            100.00                         0.00   \n",
       "10                            98.70                         1.30   \n",
       "17                           100.00                         0.00   \n",
       "19                            98.21                         0.00   \n",
       "29                            98.80                         0.86   \n",
       "44                            96.22                         0.00   \n",
       "45                            96.78                         2.99   \n",
       "\n",
       "   Predicted Survivability  Surv(months)  Survival Status  Number of Clusters  \\\n",
       "6                     High          1.57                0                   4   \n",
       "10                    High         54.17                0                   5   \n",
       "17                    High          0.57                1                   5   \n",
       "19                    High          1.87                0                   4   \n",
       "29                    High         12.93                0                   4   \n",
       "44                    High         14.33                1                   4   \n",
       "45                    High          6.10                1                   4   \n",
       "\n",
       "         SAM Features for each tSNE run on new subset  \n",
       "6   Significant Features : m/z = [3374, 3445, 3409...  \n",
       "10  Significant Features : m/z = [3374, 3445, 3409...  \n",
       "17  Significant Features : m/z = [3445, 3374, 3711...  \n",
       "19  Significant Features : m/z = [3374, 3445, 3409...  \n",
       "29  Significant Features : m/z = [3374, 3445, 3409...  \n",
       "44  Significant Features : m/z = [3374, 3445, 3409...  \n",
       "45  Significant Features : m/z = [3374, 3445, 3409...  "
      ]
     },
     "execution_count": 37,
     "metadata": {},
     "output_type": "execute_result"
    }
   ],
   "source": [
    "# Consider any patient with above 90% moderate population as moderate\n",
    "GastricResults[GastricResults[\"Moderate Survival Subpopulation\"] >= 90]"
   ]
  },
  {
   "cell_type": "code",
   "execution_count": 38,
   "metadata": {},
   "outputs": [],
   "source": [
    "mask = GastricResults[\"Moderate Survival Subpopulation\"] >= 90\n",
    "column_name = 'Predicted Survivability'\n",
    "GastricResults.loc[mask, column_name] = \"Moderate\""
   ]
  },
  {
   "cell_type": "code",
   "execution_count": 39,
   "metadata": {},
   "outputs": [],
   "source": [
    "Significant_proteins_values_list = [ ]\n",
    "for i in range(len(Significant_Proteins)):\n",
    "    Significant_proteins_values = Significant_Proteins[i].split('=')[1].split('[')[1].split(']')[0].split(',')\n",
    "    Significant_proteins_values = [int(i) for i in Significant_proteins_values]\n",
    "    Significant_proteins_values_list.append(Significant_proteins_values)"
   ]
  },
  {
   "cell_type": "code",
   "execution_count": 40,
   "metadata": {},
   "outputs": [],
   "source": [
    "from functools import reduce\n",
    "flattened_Significant_proteins_values = reduce(lambda x, y: x+y, Significant_proteins_values_list)\n",
    "unique_values, counts = np.unique(flattened_Significant_proteins_values,return_counts=True)\n",
    "\n",
    "count_sort_ind = np.argsort(-counts)\n",
    "unique_values = unique_values[count_sort_ind]\n",
    "counts = counts[count_sort_ind]"
   ]
  },
  {
   "cell_type": "code",
   "execution_count": 41,
   "metadata": {},
   "outputs": [
    {
     "data": {
      "text/plain": [
       "array([63, 63, 61, 61, 58, 58, 57, 53, 45, 43,  3,  2,  2,  2,  1,  1,  1,\n",
       "        1,  1,  1,  1,  1], dtype=int64)"
      ]
     },
     "execution_count": 41,
     "metadata": {},
     "output_type": "execute_result"
    }
   ],
   "source": [
    "counts"
   ]
  },
  {
   "cell_type": "code",
   "execution_count": 42,
   "metadata": {},
   "outputs": [],
   "source": [
    "selected_unique_values = unique_values[0::]\n",
    "selected_counts = counts[0::]"
   ]
  },
  {
   "cell_type": "code",
   "execution_count": 43,
   "metadata": {},
   "outputs": [
    {
     "data": {
      "image/png": "[encoded data removed]",
      "text/plain": [
       "<Figure size 432x288 with 1 Axes>"
      ]
     },
     "metadata": {
      "needs_background": "light"
     },
     "output_type": "display_data"
    }
   ],
   "source": [
    "fig = plt.figure()\n",
    "plt.xticks(rotation=45)\n",
    "plt.bar(range(len(selected_counts)),selected_counts,tick_label = selected_unique_values)\n",
    "plt.title(\"Gastric Cancer LOPO runs, protein ions frequencies\")\n",
    "plt.ylabel(\"Number of times repeated in patient validation runs\")\n",
    "plt.xlabel(\"Most stable protein ions\")\n",
    "plt.tight_layout()"
   ]
  },
  {
   "cell_type": "code",
   "execution_count": 44,
   "metadata": {},
   "outputs": [
    {
     "name": "stdout",
     "output_type": "stream",
     "text": [
      "Most stable protein ions: [ 3374  3445  3409  3711  3482  3670  3516 13166]\n",
      "Frequency of protein ions apperance: [63 63 61 61 58 58 57 53]\n"
     ]
    }
   ],
   "source": [
    "above_80per_idx = [ ]\n",
    "for i in range(len(counts)):\n",
    "    if counts[i] >= int(63*0.8):\n",
    "        above_80per_idx.append(i)\n",
    "\n",
    "print(\"Most stable protein ions:\" , unique_values[above_80per_idx])\n",
    "print(\"Frequency of protein ions apperance:\" , counts[above_80per_idx])"
   ]
  },
  {
   "cell_type": "code",
   "execution_count": 45,
   "metadata": {},
   "outputs": [
    {
     "name": "stdout",
     "output_type": "stream",
     "text": [
      "Accuracy if we consider patients with ground truth 0, aka unknown or alive, can also be moderate:\n",
      "Poor Survivability Classification approximate accuracy:  21.74\n",
      "High Survivability Classification approximate accuracy:  87.5\n",
      "Overall Classification approximate accuracy:  63.49\n"
     ]
    }
   ],
   "source": [
    "predictions_poor = [ ]\n",
    "poor_status_idx = [ ]\n",
    "print(\"Accuracy if we consider patients with ground truth 0, aka unknown or alive, can also be moderate:\")\n",
    "for i in range(len(GastricResults)):\n",
    "    if (GastricResults[\"Predicted Survivability\"][i] == \"Poor\") and GastricResults[\"Survival Status\"][i] == 1:\n",
    "        predictions_poor.append(1)\n",
    "    else:\n",
    "        predictions_poor.append(0)\n",
    "    \n",
    "    if GastricResults[\"Survival Status\"][i] == 1:\n",
    "        poor_status_idx.append(i)\n",
    "\n",
    "predictions_high = [ ]\n",
    "high_status_idx = [ ]\n",
    "for i in range(len(GastricResults)):\n",
    "    if ( GastricResults[\"Predicted Survivability\"][i] == \"High\" or GastricResults[\"Predicted Survivability\"][i] == \"Moderate\" ) and GastricResults[\"Survival Status\"][i] == 0:\n",
    "        predictions_high.append(1)\n",
    "    else:\n",
    "        predictions_high.append(0)\n",
    "    \n",
    "    if GastricResults[\"Survival Status\"][i] == 0:\n",
    "        high_status_idx.append(i)\n",
    "\n",
    "poor_classifications = np.unique(predictions_poor,return_counts=True)\n",
    "high_classifications = np.unique(predictions_high,return_counts=True)\n",
    "\n",
    "poor_accuracy = round(( poor_classifications[1][1] / len(poor_status_idx) )* 100,2)\n",
    "print(\"Poor Survivability Classification approximate accuracy: \", poor_accuracy)\n",
    "\n",
    "high_accuracy = round(( high_classifications[1][1] / len(high_status_idx) )* 100,2)\n",
    "print(\"High Survivability Classification approximate accuracy: \", high_accuracy)\n",
    "\n",
    "overall_accuracy = round (( (poor_classifications[1][1] + high_classifications[1][1]) / len(GastricResults) ) * 100 , 2)\n",
    "print(\"Overall Classification approximate accuracy: \", overall_accuracy)"
   ]
  },
  {
   "cell_type": "code",
   "execution_count": 46,
   "metadata": {},
   "outputs": [
    {
     "name": "stdout",
     "output_type": "stream",
     "text": [
      "35 out of 40\n",
      "5 out of 23\n"
     ]
    }
   ],
   "source": [
    "print(high_classifications[1][1] , \"out of\" , len(high_status_idx))\n",
    "print(poor_classifications[1][1] , \"out of\" , len(poor_status_idx))"
   ]
  },
  {
   "cell_type": "code",
   "execution_count": 47,
   "metadata": {},
   "outputs": [
    {
     "name": "stdout",
     "output_type": "stream",
     "text": [
      "Accuracy if we consider patients with ground truth 1, aka dead, can also be moderate:\n",
      "Poor Survivability Classification approximate accuracy:  69.57\n",
      "High Survivability Classification approximate accuracy:  40.0\n",
      "Overall Classification approximate accuracy:  50.79\n"
     ]
    }
   ],
   "source": [
    "predictions_poor = [ ]\n",
    "poor_status_idx = [ ]\n",
    "print(\"Accuracy if we consider patients with ground truth 1, aka dead, can also be moderate:\")\n",
    "for i in range(len(GastricResults)):\n",
    "    if (GastricResults[\"Predicted Survivability\"][i] == \"Poor\" or GastricResults[\"Predicted Survivability\"][i] == \"Moderate\" ) and GastricResults[\"Survival Status\"][i] == 1:\n",
    "        predictions_poor.append(1)\n",
    "    else:\n",
    "        predictions_poor.append(0)\n",
    "    \n",
    "    if GastricResults[\"Survival Status\"][i] == 1:\n",
    "        poor_status_idx.append(i)\n",
    "\n",
    "predictions_high = [ ]\n",
    "high_status_idx = [ ]\n",
    "for i in range(len(GastricResults)):\n",
    "    if GastricResults[\"Predicted Survivability\"][i] == \"High\"  and GastricResults[\"Survival Status\"][i] == 0:\n",
    "        predictions_high.append(1)\n",
    "    else:\n",
    "        predictions_high.append(0)\n",
    "    \n",
    "    if GastricResults[\"Survival Status\"][i] == 0:\n",
    "        high_status_idx.append(i)\n",
    "\n",
    "poor_classifications = np.unique(predictions_poor,return_counts=True)\n",
    "high_classifications = np.unique(predictions_high,return_counts=True)\n",
    "\n",
    "poor_accuracy = round(( poor_classifications[1][1] / len(poor_status_idx) )* 100,2)\n",
    "print(\"Poor Survivability Classification approximate accuracy: \", poor_accuracy)\n",
    "\n",
    "high_accuracy = round(( high_classifications[1][1] / len(high_status_idx) )* 100,2)\n",
    "print(\"High Survivability Classification approximate accuracy: \", high_accuracy)\n",
    "\n",
    "overall_accuracy = round (( (poor_classifications[1][1] + high_classifications[1][1]) / len(GastricResults) ) * 100 , 2)\n",
    "print(\"Overall Classification approximate accuracy: \", overall_accuracy)"
   ]
  },
  {
   "cell_type": "code",
   "execution_count": 48,
   "metadata": {},
   "outputs": [
    {
     "name": "stdout",
     "output_type": "stream",
     "text": [
      "Accuracy if we consider moderate as correct in all cases\n",
      "Poor Survivability Classification approximate accuracy:  69.57\n",
      "High Survivability Classification approximate accuracy:  87.5\n",
      "Overall Classification approximate accuracy:  80.95\n"
     ]
    }
   ],
   "source": [
    "predictions_poor = [ ]\n",
    "poor_status_idx = [ ]\n",
    "print(\"Accuracy if we consider moderate as correct in all cases\")\n",
    "for i in range(len(GastricResults)):\n",
    "    if (GastricResults[\"Predicted Survivability\"][i] == \"Poor\" or GastricResults[\"Predicted Survivability\"][i] == \"Moderate\" ) and GastricResults[\"Survival Status\"][i] == 1:\n",
    "        predictions_poor.append(1)\n",
    "    else:\n",
    "        predictions_poor.append(0)\n",
    "    \n",
    "    if GastricResults[\"Survival Status\"][i] == 1:\n",
    "        poor_status_idx.append(i)\n",
    "\n",
    "predictions_high = [ ]\n",
    "high_status_idx = [ ]\n",
    "for i in range(len(GastricResults)):\n",
    "    if (GastricResults[\"Predicted Survivability\"][i] == \"High\" or GastricResults[\"Predicted Survivability\"][i] == \"Moderate\" )  and GastricResults[\"Survival Status\"][i] == 0:\n",
    "        predictions_high.append(1)\n",
    "    else:\n",
    "        predictions_high.append(0)\n",
    "    \n",
    "    if GastricResults[\"Survival Status\"][i] == 0:\n",
    "        high_status_idx.append(i)\n",
    "\n",
    "poor_classifications = np.unique(predictions_poor,return_counts=True)\n",
    "high_classifications = np.unique(predictions_high,return_counts=True)\n",
    "\n",
    "poor_accuracy = round(( poor_classifications[1][1] / len(poor_status_idx) )* 100,2)\n",
    "print(\"Poor Survivability Classification approximate accuracy: \", poor_accuracy)\n",
    "\n",
    "high_accuracy = round(( high_classifications[1][1] / len(high_status_idx) )* 100,2)\n",
    "print(\"High Survivability Classification approximate accuracy: \", high_accuracy)\n",
    "\n",
    "overall_accuracy = round (( (poor_classifications[1][1] + high_classifications[1][1]) / len(GastricResults) ) * 100 , 2)\n",
    "print(\"Overall Classification approximate accuracy: \", overall_accuracy)"
   ]
  },
  {
   "cell_type": "code",
   "execution_count": 49,
   "metadata": {},
   "outputs": [
    {
     "name": "stdout",
     "output_type": "stream",
     "text": [
      "Accuracy if we only consider Poor and High as 0 and 1 only\n",
      "Poor Survivability Classification approximate accuracy:  21.74\n",
      "High Survivability Classification approximate accuracy:  40.0\n",
      "Overall Classification approximate accuracy:  33.33\n"
     ]
    }
   ],
   "source": [
    "predictions_poor = [ ]\n",
    "poor_status_idx = [ ]\n",
    "print(\"Accuracy if we only consider Poor and High as 0 and 1 only\")\n",
    "for i in range(len(GastricResults)):\n",
    "    if GastricResults[\"Predicted Survivability\"][i] == \"Poor\"  and GastricResults[\"Survival Status\"][i] == 1:\n",
    "        predictions_poor.append(1)\n",
    "    else:\n",
    "        predictions_poor.append(0)\n",
    "    \n",
    "    if GastricResults[\"Survival Status\"][i] == 1:\n",
    "        poor_status_idx.append(i)\n",
    "\n",
    "predictions_high = [ ]\n",
    "high_status_idx = [ ]\n",
    "for i in range(len(GastricResults)):\n",
    "    if GastricResults[\"Predicted Survivability\"][i] == \"High\"  and GastricResults[\"Survival Status\"][i] == 0:\n",
    "        predictions_high.append(1)\n",
    "    else:\n",
    "        predictions_high.append(0)\n",
    "    \n",
    "    if GastricResults[\"Survival Status\"][i] == 0:\n",
    "        high_status_idx.append(i)\n",
    "\n",
    "poor_classifications = np.unique(predictions_poor,return_counts=True)\n",
    "high_classifications = np.unique(predictions_high,return_counts=True)\n",
    "\n",
    "poor_accuracy = round(( poor_classifications[1][1] / len(poor_status_idx) )* 100,2)\n",
    "print(\"Poor Survivability Classification approximate accuracy: \", poor_accuracy)\n",
    "\n",
    "high_accuracy = round(( high_classifications[1][1] / len(high_status_idx) )* 100,2)\n",
    "print(\"High Survivability Classification approximate accuracy: \", high_accuracy)\n",
    "\n",
    "overall_accuracy = round (( (poor_classifications[1][1] + high_classifications[1][1]) / len(GastricResults) ) * 100 , 2)\n",
    "print(\"Overall Classification approximate accuracy: \", overall_accuracy)"
   ]
  },
  {
   "cell_type": "code",
   "execution_count": 50,
   "metadata": {},
   "outputs": [
    {
     "name": "stdout",
     "output_type": "stream",
     "text": [
      "5 out of 23 dead patients were predicted completely right\n",
      "16 out of 40 unknown/alive patients were predicted completely right\n"
     ]
    }
   ],
   "source": [
    "print(\"{} out of {} dead patients were predicted completely right\".format(poor_classifications[1][1],len(poor_status_idx)))\n",
    "print(\"{} out of {} unknown/alive patients were predicted completely right\".format(high_classifications[1][1],len(high_status_idx)))"
   ]
  },
  {
   "cell_type": "code",
   "execution_count": 51,
   "metadata": {},
   "outputs": [
    {
     "name": "stdout",
     "output_type": "stream",
     "text": [
      "Accuracy if we consider patients with ground truth 0, aka unknown or alive, can also be moderate:\n",
      "Poor Survivability Classification approximate accuracy:  21.74\n",
      "High Survivability Classification approximate accuracy:  87.5\n",
      "Overall Classification approximate accuracy:  63.49\n"
     ]
    }
   ],
   "source": [
    "predictions_poor = [ ]\n",
    "poor_status_idx = [ ]\n",
    "print(\"Accuracy if we consider patients with ground truth 0, aka unknown or alive, can also be moderate:\")\n",
    "for i in range(len(GastricResults)):\n",
    "    if (GastricResults[\"Predicted Survivability\"][i] == \"Poor\") and GastricResults[\"Survival Status\"][i] == 1:\n",
    "        predictions_poor.append(1)\n",
    "    else:\n",
    "        predictions_poor.append(0)\n",
    "    \n",
    "    if GastricResults[\"Survival Status\"][i] == 1:\n",
    "        poor_status_idx.append(i)\n",
    "\n",
    "predictions_high = [ ]\n",
    "high_status_idx = [ ]\n",
    "for i in range(len(GastricResults)):\n",
    "    if ( GastricResults[\"Predicted Survivability\"][i] == \"High\" or GastricResults[\"Predicted Survivability\"][i] == \"Moderate\" ) and GastricResults[\"Survival Status\"][i] == 0:\n",
    "        predictions_high.append(1)\n",
    "    else:\n",
    "        predictions_high.append(0)\n",
    "    \n",
    "    if GastricResults[\"Survival Status\"][i] == 0:\n",
    "        high_status_idx.append(i)\n",
    "\n",
    "poor_classifications = np.unique(predictions_poor,return_counts=True)\n",
    "high_classifications = np.unique(predictions_high,return_counts=True)\n",
    "\n",
    "poor_accuracy = round(( poor_classifications[1][1] / len(poor_status_idx) )* 100,2)\n",
    "print(\"Poor Survivability Classification approximate accuracy: \", poor_accuracy)\n",
    "\n",
    "high_accuracy = round(( high_classifications[1][1] / len(high_status_idx) )* 100,2)\n",
    "print(\"High Survivability Classification approximate accuracy: \", high_accuracy)\n",
    "\n",
    "overall_accuracy = round (( (poor_classifications[1][1] + high_classifications[1][1]) / len(GastricResults) ) * 100 , 2)\n",
    "print(\"Overall Classification approximate accuracy: \", overall_accuracy)"
   ]
  },
  {
   "cell_type": "code",
   "execution_count": 52,
   "metadata": {},
   "outputs": [
    {
     "name": "stdout",
     "output_type": "stream",
     "text": [
      "5 out of 23 dead patients were predicted completely right\n",
      "35 out of 40 unknown/alive patients were predicted right (considering moderate as unknown/alive)\n"
     ]
    }
   ],
   "source": [
    "print(\"{} out of {} dead patients were predicted completely right\".format(poor_classifications[1][1],len(poor_status_idx)))\n",
    "print(\"{} out of {} unknown/alive patients were predicted right (considering moderate as unknown/alive)\".format(high_classifications[1][1],len(high_status_idx)))"
   ]
  }
 ],
 "metadata": {
  "interpreter": {
   "hash": "4ddeeba73edc3d616fa242f621785b708e010b046b4511928868021d2a435579"
  },
  "kernelspec": {
   "display_name": "Python 3.9.7 ('base')",
   "language": "python",
   "name": "python3"
  },
  "language_info": {
   "codemirror_mode": {
    "name": "ipython",
    "version": 3
   },
   "file_extension": ".py",
   "mimetype": "text/x-python",
   "name": "python",
   "nbconvert_exporter": "python",
   "pygments_lexer": "ipython3",
   "version": "3.9.7"
  },
  "orig_nbformat": 4
 },
 "nbformat": 4,
 "nbformat_minor": 2
}
