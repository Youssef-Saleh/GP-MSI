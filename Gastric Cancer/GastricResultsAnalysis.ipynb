{
 "cells": [
  {
   "cell_type": "code",
   "execution_count": 1,
   "metadata": {},
   "outputs": [],
   "source": [
    "import matplotlib.pyplot as plt\n",
    "import seaborn as sns\n",
    "import pandas as pd\n",
    "import numpy as np"
   ]
  },
  {
   "cell_type": "code",
   "execution_count": 2,
   "metadata": {},
   "outputs": [],
   "source": [
    "GastricResults = pd.read_csv(\"total_GastricCancer_results_SVM.csv\")"
   ]
  },
  {
   "cell_type": "code",
   "execution_count": 3,
   "metadata": {},
   "outputs": [
    {
     "data": {
      "text/html": [
       "<div>\n",
       "<style scoped>\n",
       "    .dataframe tbody tr th:only-of-type {\n",
       "        vertical-align: middle;\n",
       "    }\n",
       "\n",
       "    .dataframe tbody tr th {\n",
       "        vertical-align: top;\n",
       "    }\n",
       "\n",
       "    .dataframe thead th {\n",
       "        text-align: right;\n",
       "    }\n",
       "</style>\n",
       "<table border=\"1\" class=\"dataframe\">\n",
       "  <thead>\n",
       "    <tr style=\"text-align: right;\">\n",
       "      <th></th>\n",
       "      <th>Patient to be predicted/left out</th>\n",
       "      <th>Poor Survival Subpopulation</th>\n",
       "      <th>Moderate Survival Subpopulation</th>\n",
       "      <th>Good Survival Subpopulation</th>\n",
       "      <th>Predicted Survivability</th>\n",
       "      <th>Surv(months)</th>\n",
       "      <th>Survival Status</th>\n",
       "      <th>Number of Clusters</th>\n",
       "      <th>SAM Features for each tSNE run on new subset</th>\n",
       "    </tr>\n",
       "  </thead>\n",
       "  <tbody>\n",
       "    <tr>\n",
       "      <th>0</th>\n",
       "      <td>1</td>\n",
       "      <td>0.00</td>\n",
       "      <td>100.00</td>\n",
       "      <td>0.00</td>\n",
       "      <td>High</td>\n",
       "      <td>34.23</td>\n",
       "      <td>0</td>\n",
       "      <td>8</td>\n",
       "      <td>Significant Features : m/z = [3445, 3374, 3482...</td>\n",
       "    </tr>\n",
       "    <tr>\n",
       "      <th>1</th>\n",
       "      <td>2</td>\n",
       "      <td>0.00</td>\n",
       "      <td>100.00</td>\n",
       "      <td>0.00</td>\n",
       "      <td>High</td>\n",
       "      <td>0.67</td>\n",
       "      <td>1</td>\n",
       "      <td>7</td>\n",
       "      <td>Significant Features : m/z = [3409, 3482, 3711...</td>\n",
       "    </tr>\n",
       "    <tr>\n",
       "      <th>2</th>\n",
       "      <td>3</td>\n",
       "      <td>4.30</td>\n",
       "      <td>9.39</td>\n",
       "      <td>86.31</td>\n",
       "      <td>High</td>\n",
       "      <td>0.43</td>\n",
       "      <td>0</td>\n",
       "      <td>6</td>\n",
       "      <td>Significant Features : m/z = [3409, 3374, 3445...</td>\n",
       "    </tr>\n",
       "    <tr>\n",
       "      <th>3</th>\n",
       "      <td>4</td>\n",
       "      <td>29.78</td>\n",
       "      <td>46.67</td>\n",
       "      <td>23.56</td>\n",
       "      <td>Moderate</td>\n",
       "      <td>45.00</td>\n",
       "      <td>0</td>\n",
       "      <td>4</td>\n",
       "      <td>Significant Features : m/z = [3374, 3445, 3409...</td>\n",
       "    </tr>\n",
       "    <tr>\n",
       "      <th>4</th>\n",
       "      <td>5</td>\n",
       "      <td>0.19</td>\n",
       "      <td>99.81</td>\n",
       "      <td>0.00</td>\n",
       "      <td>High</td>\n",
       "      <td>33.53</td>\n",
       "      <td>1</td>\n",
       "      <td>8</td>\n",
       "      <td>Significant Features : m/z = [3409, 3374, 3482...</td>\n",
       "    </tr>\n",
       "    <tr>\n",
       "      <th>...</th>\n",
       "      <td>...</td>\n",
       "      <td>...</td>\n",
       "      <td>...</td>\n",
       "      <td>...</td>\n",
       "      <td>...</td>\n",
       "      <td>...</td>\n",
       "      <td>...</td>\n",
       "      <td>...</td>\n",
       "      <td>...</td>\n",
       "    </tr>\n",
       "    <tr>\n",
       "      <th>58</th>\n",
       "      <td>59</td>\n",
       "      <td>33.65</td>\n",
       "      <td>66.35</td>\n",
       "      <td>0.00</td>\n",
       "      <td>Moderate</td>\n",
       "      <td>20.77</td>\n",
       "      <td>1</td>\n",
       "      <td>8</td>\n",
       "      <td>Significant Features : m/z = [3409, 3374, 3445...</td>\n",
       "    </tr>\n",
       "    <tr>\n",
       "      <th>59</th>\n",
       "      <td>60</td>\n",
       "      <td>54.12</td>\n",
       "      <td>27.06</td>\n",
       "      <td>18.82</td>\n",
       "      <td>Poor</td>\n",
       "      <td>0.30</td>\n",
       "      <td>1</td>\n",
       "      <td>4</td>\n",
       "      <td>Significant Features : m/z = [3374, 3445, 3409...</td>\n",
       "    </tr>\n",
       "    <tr>\n",
       "      <th>60</th>\n",
       "      <td>61</td>\n",
       "      <td>1.87</td>\n",
       "      <td>45.02</td>\n",
       "      <td>53.11</td>\n",
       "      <td>High</td>\n",
       "      <td>2.67</td>\n",
       "      <td>1</td>\n",
       "      <td>8</td>\n",
       "      <td>Significant Features : m/z = [3409, 3374, 3482...</td>\n",
       "    </tr>\n",
       "    <tr>\n",
       "      <th>61</th>\n",
       "      <td>62</td>\n",
       "      <td>49.26</td>\n",
       "      <td>16.12</td>\n",
       "      <td>34.62</td>\n",
       "      <td>Moderate</td>\n",
       "      <td>0.47</td>\n",
       "      <td>1</td>\n",
       "      <td>4</td>\n",
       "      <td>Significant Features : m/z = [3374, 3445, 3409...</td>\n",
       "    </tr>\n",
       "    <tr>\n",
       "      <th>62</th>\n",
       "      <td>63</td>\n",
       "      <td>0.00</td>\n",
       "      <td>85.71</td>\n",
       "      <td>14.29</td>\n",
       "      <td>High</td>\n",
       "      <td>1.13</td>\n",
       "      <td>1</td>\n",
       "      <td>4</td>\n",
       "      <td>Significant Features : m/z = [3374, 3445, 3409...</td>\n",
       "    </tr>\n",
       "  </tbody>\n",
       "</table>\n",
       "<p>63 rows × 9 columns</p>\n",
       "</div>"
      ],
      "text/plain": [
       "    Patient to be predicted/left out  Poor Survival Subpopulation  \\\n",
       "0                                  1                         0.00   \n",
       "1                                  2                         0.00   \n",
       "2                                  3                         4.30   \n",
       "3                                  4                        29.78   \n",
       "4                                  5                         0.19   \n",
       "..                               ...                          ...   \n",
       "58                                59                        33.65   \n",
       "59                                60                        54.12   \n",
       "60                                61                         1.87   \n",
       "61                                62                        49.26   \n",
       "62                                63                         0.00   \n",
       "\n",
       "    Moderate Survival Subpopulation  Good Survival Subpopulation  \\\n",
       "0                            100.00                         0.00   \n",
       "1                            100.00                         0.00   \n",
       "2                              9.39                        86.31   \n",
       "3                             46.67                        23.56   \n",
       "4                             99.81                         0.00   \n",
       "..                              ...                          ...   \n",
       "58                            66.35                         0.00   \n",
       "59                            27.06                        18.82   \n",
       "60                            45.02                        53.11   \n",
       "61                            16.12                        34.62   \n",
       "62                            85.71                        14.29   \n",
       "\n",
       "   Predicted Survivability  Surv(months)  Survival Status  Number of Clusters  \\\n",
       "0                     High         34.23                0                   8   \n",
       "1                     High          0.67                1                   7   \n",
       "2                     High          0.43                0                   6   \n",
       "3                 Moderate         45.00                0                   4   \n",
       "4                     High         33.53                1                   8   \n",
       "..                     ...           ...              ...                 ...   \n",
       "58                Moderate         20.77                1                   8   \n",
       "59                    Poor          0.30                1                   4   \n",
       "60                    High          2.67                1                   8   \n",
       "61                Moderate          0.47                1                   4   \n",
       "62                    High          1.13                1                   4   \n",
       "\n",
       "         SAM Features for each tSNE run on new subset  \n",
       "0   Significant Features : m/z = [3445, 3374, 3482...  \n",
       "1   Significant Features : m/z = [3409, 3482, 3711...  \n",
       "2   Significant Features : m/z = [3409, 3374, 3445...  \n",
       "3   Significant Features : m/z = [3374, 3445, 3409...  \n",
       "4   Significant Features : m/z = [3409, 3374, 3482...  \n",
       "..                                                ...  \n",
       "58  Significant Features : m/z = [3409, 3374, 3445...  \n",
       "59  Significant Features : m/z = [3374, 3445, 3409...  \n",
       "60  Significant Features : m/z = [3409, 3374, 3482...  \n",
       "61  Significant Features : m/z = [3374, 3445, 3409...  \n",
       "62  Significant Features : m/z = [3374, 3445, 3409...  \n",
       "\n",
       "[63 rows x 9 columns]"
      ]
     },
     "execution_count": 3,
     "metadata": {},
     "output_type": "execute_result"
    }
   ],
   "source": [
    "GastricResults"
   ]
  },
  {
   "cell_type": "code",
   "execution_count": 4,
   "metadata": {},
   "outputs": [],
   "source": [
    "Significant_Proteins = GastricResults[\"SAM Features for each tSNE run on new subset\"].to_numpy()"
   ]
  },
  {
   "cell_type": "code",
   "execution_count": 5,
   "metadata": {},
   "outputs": [],
   "source": [
    "Significant_proteins_values_list = [ ]\n",
    "for i in range(len(Significant_Proteins)):\n",
    "    Significant_proteins_values = Significant_Proteins[i].split('=')[1].split('[')[1].split(']')[0].split(',')\n",
    "    Significant_proteins_values = [int(i) for i in Significant_proteins_values]\n",
    "    Significant_proteins_values_list.append(Significant_proteins_values)"
   ]
  },
  {
   "cell_type": "code",
   "execution_count": 6,
   "metadata": {},
   "outputs": [],
   "source": [
    "from functools import reduce\n",
    "flattened_Significant_proteins_values = reduce(lambda x, y: x+y, Significant_proteins_values_list)\n",
    "unique_values, counts = np.unique(flattened_Significant_proteins_values,return_counts=True)\n",
    "\n",
    "count_sort_ind = np.argsort(-counts)\n",
    "unique_values = unique_values[count_sort_ind]\n",
    "counts = counts[count_sort_ind]"
   ]
  },
  {
   "cell_type": "code",
   "execution_count": 7,
   "metadata": {},
   "outputs": [
    {
     "data": {
      "text/plain": [
       "array([63, 63, 62, 53, 46, 46, 44, 29, 24, 22,  1,  1,  1,  1,  1,  1,  1,\n",
       "        1], dtype=int64)"
      ]
     },
     "execution_count": 7,
     "metadata": {},
     "output_type": "execute_result"
    }
   ],
   "source": [
    "counts"
   ]
  },
  {
   "cell_type": "code",
   "execution_count": 8,
   "metadata": {},
   "outputs": [],
   "source": [
    "selected_unique_values = unique_values[0::]\n",
    "selected_counts = counts[0::]"
   ]
  },
  {
   "cell_type": "code",
   "execution_count": 9,
   "metadata": {},
   "outputs": [
    {
     "data": {
      "image/png": "[encoded data removed]",
      "text/plain": [
       "<Figure size 432x288 with 1 Axes>"
      ]
     },
     "metadata": {
      "needs_background": "light"
     },
     "output_type": "display_data"
    }
   ],
   "source": [
    "fig = plt.figure()\n",
    "plt.xticks(rotation=45)\n",
    "plt.bar(range(len(selected_counts)),selected_counts,tick_label = selected_unique_values)\n",
    "plt.title(\"Gastric Cancer LOPO runs, protein ions frequencies\")\n",
    "plt.ylabel(\"Number of times repeated in patient validation runs\")\n",
    "plt.xlabel(\"Most stable protein ions\")\n",
    "plt.tight_layout()"
   ]
  },
  {
   "cell_type": "code",
   "execution_count": 10,
   "metadata": {},
   "outputs": [
    {
     "name": "stdout",
     "output_type": "stream",
     "text": [
      "Most stable protein ions: [3374 3445 3409 3711]\n",
      "Frequency of protein ions apperance: [63 63 62 53]\n"
     ]
    }
   ],
   "source": [
    "above_80per_idx = [ ]\n",
    "for i in range(len(counts)):\n",
    "    if counts[i] >= int(63*0.8):\n",
    "        above_80per_idx.append(i)\n",
    "\n",
    "print(\"Most stable protein ions:\" , unique_values[above_80per_idx])\n",
    "print(\"Frequency of protein ions apperance:\" , counts[above_80per_idx])"
   ]
  },
  {
   "cell_type": "code",
   "execution_count": 11,
   "metadata": {},
   "outputs": [],
   "source": [
    "predictions_poor = [ ]\n",
    "poor_status_idx = [ ]\n",
    "for i in range(len(GastricResults)):\n",
    "    if (GastricResults[\"Predicted Survivability\"][i] == \"Poor\" or\n",
    "    GastricResults[\"Predicted Survivability\"][i] == \"Moderate\" or\n",
    "    GastricResults[\"Moderate Survival Subpopulation\"][i] >= 90) and GastricResults[\"Survival Status\"][i] == 1:\n",
    "        predictions_poor.append(1)\n",
    "    else:\n",
    "        predictions_poor.append(0)\n",
    "    \n",
    "    if GastricResults[\"Survival Status\"][i] == 1:\n",
    "        poor_status_idx.append(i)"
   ]
  },
  {
   "cell_type": "code",
   "execution_count": 12,
   "metadata": {},
   "outputs": [],
   "source": [
    "predictions_high = [ ]\n",
    "high_status_idx = [ ]\n",
    "for i in range(len(GastricResults)):\n",
    "    if GastricResults[\"Predicted Survivability\"][i] == \"High\" and GastricResults[\"Survival Status\"][i] == 0:\n",
    "        predictions_high.append(1)\n",
    "    else:\n",
    "        predictions_high.append(0)\n",
    "    \n",
    "    if GastricResults[\"Survival Status\"][i] == 0:\n",
    "        high_status_idx.append(i)"
   ]
  },
  {
   "cell_type": "code",
   "execution_count": 13,
   "metadata": {},
   "outputs": [],
   "source": [
    "poor_classifications = np.unique(predictions_poor,return_counts=True)\n",
    "high_classifications = np.unique(predictions_high,return_counts=True)"
   ]
  },
  {
   "cell_type": "code",
   "execution_count": 14,
   "metadata": {},
   "outputs": [
    {
     "name": "stdout",
     "output_type": "stream",
     "text": [
      "Poor Survivability Classification approximate accuracy:  65.22\n"
     ]
    }
   ],
   "source": [
    "poor_accuracy = round(( poor_classifications[1][1] / len(poor_status_idx) )* 100,2)\n",
    "print(\"Poor Survivability Classification approximate accuracy: \", poor_accuracy)"
   ]
  },
  {
   "cell_type": "code",
   "execution_count": 15,
   "metadata": {},
   "outputs": [
    {
     "name": "stdout",
     "output_type": "stream",
     "text": [
      "High Survivability Classification approximate accuracy:  72.5\n"
     ]
    }
   ],
   "source": [
    "high_accuracy = round(( high_classifications[1][1] / len(high_status_idx) )* 100,2)\n",
    "print(\"High Survivability Classification approximate accuracy: \", high_accuracy)"
   ]
  },
  {
   "cell_type": "code",
   "execution_count": 16,
   "metadata": {},
   "outputs": [
    {
     "name": "stdout",
     "output_type": "stream",
     "text": [
      "Overall Classification approximate accuracy:  69.84\n"
     ]
    }
   ],
   "source": [
    "overall_accuracy = round (( (poor_classifications[1][1] + high_classifications[1][1]) / len(GastricResults) ) * 100 , 2)\n",
    "print(\"Overall Classification approximate accuracy: \", overall_accuracy)"
   ]
  }
 ],
 "metadata": {
  "interpreter": {
   "hash": "5a862fa755b339cb269ec5ceb6e73837f63b6953002ae94843c7ff6941dd7636"
  },
  "kernelspec": {
   "display_name": "Python 3.8.5 ('base')",
   "language": "python",
   "name": "python3"
  },
  "language_info": {
   "codemirror_mode": {
    "name": "ipython",
    "version": 3
   },
   "file_extension": ".py",
   "mimetype": "text/x-python",
   "name": "python",
   "nbconvert_exporter": "python",
   "pygments_lexer": "ipython3",
   "version": "3.9.7"
  },
  "orig_nbformat": 4
 },
 "nbformat": 4,
 "nbformat_minor": 2
}
