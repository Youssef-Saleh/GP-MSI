{
 "cells": [
  {
   "cell_type": "code",
   "execution_count": null,
   "metadata": {},
   "outputs": [],
   "source": [
    "# Main Imports\n",
    "from ipynb.fs.full.GastricFunctions import *\n",
    "#from BreastFunctions_py import *\n",
    "import numpy as np\n",
    "import pandas as pd"
   ]
  },
  {
   "cell_type": "code",
   "execution_count": null,
   "metadata": {},
   "outputs": [],
   "source": [
    "# Loading Results dataframe\n",
    "# Prepare this dataframe (total results) only once\n",
    "# total_results_dataframe = pd.DataFrame(columns=[\"Patient to be predicted/left out\" , \"Poor Survival Subpopulation\" , \"Moderate Survival Subpopulation\" , \"Good Survival Subpopulation\", \"Predicted Survivability\", \"Surv(months)\" , \"Survival Status\" , \"Number of Clusters\"  , \"SAM Features for each tSNE run on new subset\"])\n",
    "\n",
    "# Only load if needed to load total results from previous runs to continue on\n",
    "total_results_dataframe_SVM = pd.read_csv(\"total_GastricCancer_results_SVM.csv\")\n",
    "total_results_dataframe_KNN = pd.read_csv(\"total_GastricCancer_results_KNN.csv\")\n"
   ]
  },
  {
   "cell_type": "code",
   "execution_count": null,
   "metadata": {},
   "outputs": [],
   "source": [
    "# Reading Data\n",
    "HE_image , MSI_data_cube , goodlist, peak_list, pixel_to_sample_ID, sample_only_data, sample_only_scaled_data , sample_ID_pixels = ReadGastricData()"
   ]
  },
  {
   "cell_type": "code",
   "execution_count": null,
   "metadata": {},
   "outputs": [],
   "source": [
    "## Selecting Patient as test\n",
    "testPatient_ID = 2\n",
    "#-------------------------------------------------------"
   ]
  },
  {
   "cell_type": "code",
   "execution_count": null,
   "metadata": {},
   "outputs": [],
   "source": [
    "# Splitting data into train and test and scaled and non_scaled\n",
    "train_scaled_data,train_data,train_ID_pixels,test_scaled_data,test_data,test_ID_pixels = SplitData(ID = testPatient_ID ,\n",
    "        sample_only_data = sample_only_data,\n",
    "        sample_only_scaled_data = sample_only_scaled_data,\n",
    "        sample_ID_pixels = sample_ID_pixels )"
   ]
  },
  {
   "cell_type": "code",
   "execution_count": null,
   "metadata": {},
   "outputs": [],
   "source": [
    "# Run tSNE Model\n",
    "tsne_results = tSNE(train_scaled_data)\n",
    "np.save(\"patient_TSNE/GastricCancer_tSNE_Model_Patient_{}\".format(testPatient_ID) , tsne_results)"
   ]
  },
  {
   "cell_type": "code",
   "execution_count": null,
   "metadata": {},
   "outputs": [],
   "source": [
    "# Load tSNE model instead of running model if needed\n",
    "tsne_results = np.load(\"patient_TSNE/GastricCancer_tSNE_Model_Patient_{}.npy\".format(testPatient_ID))"
   ]
  },
  {
   "cell_type": "code",
   "execution_count": null,
   "metadata": {},
   "outputs": [],
   "source": [
    "# Applying KMeans from 3 to 8 clusters\n",
    "kmeans_3 , kmeans_4, kmeans_5, kmeans_6, kmeans_7, kmeans_8 = KMeans_results(tsne_results)"
   ]
  },
  {
   "cell_type": "code",
   "execution_count": null,
   "metadata": {},
   "outputs": [],
   "source": [
    "# Reading Clinical data to be applied in survival analysis\n",
    "Clinical_data = ReadClinicalData(testPatient_ID , \"ClinicalData.xlsx\")\n",
    "Clinical_data_full = pd.read_excel(\"ClinicalData.xlsx\")\n",
    "\n",
    "Clinical_data[\"Surv_time\"] = Clinical_data[\"Surv_time\"] / 30\n",
    "Clinical_data_full[\"Surv_time\"] = Clinical_data_full[\"Surv_time\"] / 30"
   ]
  },
  {
   "cell_type": "code",
   "execution_count": null,
   "metadata": {},
   "outputs": [],
   "source": [
    "# Create dict to save kmeans results and select them later\n",
    "kmeans_dict = { '3_Clusters' : kmeans_3.labels_ , '4_Clusters': kmeans_4.labels_ , '5_Clusters': kmeans_5.labels_ , '6_Clusters': kmeans_6.labels_ , '7_Clusters': kmeans_7.labels_ , '8_Clusters': kmeans_8.labels_ }\n",
    "colors = [\"red\" , \"green\" , \"yellow\" , \"blue\", \"violet\" , \"Indigo\" , \"Orange\" , \"grey\" , \"white\" , \"pink\"]"
   ]
  },
  {
   "cell_type": "code",
   "execution_count": null,
   "metadata": {},
   "outputs": [],
   "source": [
    "# Perform Kaplan Meier, Select the correct kmeans that shows best results from survival analysis, must have two completely seperetable survival lines\n",
    "for i in range(3,9):\n",
    "    labels = kmeans_dict[str(i)+'_Clusters']\n",
    "    Clinical_data_new = KaplanMeierSurvivalFitter(labels , colors = colors , sample_ID_pixels = train_ID_pixels , Clinical_data = Clinical_data)"
   ]
  },
  {
   "cell_type": "code",
   "execution_count": null,
   "metadata": {},
   "outputs": [],
   "source": [
    "# Select the correct kmeans that shows best results from survival analysis, must have two completely seperetable survival lines\n",
    "# 3 or 4 or 5 or 6 or 7 or 8 \n",
    "selected_clusters_value = 5\n",
    "# ----------------------------------------------------------------------------------"
   ]
  },
  {
   "cell_type": "code",
   "execution_count": null,
   "metadata": {},
   "outputs": [],
   "source": [
    "# Using Selected KMeans, apply LogRank test and Kaplan Meier to be used in Cox Hazard\n",
    "selected_state = kmeans_dict[str(selected_clusters_value) + \"_Clusters\"]\n",
    "labels = kmeans_dict[str(selected_clusters_value) + \"_Clusters\"]\n",
    "\n",
    "Clinical_data_new = KaplanMeierSurvivalFitter(labels , colors = colors, sample_ID_pixels = train_ID_pixels , Clinical_data = Clinical_data)\n",
    "plt.close()\n",
    "\n",
    "Results = LogRankTest_PrintValues(labels , Clinical_data_new, printResults=False)\n",
    "\n",
    "pvalue , SignCluster = SignificantClusters(labels, Results)\n",
    "\n",
    "\n",
    "print(\"Significant Clusters are: Cluster \" + str(SignCluster[0]+1) + \" and Cluster \" + str(SignCluster[1]+1))"
   ]
  },
  {
   "cell_type": "code",
   "execution_count": null,
   "metadata": {},
   "outputs": [],
   "source": [
    "# Check for signifiance between 2 clusters using cluster_value - 1 if needed\n",
    "Results[0][1]"
   ]
  },
  {
   "cell_type": "code",
   "execution_count": null,
   "metadata": {},
   "outputs": [],
   "source": [
    "# Plot p-value with Kaplan Meier graphs of selected KMeans\n",
    "print(\"Significant Clusters are: \" , np.add(SignCluster,1))\n",
    "SignCluster = [SignCluster[0] , SignCluster[-1]]\n",
    "\n",
    "Clinical_data_new = KaplanMeierSurvivalFitter(labels , colors = colors, sample_ID_pixels = train_ID_pixels, Clinical_data = Clinical_data)\n",
    "plt.text(0.30,0.05, \"{}{}\".format(\"P-value= \", pvalue) , fontsize = 12,fontweight=\"bold\",bbox = dict(facecolor = 'lightblue', alpha = 0.5))\n",
    "\n",
    "\n",
    "Clinical_data_new= KaplanMeierSurvivalFitter(labels , colors = colors, sample_ID_pixels = train_ID_pixels, Clinical_data = Clinical_data,SignCluster=SignCluster)\n",
    "plt.text(0.30,0.05, \"{}{}\".format(\"P-value= \", pvalue) , fontsize = 12,fontweight=\"bold\",bbox = dict(facecolor = 'lightblue', alpha = 0.5))"
   ]
  },
  {
   "cell_type": "code",
   "execution_count": null,
   "metadata": {},
   "outputs": [],
   "source": [
    "# Apply CoxHazard Fitter\n",
    "cph = CoxHazardFitter(labels , Clinical_data = Clinical_data_new)\n",
    "\n",
    "labels_count = len(np.unique(labels))\n",
    "\n",
    "Clusters = [ [] for _ in range(labels_count)]\n",
    "for cluster_label in range(labels_count):\n",
    "    Clusters[cluster_label] = Clinical_data_new.query(\"Belong_Cluster_\" + str(cluster_label+1) + \" == 1\")\n",
    "\n",
    "# Clears output, can be commented if needed\n",
    "from IPython.display import clear_output\n",
    "clear_output()\n",
    "plt.close()"
   ]
  },
  {
   "cell_type": "code",
   "execution_count": null,
   "metadata": {},
   "outputs": [],
   "source": [
    "# Plot CoxHazard bar graph to show hazardous value of each cluster\n",
    "max_tick_value = 11.41 # increase this number till the colorbar shows correctly, take value from highest exp coeff (hazard ratio)\n",
    "COLORS = [\"yellow\" , \"red\"]\n",
    "CoxHazardBarPlot(cph = cph, colors = COLORS , max_tick_value = max_tick_value, clusters = Clusters)"
   ]
  },
  {
   "cell_type": "code",
   "execution_count": null,
   "metadata": {},
   "outputs": [],
   "source": [
    "# Using coxhazard to determine the significant clusters, check coxhazard before relying on these values\n",
    "hazardous_cluster_label = np.argmax(cph.hazard_ratios_) # Find the max hazard ratio's index and that will be the hazardous cluster label\n",
    "survival_cluster_label = np.argmin(cph.hazard_ratios_) # Find the min hazard ratio's index and that will be the highest survival cluster label\n",
    "\n",
    "print(\"Hazardous cluster label's index is {} and it is cluster {}\".format(hazardous_cluster_label,hazardous_cluster_label+1))\n",
    "print(\"High Survival cluster label's index is {} and it is cluster {}\".format(survival_cluster_label,survival_cluster_label+1))"
   ]
  },
  {
   "cell_type": "code",
   "execution_count": null,
   "metadata": {},
   "outputs": [],
   "source": [
    "# Manual input cluster labels if needed\n",
    "# survival_cluster_label = 0\n",
    "# hazardous_cluster_label = 1\n",
    "\n",
    "#print(\"Hazardous cluster label's index is {} and it is cluster {}\".format(hazardous_cluster_label,hazardous_cluster_label+1))"
   ]
  },
  {
   "cell_type": "code",
   "execution_count": null,
   "metadata": {},
   "outputs": [],
   "source": [
    "# Perform SAM Analysis, Run R file after this cell\n",
    "protein_dataframe = SAM_Analysis(labels, Clinical_data, train_ID_pixels, hazardous_cluster_label, train_data, peak_list)\n",
    "protein_dataframe.to_csv(\"GastricCancerAverageSpectrumValues.csv\",index=False)\n",
    "\n",
    "# Run R file in order to generate significant proteins using the csv file"
   ]
  },
  {
   "cell_type": "code",
   "execution_count": null,
   "metadata": {},
   "outputs": [],
   "source": [
    "#Need to read significant protein file outputted from R, Create Target labels to be used for KNN and SVM Models\n",
    "\n",
    "SAM_protein = readSignificantProteins(\"significant_gastric_proteins.json\",delete=False)\n",
    "SAM_protein = SAM_protein + readSignificantProteins(\"significant_gastric_proteins_up.json\",delete=False)\n",
    "\n",
    "SAM_protein_indices=[]\n",
    "for i in range(len(peak_list)):\n",
    "\n",
    "    if peak_list[i][0] in SAM_protein:\n",
    "        SAM_protein_indices.append(i)\n",
    "\n",
    "train_scaled_selected_proteins_data = train_scaled_data[:,SAM_protein_indices]\n",
    "test_scaled_selected_proteins_data = test_scaled_data[:,SAM_protein_indices]\n",
    "\n",
    "train_selected_proteins_data = train_data[:,SAM_protein_indices]\n",
    "test_selected_proteins_data = test_data[:,SAM_protein_indices]\n",
    "\n",
    "train_labels = TargetLabelsCreation(labels , Clinical_data, train_ID_pixels, hazardous_cluster_label , survival_cluster_label)"
   ]
  },
  {
   "cell_type": "code",
   "execution_count": null,
   "metadata": {},
   "outputs": [],
   "source": [
    "# SVM Model , predicting labels\n",
    "# Test rbf at c = 0.1 , 1 , 10\n",
    "# Test linear at c = 0.1 , 1 , 10\n",
    "y_pred_SVM = SVM(\"rbf\" , 0.1 , train_scaled_selected_proteins_data , train_labels , test_scaled_selected_proteins_data)"
   ]
  },
  {
   "cell_type": "code",
   "execution_count": null,
   "metadata": {},
   "outputs": [],
   "source": [
    "# Calculating SVM Probability survival values\n",
    "Poor_Surv, Moderate_Surv , High_Surv = ProbabilityCalc(y_pred_SVM)\n",
    "Surv_SVM = [Poor_Surv , Moderate_Surv, High_Surv]"
   ]
  },
  {
   "cell_type": "code",
   "execution_count": null,
   "metadata": {},
   "outputs": [],
   "source": [
    "# KNN Model, predicting labels\n",
    "y_pred_KNN = KNN(5 , train_scaled_selected_proteins_data, train_labels, test_scaled_selected_proteins_data)"
   ]
  },
  {
   "cell_type": "code",
   "execution_count": null,
   "metadata": {},
   "outputs": [],
   "source": [
    "# Calculating KNN Probability values\n",
    "Poor_Surv, Moderate_Surv , High_Surv  = ProbabilityCalc(y_pred_KNN)\n",
    "Surv_KNN = [Poor_Surv , Moderate_Surv, High_Surv]"
   ]
  },
  {
   "cell_type": "code",
   "execution_count": null,
   "metadata": {},
   "outputs": [],
   "source": [
    "# Selecting KNN as outputted results\n",
    "# Selected Gastric probabilities, select KNN or SVM results\n",
    "Selected_model = Surv_KNN\n",
    "Poor_Surv = Selected_model[0]\n",
    "Moderate_Surv = Selected_model[1]\n",
    "High_Surv = Selected_model[2]"
   ]
  },
  {
   "cell_type": "code",
   "execution_count": null,
   "metadata": {},
   "outputs": [],
   "source": [
    "# Run after model complete to save the result in the total results dataframe, saving KNN results\n",
    "total_results_dataframe_KNN = OutputDataframe(total_results_dataframe_KNN, testPatient_ID , Clinical_data_full, Poor_Surv , Moderate_Surv, High_Surv ,selected_clusters_value, SAM_protein)"
   ]
  },
  {
   "cell_type": "code",
   "execution_count": null,
   "metadata": {},
   "outputs": [],
   "source": [
    "# Preview KNN results\n",
    "total_results_dataframe_KNN"
   ]
  },
  {
   "cell_type": "code",
   "execution_count": null,
   "metadata": {},
   "outputs": [],
   "source": [
    "# Saving KNN results in CSV file\n",
    "# Only run if needed to save and load at a later time\n",
    "total_results_dataframe_KNN.to_csv(\"total_GastricCancer_results_KNN.csv\" , index = False)"
   ]
  },
  {
   "cell_type": "code",
   "execution_count": null,
   "metadata": {},
   "outputs": [],
   "source": [
    "# Selecting SVM as outputted results\n",
    "# Selected Gastric probabilities, select KNN or SVM results\n",
    "Selected_model = Surv_SVM\n",
    "Poor_Surv = Selected_model[0]\n",
    "Moderate_Surv = Selected_model[1]\n",
    "High_Surv = Selected_model[2]"
   ]
  },
  {
   "cell_type": "code",
   "execution_count": null,
   "metadata": {},
   "outputs": [],
   "source": [
    "# Run after model complete to save the result in the total results dataframe, saving SVM results\n",
    "total_results_dataframe_SVM = OutputDataframe(total_results_dataframe_SVM, testPatient_ID , Clinical_data_full, Poor_Surv , Moderate_Surv, High_Surv ,selected_clusters_value, SAM_protein)"
   ]
  },
  {
   "cell_type": "code",
   "execution_count": null,
   "metadata": {},
   "outputs": [],
   "source": [
    "# Preview SVM results\n",
    "total_results_dataframe_SVM"
   ]
  },
  {
   "cell_type": "code",
   "execution_count": null,
   "metadata": {},
   "outputs": [],
   "source": [
    "# Saving SVM results in CSV file\n",
    "# Only run if needed to save and load at a later time\n",
    "total_results_dataframe_SVM.to_csv(\"total_GastricCancer_results_SVM.csv\" , index = False)"
   ]
  }
 ],
 "metadata": {
  "interpreter": {
   "hash": "5a862fa755b339cb269ec5ceb6e73837f63b6953002ae94843c7ff6941dd7636"
  },
  "kernelspec": {
   "display_name": "Python 3.8.5 ('base')",
   "language": "python",
   "name": "python3"
  },
  "language_info": {
   "codemirror_mode": {
    "name": "ipython",
    "version": 3
   },
   "file_extension": ".py",
   "mimetype": "text/x-python",
   "name": "python",
   "nbconvert_exporter": "python",
   "pygments_lexer": "ipython3",
   "version": "3.8.5"
  },
  "orig_nbformat": 4
 },
 "nbformat": 4,
 "nbformat_minor": 2
}
