{
 "cells": [
  {
   "cell_type": "code",
   "execution_count": 1,
   "metadata": {},
   "outputs": [],
   "source": [
    "# Main Imports\n",
    "from ipynb.fs.full.GastricFunctions import *\n",
    "#from GastricFunctions_py import *\n",
    "import numpy as np\n",
    "import pandas as pd\n",
    "# Util function for convert-to (0 - 1) range\n",
    "def rescale(arr):\n",
    "    arr_min = arr.min()\n",
    "    arr_max = arr.max()\n",
    "    return (arr - arr_min) / (arr_max - arr_min)\n",
    "\n",
    "def rescale_AB(arr):\n",
    "    arr_min = arr.min()\n",
    "    arr_max = arr.max()\n",
    "    return ( (arr - arr_min) / (arr_max - arr_min)  ) * 255 - 128"
   ]
  },
  {
   "cell_type": "code",
   "execution_count": 2,
   "metadata": {},
   "outputs": [],
   "source": [
    "# Loading Results dataframe\n",
    "# Prepare this dataframe (total results) only once\n",
    "# total_results_dataframe = pd.DataFrame(columns=[\"Patient to be predicted/left out\" , \"Poor Survival Subpopulation\" , \"Moderate Survival Subpopulation\" , \"Good Survival Subpopulation\", \"Predicted Survivability\", \"Surv(months)\" , \"Survival Status\" , \"Number of Clusters\"  , \"SAM Features for each tSNE run on new subset\"])\n",
    "#total_results_dataframe_SVM = pd.DataFrame(columns=[\"Patient to be predicted/left out\" , \"Poor Survival Subpopulation\" , \"Moderate Survival Subpopulation\" , \"Good Survival Subpopulation\", \"Predicted Survivability\", \"Surv(months)\" , \"Survival Status\" , \"Number of Clusters\"  , \"SAM Features for each tSNE run on new subset\"])\n",
    "#total_results_dataframe_KNN = pd.DataFrame(columns=[\"Patient to be predicted/left out\" , \"Poor Survival Subpopulation\" , \"Moderate Survival Subpopulation\" , \"Good Survival Subpopulation\", \"Predicted Survivability\", \"Surv(months)\" , \"Survival Status\" , \"Number of Clusters\"  , \"SAM Features for each tSNE run on new subset\"])\n",
    "\n",
    "# Only load if needed to load total results from previous runs to continue on\n",
    "total_results_dataframe_SVM = pd.read_csv(\"total_GastricCancer_results_SVM.csv\")\n",
    "total_results_dataframe_KNN = pd.read_csv(\"total_GastricCancer_results_KNN.csv\")\n"
   ]
  },
  {
   "cell_type": "code",
   "execution_count": 3,
   "metadata": {},
   "outputs": [],
   "source": [
    "# Reading Data\n",
    "HE_image , MSI_data_cube , goodlist, peak_list, pixel_to_sample_ID, sample_only_data, sample_ID_pixels = ReadGastricData()"
   ]
  },
  {
   "cell_type": "code",
   "execution_count": 361,
   "metadata": {},
   "outputs": [],
   "source": [
    "## Selecting Patient as test\n",
    "testPatient_ID = 7\n",
    "#-------------------------------------------------------\n",
    "# Splitting data into train and test and scaled and non_scaled\n",
    "train_scaled_data,train_data,train_ID_pixels,test_scaled_data,test_data,test_ID_pixels = SplitData(ID = testPatient_ID , sample_only_data = sample_only_data, sample_ID_pixels = sample_ID_pixels )\n",
    "\n",
    "\n",
    "scaler = MinMaxScaler()\n",
    "train_normalized_data = scaler.fit_transform(train_data)"
   ]
  },
  {
   "cell_type": "code",
   "execution_count": null,
   "metadata": {},
   "outputs": [],
   "source": [
    "# Run tSNE Model\n",
    "\n",
    "# tsne_results = tSNE(train_normalized_data)\n",
    "# np.save(\"patient_TSNE/GastricCancer_tSNE_Normalized_Model_Patient_{}\".format(testPatient_ID) , tsne_results)"
   ]
  },
  {
   "cell_type": "code",
   "execution_count": 362,
   "metadata": {},
   "outputs": [],
   "source": [
    "# Load tSNE model instead of running model if needed\n",
    "tsne_results = np.load(\"patient_TSNE/GastricCancer_tSNE_Normalized_Model_Patient_{}.npy\".format(testPatient_ID))"
   ]
  },
  {
   "cell_type": "code",
   "execution_count": null,
   "metadata": {},
   "outputs": [],
   "source": [
    "# # Visualize tSNE\n",
    "\n",
    "# tsne_df = pd.DataFrame(data=tsne_results[:],columns=[\"tSNE_dim1\",\"tSNE_dim2\",\"tSNE_dim3\"])\n",
    "# tsne_df['pixel_ID'] = train_ID_pixels\n",
    "# tsne_df['L_Component'] = tsne_results[:,0]\n",
    "# tsne_df['A_Component'] = tsne_results[:,1]\n",
    "# tsne_df['B_Component'] = tsne_results[:,2]\n",
    "\n",
    "# # Converting tSNE dimensions to be represented \n",
    "\n",
    "# LAB_mapping = [ tsne_df['L_Component'] , tsne_df['A_Component'] , tsne_df['B_Component'] ]\n",
    "# LAB_colors = np.asarray(LAB_mapping)\n",
    "# LAB_colors = LAB_colors.swapaxes(0,1)\n",
    "\n",
    "# L = rescale(LAB_colors[:,0]) * 100\n",
    "# A = rescale_AB(LAB_colors[:,1])\n",
    "# B = rescale_AB(LAB_colors[:,2])\n",
    "# LAB_colors = np.asarray( [ L , A , B ] )\n",
    "# LAB_colors = LAB_colors.swapaxes(0,1)\n",
    "# RGB_colors = lab2rgb(LAB_colors)\n",
    "\n",
    "# ax = plt.figure(figsize=(16,10)).gca(projection='3d')\n",
    "# scatter_3d = ax.scatter(\n",
    "#     xs=tsne_df['tSNE_dim1'], \n",
    "#     ys=tsne_df['tSNE_dim2'], \n",
    "#     zs=tsne_df['tSNE_dim3'], \n",
    "#     c = RGB_colors,\n",
    "#     s = 5,\n",
    "#     alpha = 1,\n",
    "# )\n",
    "\n",
    "# ax.set_xlabel('tSNE_dim1')\n",
    "# ax.set_ylabel('tSNE_dim2')\n",
    "# ax.set_zlabel('tSNE_dim3')\n",
    "# ax.set_title(\"tSNE colored map\")\n",
    "\n",
    "# # fig.subplots_adjust(left=0, right=1, bottom=0, top=1)\n",
    "\n",
    "# # elev is z-axis, +ve moves up, -ve moves down\n",
    "# # azim is x axis, +ve moves right, -ve moves left\n",
    "# ax.view_init(elev = 20 , azim = -160) \n",
    "# plt.tight_layout()"
   ]
  },
  {
   "cell_type": "code",
   "execution_count": 363,
   "metadata": {},
   "outputs": [],
   "source": [
    "# Applying KMeans from 3 to 8 clusters\n",
    "kmeans_3 , kmeans_4, kmeans_5, kmeans_6, kmeans_7, kmeans_8 = KMeans_results(tsne_results)"
   ]
  },
  {
   "cell_type": "code",
   "execution_count": 364,
   "metadata": {},
   "outputs": [],
   "source": [
    "# Reading Clinical data to be applied in survival analysis\n",
    "Clinical_data = ReadClinicalData(testPatient_ID , \"ClinicalData.xlsx\")\n",
    "Clinical_data_full = pd.read_excel(\"ClinicalData.xlsx\")\n",
    "\n",
    "Clinical_data[\"Surv_time\"] = round(Clinical_data[\"Surv_time\"] / 30 , 2)\n",
    "Clinical_data_full[\"Surv_time\"] = round(Clinical_data_full[\"Surv_time\"] / 30 , 2)"
   ]
  },
  {
   "cell_type": "code",
   "execution_count": 365,
   "metadata": {},
   "outputs": [],
   "source": [
    "# Create dict to save kmeans results and select them later\n",
    "kmeans_dict = { '3_Clusters' : kmeans_3.labels_ , '4_Clusters': kmeans_4.labels_ , '5_Clusters': kmeans_5.labels_ , '6_Clusters': kmeans_6.labels_ , '7_Clusters': kmeans_7.labels_ , '8_Clusters': kmeans_8.labels_ }\n",
    "colors = [\"red\" , \"green\" , \"yellow\" , \"blue\", \"violet\" , \"Indigo\" , \"Orange\" , \"grey\" , \"black\" , \"pink\"]"
   ]
  },
  {
   "cell_type": "code",
   "execution_count": 366,
   "metadata": {},
   "outputs": [],
   "source": [
    "# # Perform Kaplan Meier, Select the correct kmeans that shows best results from survival analysis, must have two completely seperetable survival lines\n",
    "# for i in range(3,9):\n",
    "#     labels = kmeans_dict[str(i)+'_Clusters']\n",
    "#     Clinical_data_new = KaplanMeierSurvivalFitter(labels , colors = colors , sample_ID_pixels = train_ID_pixels , Clinical_data = Clinical_data)\n",
    "\n",
    "#     # un-comment if interested in hiding all kaplan meier plots\n",
    "#     #plt.close()"
   ]
  },
  {
   "cell_type": "code",
   "execution_count": 367,
   "metadata": {},
   "outputs": [
    {
     "name": "stdout",
     "output_type": "stream",
     "text": [
      "at KMeans = 3 , pvalue is: 0.18\n",
      "at KMeans = 4 , pvalue is: 0.69\n",
      "at KMeans = 5 , pvalue is: 0.31\n",
      "at KMeans = 6 , pvalue is: 0.1\n",
      "at KMeans = 7 , pvalue is: 0.05\n",
      "at KMeans = 8 , pvalue is: 0.04\n"
     ]
    }
   ],
   "source": [
    "# Print all pvalues for all clusters\n",
    "for i in range(3,9):\n",
    "    labels = kmeans_dict[str(i) + \"_Clusters\"]\n",
    "    Clinical_data_new = KaplanMeierSurvivalFitter(labels , colors = colors, sample_ID_pixels = train_ID_pixels , Clinical_data = Clinical_data)\n",
    "    plt.close()\n",
    "    Results = LogRankTest_PrintValues(labels , Clinical_data_new, printResults=False)\n",
    "    pvalue , SignCluster = SignificantClusters(labels, Results)\n",
    "    print(\"at KMeans = {} , pvalue is: {}\".format(i,pvalue))"
   ]
  },
  {
   "cell_type": "code",
   "execution_count": 422,
   "metadata": {},
   "outputs": [],
   "source": [
    "## Select the correct kmeans that shows best results from survival analysis, must have two completely seperetable survival lines\n",
    "# 3 or 4 or 5 or 6 or 7 or 8 \n",
    "selected_clusters_value = 5\n",
    "# ----------------------------------------------------------------------------------"
   ]
  },
  {
   "cell_type": "code",
   "execution_count": 423,
   "metadata": {},
   "outputs": [
    {
     "name": "stdout",
     "output_type": "stream",
     "text": [
      "Significant Clusters are: Cluster 3 and Cluster 5\n",
      "0.31\n"
     ]
    }
   ],
   "source": [
    "# Using Selected KMeans, apply LogRank test and Kaplan Meier to be used in Cox Hazard\n",
    "\n",
    "selected_state = kmeans_dict[str(selected_clusters_value) + \"_Clusters\"]\n",
    "labels = kmeans_dict[str(selected_clusters_value) + \"_Clusters\"]\n",
    "\n",
    "Clinical_data_new = KaplanMeierSurvivalFitter(labels , colors = colors, sample_ID_pixels = train_ID_pixels , Clinical_data = Clinical_data)\n",
    "plt.close()\n",
    "\n",
    "Results = LogRankTest_PrintValues(labels , Clinical_data_new, printResults=False)\n",
    "\n",
    "pvalue , SignCluster = SignificantClusters(labels, Results)\n",
    "\n",
    "\n",
    "print(\"Significant Clusters are: Cluster \" + str(SignCluster[0]+1) + \" and Cluster \" + str(SignCluster[1]+1))\n",
    "print(pvalue)"
   ]
  },
  {
   "cell_type": "code",
   "execution_count": 424,
   "metadata": {},
   "outputs": [
    {
     "name": "stdout",
     "output_type": "stream",
     "text": [
      "Significant Clusters are:  [3 5]\n"
     ]
    },
    {
     "data": {
      "text/plain": [
       "Text(0.3, 0.05, 'P-value= 0.31')"
      ]
     },
     "execution_count": 424,
     "metadata": {},
     "output_type": "execute_result"
    },
    {
     "data": {
      "image/png": "[encoded data removed]",
      "text/plain": [
       "<Figure size 720x360 with 1 Axes>"
      ]
     },
     "metadata": {
      "needs_background": "light"
     },
     "output_type": "display_data"
    },
    {
     "data": {
      "image/png": "[encoded data removed]",
      "text/plain": [
       "<Figure size 720x360 with 1 Axes>"
      ]
     },
     "metadata": {
      "needs_background": "light"
     },
     "output_type": "display_data"
    }
   ],
   "source": [
    "# Plot p-value with Kaplan Meier graphs of selected KMeans\n",
    "print(\"Significant Clusters are: \" , np.add(SignCluster,1))\n",
    "\n",
    "# Possible to manually input the Significant needed to be plotted\n",
    "#SignCluster = [1 , 2 , 4 , 6 ]\n",
    "\n",
    "Clinical_data_new = KaplanMeierSurvivalFitter(labels , colors = colors, sample_ID_pixels = train_ID_pixels, Clinical_data = Clinical_data)\n",
    "plt.text(0.30,0.05, \"{}{}\".format(\"P-value= \", pvalue) , fontsize = 12,fontweight=\"bold\",bbox = dict(facecolor = 'lightblue', alpha = 0.5))\n",
    "\n",
    "\n",
    "Clinical_data_new= KaplanMeierSurvivalFitter(labels , colors = colors, sample_ID_pixels = train_ID_pixels, Clinical_data = Clinical_data,SignCluster=SignCluster)\n",
    "plt.text(0.30,0.05, \"{}{}\".format(\"P-value= \", pvalue) , fontsize = 12,fontweight=\"bold\",bbox = dict(facecolor = 'lightblue', alpha = 0.5))"
   ]
  },
  {
   "cell_type": "code",
   "execution_count": 425,
   "metadata": {},
   "outputs": [],
   "source": [
    "# Clusters_to_be_drawn = [ 0 , 2 ]\n",
    "# Clinical_data_new= KaplanMeierSurvivalFitter(labels , colors = colors, sample_ID_pixels = train_ID_pixels, Clinical_data = Clinical_data,SignCluster=Clusters_to_be_drawn)\n",
    "# plt.text(0.30,0.05, \"{}{}\".format(\"P-value= \", round(Results[Clusters_to_be_drawn[0]][Clusters_to_be_drawn[1]].p_value,2)) , fontsize = 12,fontweight=\"bold\",bbox = dict(facecolor = 'lightblue', alpha = 0.5))"
   ]
  },
  {
   "cell_type": "code",
   "execution_count": 426,
   "metadata": {},
   "outputs": [],
   "source": [
    "# Apply CoxHazard Fitter\n",
    "cph = CoxHazardFitter(labels , Clinical_data = Clinical_data_new)\n",
    "\n",
    "labels_count = len(np.unique(labels))\n",
    "\n",
    "Clusters = [ [] for _ in range(labels_count)]\n",
    "for cluster_label in range(labels_count):\n",
    "    Clusters[cluster_label] = Clinical_data_new.query(\"Belong_Cluster_\" + str(cluster_label+1) + \" == 1\")\n",
    "\n",
    "# Clears output, can be commented if needed\n",
    "from IPython.display import clear_output\n",
    "clear_output()\n",
    "plt.close()"
   ]
  },
  {
   "cell_type": "code",
   "execution_count": 427,
   "metadata": {},
   "outputs": [
    {
     "data": {
      "image/png": "[encoded data removed]",
      "text/plain": [
       "<Figure size 432x288 with 2 Axes>"
      ]
     },
     "metadata": {
      "needs_background": "light"
     },
     "output_type": "display_data"
    }
   ],
   "source": [
    "# Plot CoxHazard bar graph to show hazardous value of each cluster\n",
    "labels_count = len(np.unique(labels))\n",
    "\n",
    "Clusters = [ [] for _ in range(labels_count)]\n",
    "for cluster_label in range(labels_count):\n",
    "    Clusters[cluster_label] = Clinical_data_new.query(\"Belong_Cluster_\" + str(cluster_label+1) + \" == 1\")\n",
    "    \n",
    "max_tick_value = max(cph.hazard_ratios_)\n",
    "COLORS = [\"yellow\" , \"red\"]\n",
    "CoxHazardBarPlot(cph = cph, colors = COLORS , max_tick_value = max_tick_value, clusters = Clusters)"
   ]
  },
  {
   "cell_type": "code",
   "execution_count": null,
   "metadata": {},
   "outputs": [],
   "source": [
    "# Check for signifiance between 2 clusters using cluster_value - 1 if needed\n",
    "# Results[5][6]"
   ]
  },
  {
   "cell_type": "code",
   "execution_count": 428,
   "metadata": {},
   "outputs": [
    {
     "name": "stdout",
     "output_type": "stream",
     "text": [
      "Hazardous cluster label's index is 1 and it is cluster 2\n",
      "High Survival cluster label's index is 0 and it is cluster 1\n"
     ]
    }
   ],
   "source": [
    "# Using coxhazard to determine the significant clusters, check coxhazard before relying on these values\n",
    "hazardous_cluster_label = np.argmax(cph.hazard_ratios_) # Find the max hazard ratio's index and that will be the hazardous cluster label\n",
    "survival_cluster_label = np.argmin(cph.hazard_ratios_) # Find the min hazard ratio's index and that will be the highest survival cluster label\n",
    "\n",
    "print(\"Hazardous cluster label's index is {} and it is cluster {}\".format(hazardous_cluster_label,hazardous_cluster_label+1))\n",
    "print(\"High Survival cluster label's index is {} and it is cluster {}\".format(survival_cluster_label,survival_cluster_label+1))"
   ]
  },
  {
   "cell_type": "code",
   "execution_count": 430,
   "metadata": {},
   "outputs": [
    {
     "name": "stdout",
     "output_type": "stream",
     "text": [
      "Hazardous cluster label's index is 2 and it is cluster 3\n",
      "Survival cluster label's index is 0 and it is cluster 1\n"
     ]
    }
   ],
   "source": [
    "# Manual input cluster labels if needed\n",
    "survival_cluster_label = 0\n",
    "hazardous_cluster_label = 2\n",
    "\n",
    "print(\"Hazardous cluster label's index is {} and it is cluster {}\".format(hazardous_cluster_label,hazardous_cluster_label+1))\n",
    "print(\"Survival cluster label's index is {} and it is cluster {}\".format(survival_cluster_label,survival_cluster_label+1))"
   ]
  },
  {
   "cell_type": "code",
   "execution_count": 431,
   "metadata": {},
   "outputs": [],
   "source": [
    "# Perform SAM Analysis, Run R file after this cell\n",
    "protein_dataframe = SAM_Analysis(labels, Clinical_data, train_ID_pixels, hazardous_cluster_label, train_data, peak_list)\n",
    "protein_dataframe.to_csv(\"GastricCancerAverageSpectrumValues.csv\",index=False)\n",
    "\n",
    "# Run R file in order to generate significant proteins using the csv file"
   ]
  },
  {
   "cell_type": "code",
   "execution_count": 432,
   "metadata": {},
   "outputs": [
    {
     "name": "stdout",
     "output_type": "stream",
     "text": [
      "[3374, 3445, 3409, 3711, 3670, 3516, 3482, 3598, 13166]\n"
     ]
    }
   ],
   "source": [
    "# Need to read significant protein file outputted from R, Create Target labels to be used for KNN and SVM Models\n",
    "\n",
    "SAM_protein = readSignificantProteins(\"significant_gastric_proteins.json\",delete=False)\n",
    "SAM_protein = SAM_protein + readSignificantProteins(\"significant_gastric_proteins_up.json\",delete=False)\n",
    "\n",
    "SAM_protein_indices=[]\n",
    "for i in range(len(peak_list)):\n",
    "\n",
    "    if peak_list[i][0] in SAM_protein:\n",
    "        SAM_protein_indices.append(i)\n",
    "\n",
    "train_scaled_selected_proteins_data = train_scaled_data[:,SAM_protein_indices]\n",
    "test_scaled_selected_proteins_data = test_scaled_data[:,SAM_protein_indices]\n",
    "\n",
    "train_selected_proteins_data = train_data[:,SAM_protein_indices]\n",
    "test_selected_proteins_data = test_data[:,SAM_protein_indices]\n",
    "\n",
    "train_labels = TargetLabelsCreation(labels , Clinical_data, train_ID_pixels, hazardous_cluster_label , survival_cluster_label)\n",
    "\n",
    "print(SAM_protein)"
   ]
  },
  {
   "cell_type": "code",
   "execution_count": 433,
   "metadata": {},
   "outputs": [],
   "source": [
    "# Creating DataFrame for the Classifier result\n",
    "\n",
    "# df_Classifier_Quality = pd.DataFrame(columns=[\"Patient to be predicted/left out\" , \"Accuracy of Classifier\" , \"Precision\" , \"Recall\", \"F1-Score\", \"ROC AUC\" , \"Number of Clusters\"])\n",
    "\n",
    "# Load Classifier Quality Results csv\n",
    "df_Classifier_Quality = pd.read_csv(\"Gastric_Classifier_Quality_Results.csv\")\n"
   ]
  },
  {
   "cell_type": "code",
   "execution_count": 434,
   "metadata": {},
   "outputs": [
    {
     "data": {
      "text/html": [
       "<div>\n",
       "<style scoped>\n",
       "    .dataframe tbody tr th:only-of-type {\n",
       "        vertical-align: middle;\n",
       "    }\n",
       "\n",
       "    .dataframe tbody tr th {\n",
       "        vertical-align: top;\n",
       "    }\n",
       "\n",
       "    .dataframe thead th {\n",
       "        text-align: right;\n",
       "    }\n",
       "</style>\n",
       "<table border=\"1\" class=\"dataframe\">\n",
       "  <thead>\n",
       "    <tr style=\"text-align: right;\">\n",
       "      <th></th>\n",
       "      <th>Patient to be predicted/left out</th>\n",
       "      <th>Accuracy of Classifier</th>\n",
       "      <th>Precision</th>\n",
       "      <th>Recall</th>\n",
       "      <th>F1-Score</th>\n",
       "      <th>ROC AUC</th>\n",
       "      <th>Number of Clusters</th>\n",
       "    </tr>\n",
       "  </thead>\n",
       "  <tbody>\n",
       "    <tr>\n",
       "      <th>0</th>\n",
       "      <td>5</td>\n",
       "      <td>56.35</td>\n",
       "      <td>0.54</td>\n",
       "      <td>0.56</td>\n",
       "      <td>0.51</td>\n",
       "      <td>0.72</td>\n",
       "      <td>4</td>\n",
       "    </tr>\n",
       "    <tr>\n",
       "      <th>1</th>\n",
       "      <td>6</td>\n",
       "      <td>72.02</td>\n",
       "      <td>0.70</td>\n",
       "      <td>0.72</td>\n",
       "      <td>0.71</td>\n",
       "      <td>0.74</td>\n",
       "      <td>3</td>\n",
       "    </tr>\n",
       "    <tr>\n",
       "      <th>2</th>\n",
       "      <td>6</td>\n",
       "      <td>64.39</td>\n",
       "      <td>0.65</td>\n",
       "      <td>0.64</td>\n",
       "      <td>0.64</td>\n",
       "      <td>0.81</td>\n",
       "      <td>4</td>\n",
       "    </tr>\n",
       "    <tr>\n",
       "      <th>3</th>\n",
       "      <td>7</td>\n",
       "      <td>72.75</td>\n",
       "      <td>0.74</td>\n",
       "      <td>0.73</td>\n",
       "      <td>0.73</td>\n",
       "      <td>0.87</td>\n",
       "      <td>3</td>\n",
       "    </tr>\n",
       "    <tr>\n",
       "      <th>4</th>\n",
       "      <td>7</td>\n",
       "      <td>68.46</td>\n",
       "      <td>0.74</td>\n",
       "      <td>0.68</td>\n",
       "      <td>0.61</td>\n",
       "      <td>0.81</td>\n",
       "      <td>4</td>\n",
       "    </tr>\n",
       "  </tbody>\n",
       "</table>\n",
       "</div>"
      ],
      "text/plain": [
       "   Patient to be predicted/left out  Accuracy of Classifier  Precision  \\\n",
       "0                                 5                   56.35       0.54   \n",
       "1                                 6                   72.02       0.70   \n",
       "2                                 6                   64.39       0.65   \n",
       "3                                 7                   72.75       0.74   \n",
       "4                                 7                   68.46       0.74   \n",
       "\n",
       "   Recall  F1-Score  ROC AUC  Number of Clusters  \n",
       "0    0.56      0.51     0.72                   4  \n",
       "1    0.72      0.71     0.74                   3  \n",
       "2    0.64      0.64     0.81                   4  \n",
       "3    0.73      0.73     0.87                   3  \n",
       "4    0.68      0.61     0.81                   4  "
      ]
     },
     "execution_count": 434,
     "metadata": {},
     "output_type": "execute_result"
    }
   ],
   "source": [
    "df_Classifier_Quality"
   ]
  },
  {
   "cell_type": "code",
   "execution_count": 435,
   "metadata": {},
   "outputs": [],
   "source": [
    "# Splitting data\n",
    "from sklearn.model_selection import train_test_split\n",
    "\n",
    "trainX, testX, trainy, testy = train_test_split(train_selected_proteins_data, train_labels, test_size=0.2, random_state=0)"
   ]
  },
  {
   "cell_type": "code",
   "execution_count": 436,
   "metadata": {},
   "outputs": [
    {
     "name": "stdout",
     "output_type": "stream",
     "text": [
      "All labels:\n",
      "Class 1 has 23101 labels\n",
      "Class 2 has 13689 labels\n",
      "Class 3 has 17242 labels\n",
      "\n",
      "Train labels: \n",
      "Class 1 has 18524 labels\n",
      "Class 2 has 10910 labels\n",
      "Class 3 has 13791 labels\n"
     ]
    }
   ],
   "source": [
    "# Check on y and train labels\n",
    "print(\"All labels:\")\n",
    "increment = 0\n",
    "test_labels = np.unique(train_labels,return_counts=True)\n",
    "for i in test_labels[0]:\n",
    "    print(\"Class {} has {} labels\".format(i , test_labels[1][increment]))\n",
    "    increment += 1\n",
    "\n",
    "print(\"\\nTrain labels: \")\n",
    "increment = 0\n",
    "test_train = np.unique(trainy,return_counts=True)\n",
    "for i in test_train[0]:\n",
    "    print(\"Class {} has {} labels\".format(i , test_train[1][increment]))\n",
    "    increment += 1"
   ]
  },
  {
   "cell_type": "code",
   "execution_count": 437,
   "metadata": {},
   "outputs": [],
   "source": [
    "# Classifier Quality\n",
    "from sklearn.model_selection import train_test_split\n",
    "from sklearn.metrics import confusion_matrix, roc_curve , accuracy_score, ConfusionMatrixDisplay , f1_score, accuracy_score, precision_score, recall_score, auc\n",
    "from sklearn.preprocessing import label_binarize\n",
    "import matplotlib.pyplot as plt\n",
    "from itertools import cycle\n",
    "\n",
    "\n",
    "trainX, testX, trainy, testy = train_test_split(train_selected_proteins_data, train_labels, test_size=0.2, random_state=0)\n",
    "\n",
    "# Checking Train accuracy \n",
    "from sklearn import svm\n",
    "\n",
    "#Train the model using the training sets\n",
    "SVM_model = svm.SVC(kernel=\"rbf\"  , C = 0.1, random_state=0)\n",
    "SVM_model.fit(trainX , trainy)\n",
    "\n",
    "y_pred_SVM_roc = SVM_model.decision_function(testX)"
   ]
  },
  {
   "cell_type": "code",
   "execution_count": 438,
   "metadata": {},
   "outputs": [],
   "source": [
    "# Predictions for SVM model\n",
    "trainy_pred_SVM = SVM_model.predict(trainX)\n",
    "y_pred_SVM = SVM_model.predict(testX)"
   ]
  },
  {
   "cell_type": "code",
   "execution_count": 439,
   "metadata": {},
   "outputs": [
    {
     "name": "stdout",
     "output_type": "stream",
     "text": [
      "Accuracy of Train Data : 0.5573395026026605\n"
     ]
    }
   ],
   "source": [
    "# Checking Train accuracy\n",
    "from sklearn.metrics import f1_score, accuracy_score, precision_score, recall_score\n",
    "\n",
    "acc_train = accuracy_score(trainy, trainy_pred_SVM)\n",
    "print(\"Accuracy of Train Data :\", acc_train)"
   ]
  },
  {
   "cell_type": "code",
   "execution_count": 440,
   "metadata": {},
   "outputs": [
    {
     "name": "stdout",
     "output_type": "stream",
     "text": [
      "Accuracy of Classifier is: 55.58\n",
      "Precision:  0.68\n",
      "Recall:  0.56\n",
      "f1:  0.5\n"
     ]
    },
    {
     "data": {
      "image/png": "[encoded data removed]",
      "text/plain": [
       "<Figure size 432x288 with 2 Axes>"
      ]
     },
     "metadata": {
      "needs_background": "light"
     },
     "output_type": "display_data"
    }
   ],
   "source": [
    "# Calculating accuracy score, precision, recall, f1 for the classifier\n",
    "from sklearn.metrics import ConfusionMatrixDisplay\n",
    "import matplotlib.pyplot as plt\n",
    "\n",
    "val_acc = accuracy_score(testy, y_pred_SVM)\n",
    "print(\"Accuracy of Classifier is:\", round(val_acc * 100,2))\n",
    "\n",
    "val_acc=round(val_acc * 100,2)\n",
    "precision = round(precision_score(testy, y_pred_SVM,average='weighted'),2)\n",
    "recall= round(recall_score(testy, y_pred_SVM,average='weighted'),2)\n",
    "f1score= round(f1_score(testy, y_pred_SVM,average='weighted'),2)\n",
    "\n",
    "print(\"Precision: \", precision ) \n",
    "print(\"Recall: \",recall )\n",
    "print(\"f1: \", f1score)\n",
    "cm = confusion_matrix(testy , y_pred_SVM)\n",
    "disp = ConfusionMatrixDisplay(confusion_matrix=cm, display_labels=SVM_model.classes_)\n",
    "disp.plot()\n",
    "plt.show()"
   ]
  },
  {
   "cell_type": "code",
   "execution_count": 441,
   "metadata": {},
   "outputs": [
    {
     "data": {
      "image/png": "[encoded data removed]",
      "text/plain": [
       "<Figure size 432x288 with 1 Axes>"
      ]
     },
     "metadata": {
      "needs_background": "light"
     },
     "output_type": "display_data"
    },
    {
     "name": "stdout",
     "output_type": "stream",
     "text": [
      "ROC AUC average is: 0.72\n"
     ]
    }
   ],
   "source": [
    "# roc curve for SVM model , using validation data\n",
    "\n",
    "# Binarize the output\n",
    "testy_binarized = label_binarize(testy, classes=[1, 2, 3])\n",
    "n_classes = testy_binarized.shape[1]\n",
    "\n",
    "fpr = dict()\n",
    "tpr = dict()\n",
    "roc_auc = dict()\n",
    "\n",
    "for i in range(n_classes):\n",
    "    fpr[i], tpr[i], _ = roc_curve(testy_binarized[:, i], y_pred_SVM_roc[:, i])\n",
    "    roc_auc[i] = auc(fpr[i], tpr[i])\n",
    "\n",
    "colors_ = cycle(['blue', 'red', 'yellow'])\n",
    "labels = [\"Poor\" , \"Moderate\" , \"High\"]\n",
    "for i, color in zip(range(n_classes), colors_):\n",
    "    plt.plot(fpr[i], tpr[i], color=color, lw=2,\n",
    "             label='ROC curve of class {0} (area = {1:0.2f})'\n",
    "             ''.format(labels[i], roc_auc[i]))\n",
    "plt.plot([0, 1], [0, 1], 'k--', lw=2)\n",
    "plt.xlabel('False Positive Rate')\n",
    "plt.ylabel('True Positive Rate')\n",
    "plt.title('Gastric Cancer ROC curves')\n",
    "plt.legend(loc=\"lower right\")\n",
    "plt.show()\n",
    "\n",
    "auc_score = round(np.average(list(roc_auc.values())),2)\n",
    "print(\"ROC AUC average is: {}\".format(auc_score))"
   ]
  },
  {
   "cell_type": "code",
   "execution_count": 442,
   "metadata": {},
   "outputs": [
    {
     "name": "stdout",
     "output_type": "stream",
     "text": [
      "Poor survival probability : 0.24906600249066002 \n",
      "Moderate survival probability : 0 \n",
      "High survival probability : 99.75093399750934\n"
     ]
    }
   ],
   "source": [
    "y_pred = SVM_model.predict(test_selected_proteins_data)\n",
    "poor,moderate,high = ProbabilityCalc(y_pred)"
   ]
  },
  {
   "cell_type": "code",
   "execution_count": 443,
   "metadata": {},
   "outputs": [],
   "source": [
    "# Save Quality Analysis to csv file\n",
    "df_Classifier_Quality_result = {}\n",
    "df_Classifier_Quality_result[\"Patient to be predicted/left out\"] = testPatient_ID\n",
    "df_Classifier_Quality_result[\"Accuracy of Classifier\"]= val_acc\n",
    "df_Classifier_Quality_result[\"Precision\"]= precision\n",
    "df_Classifier_Quality_result[\"Recall\"]= recall\n",
    "df_Classifier_Quality_result[\"F1-Score\"]= f1score\n",
    "df_Classifier_Quality_result[\"ROC AUC\"]= auc_score\n",
    "df_Classifier_Quality_result[\"Number of Clusters\"]= selected_clusters_value\n",
    "\n",
    "df_Classifier_Quality_result = pd.DataFrame([df_Classifier_Quality_result])\n",
    "\n",
    "df_Classifier_Quality = df_Classifier_Quality.append(df_Classifier_Quality_result)\n",
    "df_Classifier_Quality.to_csv(\"Gastric_Classifier_Quality_Results.csv\",index=False)"
   ]
  },
  {
   "cell_type": "code",
   "execution_count": null,
   "metadata": {},
   "outputs": [],
   "source": [
    "#------------------------------------------------------------------------------------------------------------#"
   ]
  },
  {
   "cell_type": "code",
   "execution_count": null,
   "metadata": {},
   "outputs": [],
   "source": [
    "# SVM Model , predicting labels\n",
    "# Test rbf at c = 0.1 , 1 , 10\n",
    "# Test linear at c = 0.1 , 1 , 10\n",
    "y_pred_SVM = SVM(\"rbf\" , 0.1 , train_selected_proteins_data , train_labels , test_selected_proteins_data)"
   ]
  },
  {
   "cell_type": "code",
   "execution_count": null,
   "metadata": {},
   "outputs": [],
   "source": [
    "# Calculating SVM Probability survival values\n",
    "Poor_Surv, Moderate_Surv , High_Surv = ProbabilityCalc(y_pred_SVM)\n",
    "Surv_SVM = [Poor_Surv , Moderate_Surv, High_Surv]"
   ]
  },
  {
   "cell_type": "code",
   "execution_count": 418,
   "metadata": {},
   "outputs": [],
   "source": [
    "# KNN Model, predicting labels\n",
    "y_pred_KNN = KNN(5, train_selected_proteins_data, train_labels, test_selected_proteins_data)"
   ]
  },
  {
   "cell_type": "code",
   "execution_count": 419,
   "metadata": {},
   "outputs": [
    {
     "name": "stdout",
     "output_type": "stream",
     "text": [
      "Poor survival probability : 0 \n",
      "Moderate survival probability : 84.18430884184309 \n",
      "High survival probability : 15.81569115815691\n"
     ]
    }
   ],
   "source": [
    "# Calculating KNN Probability survival values\n",
    "Poor_Surv, Moderate_Surv , High_Surv  = ProbabilityCalc(y_pred_KNN)\n",
    "Surv_KNN = [Poor_Surv , Moderate_Surv, High_Surv]"
   ]
  },
  {
   "cell_type": "code",
   "execution_count": null,
   "metadata": {},
   "outputs": [],
   "source": [
    "# # Random Forest Classifier\n",
    "# from sklearn.ensemble import RandomForestClassifier\n",
    "# clf = RandomForestClassifier(max_depth=5, random_state=0)\n",
    "# clf.fit(train_selected_proteins_data, train_labels)\n",
    "# y_pred = clf.predict(test_selected_proteins_data)\n",
    "\n",
    "# Poor_Surv, Moderate_Surv , High_Surv  = ProbabilityCalc(y_pred)"
   ]
  },
  {
   "cell_type": "code",
   "execution_count": null,
   "metadata": {},
   "outputs": [],
   "source": [
    "# Selecting KNN as outputted results\n",
    "Selected_model = Surv_KNN\n",
    "Poor_Surv = round(Selected_model[0],2)\n",
    "Moderate_Surv = round(Selected_model[1],2)\n",
    "High_Surv = round(Selected_model[2],2)"
   ]
  },
  {
   "cell_type": "code",
   "execution_count": null,
   "metadata": {},
   "outputs": [],
   "source": [
    "# Run after model complete to save the result in the total results dataframe, outputting KNN results in dataframe\n",
    "# total_results_dataframe_KNN = OutputDataframe(total_results_dataframe_KNN, testPatient_ID , Clinical_data_full, Poor_Surv , Moderate_Surv, High_Surv ,selected_clusters_value, SAM_protein)"
   ]
  },
  {
   "cell_type": "code",
   "execution_count": null,
   "metadata": {},
   "outputs": [],
   "source": [
    "# Preview KNN results\n",
    "# total_results_dataframe_KNN"
   ]
  },
  {
   "cell_type": "code",
   "execution_count": null,
   "metadata": {},
   "outputs": [],
   "source": [
    "# Saving KNN results in CSV file\n",
    "# Only run if needed to save and load at a later time\n",
    "# total_results_dataframe_KNN.to_csv(\"total_GastricCancer_results_KNN.csv\" , index = False)"
   ]
  },
  {
   "cell_type": "code",
   "execution_count": null,
   "metadata": {},
   "outputs": [],
   "source": [
    "# Selecting SVM as outputted results\n",
    "\n",
    "Selected_model = Surv_SVM\n",
    "Poor_Surv = round(Selected_model[0],2)\n",
    "Moderate_Surv = round(Selected_model[1],2)\n",
    "High_Surv = round(Selected_model[2],2)"
   ]
  },
  {
   "cell_type": "code",
   "execution_count": null,
   "metadata": {},
   "outputs": [],
   "source": [
    "# Run after model complete to save the result in the total results dataframe, outputting SVM results in dataframe\n",
    "# total_results_dataframe_SVM = OutputDataframe(total_results_dataframe_SVM, testPatient_ID , Clinical_data_full, Poor_Surv , Moderate_Surv, High_Surv ,selected_clusters_value, SAM_protein)"
   ]
  },
  {
   "cell_type": "code",
   "execution_count": null,
   "metadata": {},
   "outputs": [],
   "source": [
    "# Preview SVM results\n",
    "# total_results_dataframe_SVM"
   ]
  },
  {
   "cell_type": "code",
   "execution_count": null,
   "metadata": {},
   "outputs": [],
   "source": [
    "# Saving SVM results in CSV file\n",
    "# Only run if needed to save and load at a later time\n",
    "# total_results_dataframe_SVM.to_csv(\"total_GastricCancer_results_SVM.csv\" , index = False)"
   ]
  }
 ],
 "metadata": {
  "interpreter": {
   "hash": "4ddeeba73edc3d616fa242f621785b708e010b046b4511928868021d2a435579"
  },
  "kernelspec": {
   "display_name": "Python 3.9.7 ('base')",
   "language": "python",
   "name": "python3"
  },
  "language_info": {
   "codemirror_mode": {
    "name": "ipython",
    "version": 3
   },
   "file_extension": ".py",
   "mimetype": "text/x-python",
   "name": "python",
   "nbconvert_exporter": "python",
   "pygments_lexer": "ipython3",
   "version": "3.9.7"
  },
  "orig_nbformat": 4
 },
 "nbformat": 4,
 "nbformat_minor": 2
}
