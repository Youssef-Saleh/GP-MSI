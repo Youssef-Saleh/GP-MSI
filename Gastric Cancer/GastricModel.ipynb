{
 "cells": [
  {
   "cell_type": "code",
   "execution_count": null,
   "metadata": {},
   "outputs": [],
   "source": [
    "# Main Imports\n",
    "from ipynb.fs.full.GastricFunctions import *\n",
    "#from GastricFunctions_py import *\n",
    "import numpy as np\n",
    "import pandas as pd\n",
    "# Util function for convert-to (0 - 1) range\n",
    "def rescale(arr):\n",
    "    arr_min = arr.min()\n",
    "    arr_max = arr.max()\n",
    "    return (arr - arr_min) / (arr_max - arr_min)\n",
    "\n",
    "def rescale_AB(arr):\n",
    "    arr_min = arr.min()\n",
    "    arr_max = arr.max()\n",
    "    return ( (arr - arr_min) / (arr_max - arr_min)  ) * 255 - 128"
   ]
  },
  {
   "cell_type": "code",
   "execution_count": null,
   "metadata": {},
   "outputs": [],
   "source": [
    "# Loading Results dataframe\n",
    "# Prepare this dataframe (total results) only once\n",
    "# total_results_dataframe = pd.DataFrame(columns=[\"Patient to be predicted/left out\" , \"Poor Survival Subpopulation\" , \"Moderate Survival Subpopulation\" , \"Good Survival Subpopulation\", \"Predicted Survivability\", \"Surv(months)\" , \"Survival Status\" , \"Number of Clusters\"  , \"SAM Features for each tSNE run on new subset\"])\n",
    "#total_results_dataframe_SVM = pd.DataFrame(columns=[\"Patient to be predicted/left out\" , \"Poor Survival Subpopulation\" , \"Moderate Survival Subpopulation\" , \"Good Survival Subpopulation\", \"Predicted Survivability\", \"Surv(months)\" , \"Survival Status\" , \"Number of Clusters\"  , \"SAM Features for each tSNE run on new subset\"])\n",
    "#total_results_dataframe_KNN = pd.DataFrame(columns=[\"Patient to be predicted/left out\" , \"Poor Survival Subpopulation\" , \"Moderate Survival Subpopulation\" , \"Good Survival Subpopulation\", \"Predicted Survivability\", \"Surv(months)\" , \"Survival Status\" , \"Number of Clusters\"  , \"SAM Features for each tSNE run on new subset\"])\n",
    "\n",
    "# Only load if needed to load total results from previous runs to continue on\n",
    "total_results_dataframe_SVM = pd.read_csv(\"total_GastricCancer_results_SVM.csv\")\n",
    "total_results_dataframe_KNN = pd.read_csv(\"total_GastricCancer_results_KNN.csv\")\n"
   ]
  },
  {
   "cell_type": "code",
   "execution_count": null,
   "metadata": {},
   "outputs": [],
   "source": [
    "# Reading Data\n",
    "HE_image , MSI_data_cube , goodlist, peak_list, pixel_to_sample_ID, sample_only_data, sample_ID_pixels = ReadGastricData()"
   ]
  },
  {
   "cell_type": "code",
   "execution_count": null,
   "metadata": {},
   "outputs": [],
   "source": [
    "## Selecting Patient as test\n",
    "testPatient_ID = 63\n",
    "#-------------------------------------------------------\n",
    "# Splitting data into train and test and scaled and non_scaled\n",
    "train_scaled_data,train_data,train_ID_pixels,test_scaled_data,test_data,test_ID_pixels = SplitData(ID = testPatient_ID , sample_only_data = sample_only_data, sample_ID_pixels = sample_ID_pixels )"
   ]
  },
  {
   "cell_type": "code",
   "execution_count": null,
   "metadata": {},
   "outputs": [],
   "source": [
    "# Run tSNE Model\n",
    "\n",
    "# tsne_results = tSNE(train_scaled_data)\n",
    "# np.save(\"patient_TSNE/GastricCancer_tSNE_Model_Patient_{}\".format(testPatient_ID) , tsne_results)"
   ]
  },
  {
   "cell_type": "code",
   "execution_count": null,
   "metadata": {},
   "outputs": [],
   "source": [
    "# Load tSNE model instead of running model if needed\n",
    "tsne_results = np.load(\"patient_TSNE/GastricCancer_tSNE_Normalized_Model_Patient_{}.npy\".format(testPatient_ID))"
   ]
  },
  {
   "cell_type": "code",
   "execution_count": null,
   "metadata": {},
   "outputs": [],
   "source": [
    "# # Visualize tSNE\n",
    "\n",
    "# tsne_df = pd.DataFrame(data=tsne_results[:],columns=[\"tSNE_dim1\",\"tSNE_dim2\",\"tSNE_dim3\"])\n",
    "# tsne_df['pixel_ID'] = train_ID_pixels\n",
    "# tsne_df['L_Component'] = tsne_results[:,0]\n",
    "# tsne_df['A_Component'] = tsne_results[:,1]\n",
    "# tsne_df['B_Component'] = tsne_results[:,2]\n",
    "\n",
    "# # Converting tSNE dimensions to be represented \n",
    "\n",
    "# LAB_mapping = [ tsne_df['L_Component'] , tsne_df['A_Component'] , tsne_df['B_Component'] ]\n",
    "# LAB_colors = np.asarray(LAB_mapping)\n",
    "# LAB_colors = LAB_colors.swapaxes(0,1)\n",
    "\n",
    "# L = rescale(LAB_colors[:,0]) * 100\n",
    "# A = rescale_AB(LAB_colors[:,1])\n",
    "# B = rescale_AB(LAB_colors[:,2])\n",
    "# LAB_colors = np.asarray( [ L , A , B ] )\n",
    "# LAB_colors = LAB_colors.swapaxes(0,1)\n",
    "# RGB_colors = lab2rgb(LAB_colors)\n",
    "\n",
    "# ax = plt.figure(figsize=(16,10)).gca(projection='3d')\n",
    "# scatter_3d = ax.scatter(\n",
    "#     xs=tsne_df['tSNE_dim1'], \n",
    "#     ys=tsne_df['tSNE_dim2'], \n",
    "#     zs=tsne_df['tSNE_dim3'], \n",
    "#     c = RGB_colors,\n",
    "#     s = 5,\n",
    "#     alpha = 1,\n",
    "# )\n",
    "\n",
    "# ax.set_xlabel('tSNE_dim1')\n",
    "# ax.set_ylabel('tSNE_dim2')\n",
    "# ax.set_zlabel('tSNE_dim3')\n",
    "# ax.set_title(\"tSNE colored map\")\n",
    "\n",
    "# # fig.subplots_adjust(left=0, right=1, bottom=0, top=1)\n",
    "\n",
    "# # elev is z-axis, +ve moves up, -ve moves down\n",
    "# # azim is x axis, +ve moves right, -ve moves left\n",
    "# ax.view_init(elev = 20 , azim = -160) \n",
    "# plt.tight_layout()"
   ]
  },
  {
   "cell_type": "code",
   "execution_count": null,
   "metadata": {},
   "outputs": [],
   "source": [
    "# Applying KMeans from 3 to 8 clusters\n",
    "kmeans_3 , kmeans_4, kmeans_5, kmeans_6, kmeans_7, kmeans_8 = KMeans_results(tsne_results)"
   ]
  },
  {
   "cell_type": "code",
   "execution_count": null,
   "metadata": {},
   "outputs": [],
   "source": [
    "# Reading Clinical data to be applied in survival analysis\n",
    "Clinical_data = ReadClinicalData(testPatient_ID , \"ClinicalData.xlsx\")\n",
    "Clinical_data_full = pd.read_excel(\"ClinicalData.xlsx\")\n",
    "\n",
    "Clinical_data[\"Surv_time\"] = round(Clinical_data[\"Surv_time\"] / 30 , 2)\n",
    "Clinical_data_full[\"Surv_time\"] = round(Clinical_data_full[\"Surv_time\"] / 30 , 2)"
   ]
  },
  {
   "cell_type": "code",
   "execution_count": null,
   "metadata": {},
   "outputs": [],
   "source": [
    "# Create dict to save kmeans results and select them later\n",
    "kmeans_dict = { '3_Clusters' : kmeans_3.labels_ , '4_Clusters': kmeans_4.labels_ , '5_Clusters': kmeans_5.labels_ , '6_Clusters': kmeans_6.labels_ , '7_Clusters': kmeans_7.labels_ , '8_Clusters': kmeans_8.labels_ }\n",
    "colors = [\"red\" , \"green\" , \"yellow\" , \"blue\", \"violet\" , \"Indigo\" , \"Orange\" , \"grey\" , \"black\" , \"pink\"]"
   ]
  },
  {
   "cell_type": "code",
   "execution_count": null,
   "metadata": {},
   "outputs": [],
   "source": [
    "# # Perform Kaplan Meier, Select the correct kmeans that shows best results from survival analysis, must have two completely seperetable survival lines\n",
    "# for i in range(3,9):\n",
    "#     labels = kmeans_dict[str(i)+'_Clusters']\n",
    "#     Clinical_data_new = KaplanMeierSurvivalFitter(labels , colors = colors , sample_ID_pixels = train_ID_pixels , Clinical_data = Clinical_data)\n",
    "\n",
    "#     # un-comment if interested in hiding all kaplan meier plots\n",
    "#     #plt.close()"
   ]
  },
  {
   "cell_type": "code",
   "execution_count": null,
   "metadata": {},
   "outputs": [],
   "source": [
    "# Print all pvalues for all clusters\n",
    "for i in range(3,9):\n",
    "    selected_state = kmeans_dict[str(i) + \"_Clusters\"]\n",
    "    labels = kmeans_dict[str(i) + \"_Clusters\"]\n",
    "    Clinical_data_new = KaplanMeierSurvivalFitter(labels , colors = colors, sample_ID_pixels = train_ID_pixels , Clinical_data = Clinical_data)\n",
    "    plt.close()\n",
    "    Results = LogRankTest_PrintValues(labels , Clinical_data_new, printResults=False)\n",
    "    pvalue , SignCluster = SignificantClusters(labels, Results)\n",
    "    print(\"at KMeans = {} , pvalue is: {}\".format(i,pvalue))"
   ]
  },
  {
   "cell_type": "code",
   "execution_count": null,
   "metadata": {},
   "outputs": [],
   "source": [
    "## Select the correct kmeans that shows best results from survival analysis, must have two completely seperetable survival lines\n",
    "# 3 or 4 or 5 or 6 or 7 or 8 \n",
    "selected_clusters_value = 6\n",
    "# ----------------------------------------------------------------------------------"
   ]
  },
  {
   "cell_type": "code",
   "execution_count": null,
   "metadata": {},
   "outputs": [],
   "source": [
    "# Using Selected KMeans, apply LogRank test and Kaplan Meier to be used in Cox Hazard\n",
    "\n",
    "selected_state = kmeans_dict[str(selected_clusters_value) + \"_Clusters\"]\n",
    "labels = kmeans_dict[str(selected_clusters_value) + \"_Clusters\"]\n",
    "\n",
    "Clinical_data_new = KaplanMeierSurvivalFitter(labels , colors = colors, sample_ID_pixels = train_ID_pixels , Clinical_data = Clinical_data)\n",
    "plt.close()\n",
    "\n",
    "Results = LogRankTest_PrintValues(labels , Clinical_data_new, printResults=False)\n",
    "\n",
    "pvalue , SignCluster = SignificantClusters(labels, Results)\n",
    "\n",
    "\n",
    "print(\"Significant Clusters are: Cluster \" + str(SignCluster[0]+1) + \" and Cluster \" + str(SignCluster[1]+1))\n",
    "print(pvalue)"
   ]
  },
  {
   "cell_type": "code",
   "execution_count": null,
   "metadata": {},
   "outputs": [],
   "source": [
    "# Plot p-value with Kaplan Meier graphs of selected KMeans\n",
    "print(\"Significant Clusters are: \" , np.add(SignCluster,1))\n",
    "\n",
    "# Possible to manually input the Significant needed to be plotted\n",
    "#SignCluster = [1 , 2 , 4 , 6 ]\n",
    "\n",
    "Clinical_data_new = KaplanMeierSurvivalFitter(labels , colors = colors, sample_ID_pixels = train_ID_pixels, Clinical_data = Clinical_data)\n",
    "plt.text(0.30,0.05, \"{}{}\".format(\"P-value= \", pvalue) , fontsize = 12,fontweight=\"bold\",bbox = dict(facecolor = 'lightblue', alpha = 0.5))\n",
    "\n",
    "\n",
    "Clinical_data_new= KaplanMeierSurvivalFitter(labels , colors = colors, sample_ID_pixels = train_ID_pixels, Clinical_data = Clinical_data,SignCluster=SignCluster)\n",
    "plt.text(0.30,0.05, \"{}{}\".format(\"P-value= \", pvalue) , fontsize = 12,fontweight=\"bold\",bbox = dict(facecolor = 'lightblue', alpha = 0.5))"
   ]
  },
  {
   "cell_type": "code",
   "execution_count": null,
   "metadata": {},
   "outputs": [],
   "source": [
    "# Clusters_to_be_drawn = [ 5 , 4 ]\n",
    "# Clinical_data_new= KaplanMeierSurvivalFitter(labels , colors = colors, sample_ID_pixels = train_ID_pixels, Clinical_data = Clinical_data,SignCluster=Clusters_to_be_drawn)\n",
    "# plt.text(0.30,0.05, \"{}{}\".format(\"P-value= \", round(Results[Clusters_to_be_drawn[0]][Clusters_to_be_drawn[1]].p_value,2)) , fontsize = 12,fontweight=\"bold\",bbox = dict(facecolor = 'lightblue', alpha = 0.5))"
   ]
  },
  {
   "cell_type": "code",
   "execution_count": null,
   "metadata": {},
   "outputs": [],
   "source": [
    "# Apply CoxHazard Fitter\n",
    "cph = CoxHazardFitter(labels , Clinical_data = Clinical_data_new)\n",
    "\n",
    "labels_count = len(np.unique(labels))\n",
    "\n",
    "Clusters = [ [] for _ in range(labels_count)]\n",
    "for cluster_label in range(labels_count):\n",
    "    Clusters[cluster_label] = Clinical_data_new.query(\"Belong_Cluster_\" + str(cluster_label+1) + \" == 1\")\n",
    "\n",
    "# Clears output, can be commented if needed\n",
    "from IPython.display import clear_output\n",
    "clear_output()\n",
    "plt.close()"
   ]
  },
  {
   "cell_type": "code",
   "execution_count": null,
   "metadata": {},
   "outputs": [],
   "source": [
    "# Plot CoxHazard bar graph to show hazardous value of each cluster\n",
    "labels_count = len(np.unique(labels))\n",
    "\n",
    "Clusters = [ [] for _ in range(labels_count)]\n",
    "for cluster_label in range(labels_count):\n",
    "    Clusters[cluster_label] = Clinical_data_new.query(\"Belong_Cluster_\" + str(cluster_label+1) + \" == 1\")\n",
    "    \n",
    "max_tick_value = max(cph.hazard_ratios_)\n",
    "COLORS = [\"yellow\" , \"red\"]\n",
    "CoxHazardBarPlot(cph = cph, colors = COLORS , max_tick_value = max_tick_value, clusters = Clusters)"
   ]
  },
  {
   "cell_type": "code",
   "execution_count": null,
   "metadata": {},
   "outputs": [],
   "source": [
    "# Check for signifiance between 2 clusters using cluster_value - 1 if needed\n",
    "Results[4][5]"
   ]
  },
  {
   "cell_type": "code",
   "execution_count": null,
   "metadata": {},
   "outputs": [],
   "source": [
    "# Using coxhazard to determine the significant clusters, check coxhazard before relying on these values\n",
    "hazardous_cluster_label = np.argmax(cph.hazard_ratios_) # Find the max hazard ratio's index and that will be the hazardous cluster label\n",
    "survival_cluster_label = np.argmin(cph.hazard_ratios_) # Find the min hazard ratio's index and that will be the highest survival cluster label\n",
    "\n",
    "print(\"Hazardous cluster label's index is {} and it is cluster {}\".format(hazardous_cluster_label,hazardous_cluster_label+1))\n",
    "print(\"High Survival cluster label's index is {} and it is cluster {}\".format(survival_cluster_label,survival_cluster_label+1))"
   ]
  },
  {
   "cell_type": "code",
   "execution_count": null,
   "metadata": {},
   "outputs": [],
   "source": [
    "# Manual input cluster labels if needed\n",
    "survival_cluster_label = 1\n",
    "hazardous_cluster_label = 0\n",
    "\n",
    "print(\"Hazardous cluster label's index is {} and it is cluster {}\".format(hazardous_cluster_label,hazardous_cluster_label+1))\n",
    "print(\"Survival cluster label's index is {} and it is cluster {}\".format(survival_cluster_label,survival_cluster_label+1))"
   ]
  },
  {
   "cell_type": "code",
   "execution_count": null,
   "metadata": {},
   "outputs": [],
   "source": [
    "# Perform SAM Analysis, Run R file after this cell\n",
    "protein_dataframe = SAM_Analysis(labels, Clinical_data, train_ID_pixels, hazardous_cluster_label, train_data, peak_list)\n",
    "protein_dataframe.to_csv(\"GastricCancerAverageSpectrumValues.csv\",index=False)\n",
    "\n",
    "# Run R file in order to generate significant proteins using the csv file"
   ]
  },
  {
   "cell_type": "code",
   "execution_count": null,
   "metadata": {},
   "outputs": [],
   "source": [
    "#Need to read significant protein file outputted from R, Create Target labels to be used for KNN and SVM Models\n",
    "\n",
    "SAM_protein = readSignificantProteins(\"significant_gastric_proteins.json\",delete=False)\n",
    "SAM_protein = SAM_protein + readSignificantProteins(\"significant_gastric_proteins_up.json\",delete=False)\n",
    "\n",
    "SAM_protein_indices=[]\n",
    "for i in range(len(peak_list)):\n",
    "\n",
    "    if peak_list[i][0] in SAM_protein:\n",
    "        SAM_protein_indices.append(i)\n",
    "\n",
    "train_scaled_selected_proteins_data = train_scaled_data[:,SAM_protein_indices]\n",
    "test_scaled_selected_proteins_data = test_scaled_data[:,SAM_protein_indices]\n",
    "\n",
    "train_selected_proteins_data = train_data[:,SAM_protein_indices]\n",
    "test_selected_proteins_data = test_data[:,SAM_protein_indices]\n",
    "\n",
    "train_labels = TargetLabelsCreation(labels , Clinical_data, train_ID_pixels, hazardous_cluster_label , survival_cluster_label)\n",
    "\n",
    "print(SAM_protein)"
   ]
  },
  {
   "cell_type": "code",
   "execution_count": null,
   "metadata": {},
   "outputs": [],
   "source": [
    "# SVM Model , predicting labels\n",
    "# Test rbf at c = 0.1 , 1 , 10\n",
    "# Test linear at c = 0.1 , 1 , 10\n",
    "y_pred_SVM = SVM(\"rbf\" , 1 , train_selected_proteins_data , train_labels , test_selected_proteins_data)"
   ]
  },
  {
   "cell_type": "code",
   "execution_count": null,
   "metadata": {},
   "outputs": [],
   "source": [
    "# Calculating SVM Probability survival values\n",
    "Poor_Surv, Moderate_Surv , High_Surv = ProbabilityCalc(y_pred_SVM)\n",
    "Surv_SVM = [Poor_Surv , Moderate_Surv, High_Surv]"
   ]
  },
  {
   "cell_type": "code",
   "execution_count": null,
   "metadata": {},
   "outputs": [],
   "source": [
    "# KNN Model, predicting labels\n",
    "y_pred_KNN = KNN(3 , train_selected_proteins_data, train_labels, test_selected_proteins_data)"
   ]
  },
  {
   "cell_type": "code",
   "execution_count": null,
   "metadata": {},
   "outputs": [],
   "source": [
    "# Calculating KNN Probability values\n",
    "Poor_Surv, Moderate_Surv , High_Surv  = ProbabilityCalc(y_pred_KNN)\n",
    "Surv_KNN = [Poor_Surv , Moderate_Surv, High_Surv]"
   ]
  },
  {
   "cell_type": "code",
   "execution_count": null,
   "metadata": {},
   "outputs": [],
   "source": [
    "# Random Forest Classifier\n",
    "from sklearn.ensemble import RandomForestClassifier\n",
    "clf = RandomForestClassifier(max_depth=5, random_state=0)\n",
    "clf.fit(train_selected_proteins_data, train_labels)\n",
    "y_pred = clf.predict(test_selected_proteins_data)\n",
    "\n",
    "Poor_Surv, Moderate_Surv , High_Surv  = ProbabilityCalc(y_pred)"
   ]
  },
  {
   "cell_type": "code",
   "execution_count": null,
   "metadata": {},
   "outputs": [],
   "source": [
    "# Selecting KNN as outputted results\n",
    "Selected_model = Surv_KNN\n",
    "Poor_Surv = round(Selected_model[0],2)\n",
    "Moderate_Surv = round(Selected_model[1],2)\n",
    "High_Surv = round(Selected_model[2],2)"
   ]
  },
  {
   "cell_type": "code",
   "execution_count": null,
   "metadata": {},
   "outputs": [],
   "source": [
    "# Run after model complete to save the result in the total results dataframe, outputting KNN results in dataframe\n",
    "total_results_dataframe_KNN = OutputDataframe(total_results_dataframe_KNN, testPatient_ID , Clinical_data_full, Poor_Surv , Moderate_Surv, High_Surv ,selected_clusters_value, SAM_protein)"
   ]
  },
  {
   "cell_type": "code",
   "execution_count": null,
   "metadata": {},
   "outputs": [],
   "source": [
    "# Preview KNN results\n",
    "total_results_dataframe_KNN"
   ]
  },
  {
   "cell_type": "code",
   "execution_count": null,
   "metadata": {},
   "outputs": [],
   "source": [
    "# Saving KNN results in CSV file\n",
    "# Only run if needed to save and load at a later time\n",
    "total_results_dataframe_KNN.to_csv(\"total_GastricCancer_results_KNN.csv\" , index = False)"
   ]
  },
  {
   "cell_type": "code",
   "execution_count": null,
   "metadata": {},
   "outputs": [],
   "source": [
    "# Selecting SVM as outputted results\n",
    "# Selected Gastric probabilities, select KNN or SVM results\n",
    "Selected_model = Surv_SVM\n",
    "Poor_Surv = round(Selected_model[0],2)\n",
    "Moderate_Surv = round(Selected_model[1],2)\n",
    "High_Surv = round(Selected_model[2],2)"
   ]
  },
  {
   "cell_type": "code",
   "execution_count": null,
   "metadata": {},
   "outputs": [],
   "source": [
    "# Run after model complete to save the result in the total results dataframe, outputting SVM results in dataframe\n",
    "total_results_dataframe_SVM = OutputDataframe(total_results_dataframe_SVM, testPatient_ID , Clinical_data_full, Poor_Surv , Moderate_Surv, High_Surv ,selected_clusters_value, SAM_protein)"
   ]
  },
  {
   "cell_type": "code",
   "execution_count": null,
   "metadata": {},
   "outputs": [],
   "source": [
    "# Preview SVM results\n",
    "total_results_dataframe_SVM"
   ]
  },
  {
   "cell_type": "code",
   "execution_count": null,
   "metadata": {},
   "outputs": [],
   "source": [
    "# Saving SVM results in CSV file\n",
    "# Only run if needed to save and load at a later time\n",
    "total_results_dataframe_SVM.to_csv(\"total_GastricCancer_results_SVM.csv\" , index = False)"
   ]
  }
 ],
 "metadata": {
  "interpreter": {
   "hash": "5a862fa755b339cb269ec5ceb6e73837f63b6953002ae94843c7ff6941dd7636"
  },
  "kernelspec": {
   "display_name": "Python 3.8.5 ('base')",
   "language": "python",
   "name": "python3"
  },
  "language_info": {
   "codemirror_mode": {
    "name": "ipython",
    "version": 3
   },
   "file_extension": ".py",
   "mimetype": "text/x-python",
   "name": "python",
   "nbconvert_exporter": "python",
   "pygments_lexer": "ipython3",
   "version": "3.8.5"
  },
  "orig_nbformat": 4
 },
 "nbformat": 4,
 "nbformat_minor": 2
}
