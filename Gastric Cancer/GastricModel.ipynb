{
 "cells": [
  {
   "cell_type": "code",
   "execution_count": 2,
   "metadata": {},
   "outputs": [],
   "source": [
    "from ipynb.fs.full.GastricFunctions import *\n",
    "#from BreastFunctions_py import *\n",
    "import numpy as np\n",
    "import pandas as pd"
   ]
  },
  {
   "cell_type": "code",
   "execution_count": 3,
   "metadata": {},
   "outputs": [],
   "source": [
    "# Prepare this dataframe (total results) only once\n",
    "total_results_dataframe = pd.DataFrame(columns=[\"Patient to be predicted/left out\" , \"Poor Survival Subpopulation\" , \"Moderate Survival Subpopulation\" , \n",
    "\"Good Survival Subpopulation\", \"Predicted Survivability\", \"Surv(months)\" , \"Survival Status\" , \"Number of Clusters\"  , \"SAM Features for each tSNE run on new subset\"])\n",
    "\n",
    "# Only load if needed to load total results from previous runs to continue on\n",
    "#total_results_dataframe = pd.read_csv(\"total_breastCancer_results.csv\")\n"
   ]
  },
  {
   "cell_type": "code",
   "execution_count": 5,
   "metadata": {},
   "outputs": [],
   "source": [
    "HE_image , MSI_data_cube , goodlist, peak_list, pixel_to_sample_ID, sample_only_data, sample_only_scaled_data , sample_ID_pixels = ReadGastricData()"
   ]
  },
  {
   "cell_type": "code",
   "execution_count": 6,
   "metadata": {},
   "outputs": [],
   "source": [
    "## Selecting Patient as test\n",
    "testPatient_ID = 2\n",
    "#-------------------------------------------------------\n",
    "\n",
    "train_scaled_data,train_data,train_ID_pixels,test_scaled_data,test_data,test_ID_pixels = SplitData(ID = testPatient_ID ,\n",
    "        sample_only_data = sample_only_data,\n",
    "        sample_only_scaled_data = sample_only_scaled_data,\n",
    "        sample_ID_pixels = sample_ID_pixels )\n"
   ]
  },
  {
   "cell_type": "code",
   "execution_count": null,
   "metadata": {},
   "outputs": [],
   "source": [
    "tsne_results = tSNE(train_scaled_data)\n",
    "np.save(\"patient_TSNE/GastricCancer_tSNE_Model_Patient_{}\".format(testPatient_ID) , tsne_results)"
   ]
  },
  {
   "cell_type": "code",
   "execution_count": 7,
   "metadata": {},
   "outputs": [
    {
     "name": "stdout",
     "output_type": "stream",
     "text": [
      "[t-SNE] Computing 151 nearest neighbors...\n",
      "[t-SNE] Indexed 54835 samples in 0.008s...\n",
      "[t-SNE] Computed neighbors for 54835 samples in 130.611s...\n",
      "[t-SNE] Computed conditional probabilities for sample 1000 / 54835\n",
      "[t-SNE] Computed conditional probabilities for sample 2000 / 54835\n",
      "[t-SNE] Computed conditional probabilities for sample 3000 / 54835\n",
      "[t-SNE] Computed conditional probabilities for sample 4000 / 54835\n",
      "[t-SNE] Computed conditional probabilities for sample 5000 / 54835\n",
      "[t-SNE] Computed conditional probabilities for sample 6000 / 54835\n",
      "[t-SNE] Computed conditional probabilities for sample 7000 / 54835\n",
      "[t-SNE] Computed conditional probabilities for sample 8000 / 54835\n",
      "[t-SNE] Computed conditional probabilities for sample 9000 / 54835\n",
      "[t-SNE] Computed conditional probabilities for sample 10000 / 54835\n",
      "[t-SNE] Computed conditional probabilities for sample 11000 / 54835\n",
      "[t-SNE] Computed conditional probabilities for sample 12000 / 54835\n",
      "[t-SNE] Computed conditional probabilities for sample 13000 / 54835\n",
      "[t-SNE] Computed conditional probabilities for sample 14000 / 54835\n",
      "[t-SNE] Computed conditional probabilities for sample 15000 / 54835\n",
      "[t-SNE] Computed conditional probabilities for sample 16000 / 54835\n",
      "[t-SNE] Computed conditional probabilities for sample 17000 / 54835\n",
      "[t-SNE] Computed conditional probabilities for sample 18000 / 54835\n",
      "[t-SNE] Computed conditional probabilities for sample 19000 / 54835\n",
      "[t-SNE] Computed conditional probabilities for sample 20000 / 54835\n",
      "[t-SNE] Computed conditional probabilities for sample 21000 / 54835\n",
      "[t-SNE] Computed conditional probabilities for sample 22000 / 54835\n",
      "[t-SNE] Computed conditional probabilities for sample 23000 / 54835\n",
      "[t-SNE] Computed conditional probabilities for sample 24000 / 54835\n",
      "[t-SNE] Computed conditional probabilities for sample 25000 / 54835\n",
      "[t-SNE] Computed conditional probabilities for sample 26000 / 54835\n",
      "[t-SNE] Computed conditional probabilities for sample 27000 / 54835\n",
      "[t-SNE] Computed conditional probabilities for sample 28000 / 54835\n",
      "[t-SNE] Computed conditional probabilities for sample 29000 / 54835\n",
      "[t-SNE] Computed conditional probabilities for sample 30000 / 54835\n",
      "[t-SNE] Computed conditional probabilities for sample 31000 / 54835\n",
      "[t-SNE] Computed conditional probabilities for sample 32000 / 54835\n",
      "[t-SNE] Computed conditional probabilities for sample 33000 / 54835\n",
      "[t-SNE] Computed conditional probabilities for sample 34000 / 54835\n",
      "[t-SNE] Computed conditional probabilities for sample 35000 / 54835\n",
      "[t-SNE] Computed conditional probabilities for sample 36000 / 54835\n",
      "[t-SNE] Computed conditional probabilities for sample 37000 / 54835\n",
      "[t-SNE] Computed conditional probabilities for sample 38000 / 54835\n",
      "[t-SNE] Computed conditional probabilities for sample 39000 / 54835\n",
      "[t-SNE] Computed conditional probabilities for sample 40000 / 54835\n",
      "[t-SNE] Computed conditional probabilities for sample 41000 / 54835\n",
      "[t-SNE] Computed conditional probabilities for sample 42000 / 54835\n",
      "[t-SNE] Computed conditional probabilities for sample 43000 / 54835\n",
      "[t-SNE] Computed conditional probabilities for sample 44000 / 54835\n",
      "[t-SNE] Computed conditional probabilities for sample 45000 / 54835\n",
      "[t-SNE] Computed conditional probabilities for sample 46000 / 54835\n",
      "[t-SNE] Computed conditional probabilities for sample 47000 / 54835\n",
      "[t-SNE] Computed conditional probabilities for sample 48000 / 54835\n",
      "[t-SNE] Computed conditional probabilities for sample 49000 / 54835\n",
      "[t-SNE] Computed conditional probabilities for sample 50000 / 54835\n",
      "[t-SNE] Computed conditional probabilities for sample 51000 / 54835\n",
      "[t-SNE] Computed conditional probabilities for sample 52000 / 54835\n",
      "[t-SNE] Computed conditional probabilities for sample 53000 / 54835\n",
      "[t-SNE] Computed conditional probabilities for sample 54000 / 54835\n",
      "[t-SNE] Computed conditional probabilities for sample 54835 / 54835\n",
      "[t-SNE] Mean sigma: 1.791381\n",
      "[t-SNE] KL divergence after 250 iterations with early exaggeration: 102.326347\n",
      "[t-SNE] KL divergence after 1000 iterations: 2.949176\n"
     ]
    }
   ],
   "source": [
    "tsne_results = TSNE(n_components=3,\n",
    "        perplexity = 50,\n",
    "        learning_rate = 200,\n",
    "        init = 'random',\n",
    "        random_state = 0,\n",
    "        early_exaggeration = 12,\n",
    "        n_iter = 1000,\n",
    "        n_jobs = -1,\n",
    "        verbose=True,\n",
    "        ).fit_transform(sample_only_scaled_data)\n",
    "\n",
    "np.save(\"patient_TSNE/GastricCancer_tSNE_Model_Patient_{}\".format(testPatient_ID) , tsne_results)"
   ]
  },
  {
   "cell_type": "code",
   "execution_count": 5,
   "metadata": {},
   "outputs": [],
   "source": [
    "tsne_results = np.load(\"patient_TSNE/GastricCancer_tSNE_Model_Patient_{}.npy\".format(testPatient_ID))"
   ]
  },
  {
   "cell_type": "code",
   "execution_count": null,
   "metadata": {},
   "outputs": [],
   "source": [
    "kmeans_3 , kmeans_4, kmeans_5, kmeans_6, kmeans_7, kmeans_8 = KMeans_results(tsne_results)"
   ]
  },
  {
   "cell_type": "code",
   "execution_count": null,
   "metadata": {},
   "outputs": [],
   "source": [
    "Clinical_data = ReadClinicalData(testPatient_ID , \"ClinicalData.xlsx\")\n",
    "Clinical_data_full = pd.read_excel(\"ClinicalData.xlsx\")\n",
    "\n",
    "Clinical_data[\"Surv_time\"] = Clinical_data[\"Surv_time\"] / 30\n",
    "Clinical_data_full[\"Surv_time\"] = Clinical_data_full[\"Surv_time\"] / 30"
   ]
  },
  {
   "cell_type": "code",
   "execution_count": null,
   "metadata": {},
   "outputs": [],
   "source": [
    "# Create dict to save kmeans results and select them later\n",
    "kmeans_dict = { '3_Clusters' : kmeans_3.labels_ , '4_Clusters': kmeans_4.labels_ , '5_Clusters': kmeans_5.labels_ , '6_Clusters': kmeans_6.labels_ , '7_Clusters': kmeans_7.labels_ , '8_Clusters': kmeans_8.labels_ }\n",
    "colors = [\"red\" , \"green\" , \"yellow\" , \"blue\", \"violet\" , \"Indigo\" , \"Orange\" , \"grey\" , \"white\" , \"pink\"]"
   ]
  },
  {
   "cell_type": "code",
   "execution_count": null,
   "metadata": {},
   "outputs": [],
   "source": [
    "# Select the correct kmeans that shows best results from survival analysis, must have two completely seperetable survival lines\n",
    "# KMeans at 3 clusters\n",
    "for i in range(3,9):\n",
    "    labels = kmeans_dict[str(i)+'_Clusters']\n",
    "    Clinical_data_new = KaplanMeierSurvivalFitter(labels , colors = colors , sample_ID_pixels = train_ID_pixels , Clinical_data = Clinical_data)"
   ]
  },
  {
   "cell_type": "code",
   "execution_count": null,
   "metadata": {},
   "outputs": [],
   "source": [
    "# Select the correct kmeans that shows best results from survival analysis, must have two completely seperetable survival lines\n",
    "# 3 or 4 or 5 or 6 or 7 or 8 \n",
    "selected_clusters_value = 7\n",
    "\n",
    "# ----------------------------------------------------------------------------------\n",
    "\n",
    "# Select the best kmeans\n",
    "selected_state = kmeans_dict[str(selected_clusters_value) + \"_Clusters\"]\n",
    "labels = kmeans_dict[str(selected_clusters_value) + \"_Clusters\"]\n",
    "\n",
    "Clinical_data_new = KaplanMeierSurvivalFitter(labels , colors = colors, sample_ID_pixels = train_ID_pixels , Clinical_data = Clinical_data)\n",
    "plt.close()\n",
    "\n",
    "Results = LogRankTest_PrintValues(labels , Clinical_data_new, printResults=False)\n",
    "\n",
    "pvalue , SignCluster = SignificantClusters(labels, Results)\n",
    "\n",
    "\n",
    "print(\"Significant Clusters are: Cluster \" + str(SignCluster[0]+1) + \" and Cluster \" + str(SignCluster[1]+1))"
   ]
  },
  {
   "cell_type": "code",
   "execution_count": null,
   "metadata": {},
   "outputs": [],
   "source": [
    "# Check for signifiance between 2 clusters using cluster_value - 1 if needed\n",
    "# Results[1][7]"
   ]
  },
  {
   "cell_type": "code",
   "execution_count": null,
   "metadata": {},
   "outputs": [],
   "source": [
    "print(\"Significant Clusters are: \" , np.add(SignCluster,1))\n",
    "SignCluster = [SignCluster[0] , SignCluster[-1]]\n",
    "\n",
    "Clinical_data_new = KaplanMeierSurvivalFitter(labels , colors = colors, sample_ID_pixels = train_ID_pixels, Clinical_data = Clinical_data)\n",
    "plt.text(0.30,0.05, \"{}{}\".format(\"P-value= \", pvalue) , fontsize = 12,fontweight=\"bold\",bbox = dict(facecolor = 'lightblue', alpha = 0.5))\n",
    "\n",
    "\n",
    "Clinical_data_new= KaplanMeierSurvivalFitter(labels , colors = colors, sample_ID_pixels = train_ID_pixels, Clinical_data = Clinical_data,SignCluster=SignCluster)\n",
    "plt.text(0.30,0.05, \"{}{}\".format(\"P-value= \", pvalue) , fontsize = 12,fontweight=\"bold\",bbox = dict(facecolor = 'lightblue', alpha = 0.5))"
   ]
  },
  {
   "cell_type": "code",
   "execution_count": null,
   "metadata": {},
   "outputs": [],
   "source": [
    "cph = CoxHazardFitter(labels , Clinical_data = Clinical_data_new)\n",
    "\n",
    "labels_count = len(np.unique(labels))\n",
    "\n",
    "Clusters = [ [] for _ in range(labels_count)]\n",
    "for cluster_label in range(labels_count):\n",
    "    Clusters[cluster_label] = Clinical_data_new.query(\"Belong_Cluster_\" + str(cluster_label+1) + \" == 1\")\n",
    "\n"
   ]
  },
  {
   "cell_type": "code",
   "execution_count": null,
   "metadata": {},
   "outputs": [],
   "source": [
    "max_tick_value = 11.41 # increase this number till the colorbar shows correctly, take value from highest exp coeff (hazard ratio)\n",
    "COLORS = [\"yellow\" , \"red\"]\n",
    "CoxHazardBarPlot(cph = cph, colors = COLORS , max_tick_value = max_tick_value, clusters = Clusters)"
   ]
  },
  {
   "cell_type": "code",
   "execution_count": null,
   "metadata": {},
   "outputs": [],
   "source": [
    "# Using coxhazard to determine the significant clusters, check coxhazard before relying on these values\n",
    "# hazardous_cluster_label = np.argmax(cph.hazard_ratios_) # Find the max hazard ratio's index and that will be the hazardous cluster label\n",
    "# survival_cluster_label = np.argmin(cph.hazard_ratios_) # Find the min hazard ratio's index and that will be the highest survival cluster label"
   ]
  },
  {
   "cell_type": "code",
   "execution_count": null,
   "metadata": {},
   "outputs": [],
   "source": [
    "survival_cluster_label = 4\n",
    "hazardous_cluster_label = 5\n",
    "\n",
    "print(\"Hazardous cluster label's index is {} and it is cluster {}\".format(hazardous_cluster_label,hazardous_cluster_label+1))"
   ]
  },
  {
   "cell_type": "code",
   "execution_count": null,
   "metadata": {},
   "outputs": [],
   "source": [
    "protein_dataframe = SAM_Analysis(labels, Clinical_data, train_ID_pixels, hazardous_cluster_label, train_data, peak_list)\n",
    "protein_dataframe.to_csv(\"GastricCancerAverageSpectrumValues.csv\",index=False)\n",
    "\n",
    "# Run R file in order to generate significant proteins using the csv file"
   ]
  },
  {
   "cell_type": "code",
   "execution_count": null,
   "metadata": {},
   "outputs": [],
   "source": [
    "#Need to read significant protein file outputted from R\n",
    "\n",
    "SAM_protein = readSignificantProteins(\"significant_gastric_proteins.json\",delete=False)\n",
    "SAM_protein = SAM_protein + readSignificantProteins(\"significant_gastric_proteins_up.json\",delete=False)\n",
    "\n",
    "SAM_protein_indices=[]\n",
    "for i in range(len(peak_list)):\n",
    "\n",
    "    if peak_list[i][0] in SAM_protein:\n",
    "        SAM_protein_indices.append(i)\n",
    "\n",
    "train_scaled_selected_proteins_data = train_scaled_data[:,SAM_protein_indices]\n",
    "test_scaled_selected_proteins_data = test_scaled_data[:,SAM_protein_indices]\n",
    "\n",
    "train_selected_proteins_data = train_data[:,SAM_protein_indices]\n",
    "test_selected_proteins_data = test_data[:,SAM_protein_indices]\n",
    "\n",
    "train_labels = TargetLabelsCreation(labels , Clinical_data, train_ID_pixels, hazardous_cluster_label , survival_cluster_label)"
   ]
  },
  {
   "cell_type": "code",
   "execution_count": null,
   "metadata": {},
   "outputs": [],
   "source": [
    "# Test rbf at c = 0.1 , 1 , 10\n",
    "# Test linear at c = 0.1 , 1 , 10\n",
    "y_pred_SVM = SVM(\"rbf\" , 1 , train_scaled_selected_proteins_data , train_labels , test_scaled_selected_proteins_data)"
   ]
  },
  {
   "cell_type": "code",
   "execution_count": null,
   "metadata": {},
   "outputs": [],
   "source": [
    "Poor_Surv, Moderate_Surv , High_Surv = ProbabilityCalc(y_pred_SVM)\n",
    "Surv_SVM = [Poor_Surv , Moderate_Surv, High_Surv]"
   ]
  },
  {
   "cell_type": "code",
   "execution_count": null,
   "metadata": {},
   "outputs": [],
   "source": [
    "y_pred_KNN = KNN(5 , train_scaled_selected_proteins_data, train_labels, test_scaled_selected_proteins_data)"
   ]
  },
  {
   "cell_type": "code",
   "execution_count": null,
   "metadata": {},
   "outputs": [],
   "source": [
    "Poor_Surv, Moderate_Surv , High_Surv  = ProbabilityCalc(y_pred_KNN)\n",
    "Surv_KNN = [Poor_Surv , Moderate_Surv, High_Surv]"
   ]
  },
  {
   "cell_type": "code",
   "execution_count": null,
   "metadata": {},
   "outputs": [],
   "source": [
    "# Selected Gastric probabilities, select KNN or SVM results\n",
    "Selected_model = Surv_KNN\n",
    "Poor_Surv = Selected_model[0]\n",
    "Moderate_Surv = Selected_model[1]\n",
    "High_Surv = Selected_model[2]"
   ]
  },
  {
   "cell_type": "code",
   "execution_count": null,
   "metadata": {},
   "outputs": [],
   "source": [
    "# Run after model complete to save the result in the total results dataframe\n",
    "total_results_dataframe = OutputDataframe(total_results_dataframe, testPatient_ID , Clinical_data_full, Poor_Surv , Moderate_Surv, High_Surv ,selected_clusters_value, SAM_protein)"
   ]
  },
  {
   "cell_type": "code",
   "execution_count": null,
   "metadata": {},
   "outputs": [],
   "source": [
    "total_results_dataframe"
   ]
  },
  {
   "cell_type": "code",
   "execution_count": null,
   "metadata": {},
   "outputs": [],
   "source": [
    "# Only run if needed to save and load at a later time\n",
    "total_results_dataframe.to_csv(\"total_GastricCancer_results_KNN.csv\" , index = False)"
   ]
  },
  {
   "cell_type": "code",
   "execution_count": null,
   "metadata": {},
   "outputs": [],
   "source": [
    "# Selected Gastric probabilities, select KNN or SVM results\n",
    "Selected_model = Surv_SVM\n",
    "Poor_Surv = Selected_model[0]\n",
    "Moderate_Surv = Selected_model[1]\n",
    "High_Surv = Selected_model[2]"
   ]
  },
  {
   "cell_type": "code",
   "execution_count": null,
   "metadata": {},
   "outputs": [],
   "source": [
    "# Run after model complete to save the result in the total results dataframe\n",
    "total_results_dataframe = OutputDataframe(total_results_dataframe, testPatient_ID , Clinical_data_full, Poor_Surv , Moderate_Surv, High_Surv ,selected_clusters_value, SAM_protein)"
   ]
  },
  {
   "cell_type": "code",
   "execution_count": null,
   "metadata": {},
   "outputs": [],
   "source": [
    "total_results_dataframe"
   ]
  },
  {
   "cell_type": "code",
   "execution_count": null,
   "metadata": {},
   "outputs": [],
   "source": [
    "# Only run if needed to save and load at a later time\n",
    "total_results_dataframe.to_csv(\"total_GastricCancer_results_SVM.csv\" , index = False)"
   ]
  }
 ],
 "metadata": {
  "interpreter": {
   "hash": "5a862fa755b339cb269ec5ceb6e73837f63b6953002ae94843c7ff6941dd7636"
  },
  "kernelspec": {
   "display_name": "Python 3.8.5 ('base')",
   "language": "python",
   "name": "python3"
  },
  "language_info": {
   "codemirror_mode": {
    "name": "ipython",
    "version": 3
   },
   "file_extension": ".py",
   "mimetype": "text/x-python",
   "name": "python",
   "nbconvert_exporter": "python",
   "pygments_lexer": "ipython3",
   "version": "3.8.5"
  },
  "orig_nbformat": 4
 },
 "nbformat": 4,
 "nbformat_minor": 2
}
