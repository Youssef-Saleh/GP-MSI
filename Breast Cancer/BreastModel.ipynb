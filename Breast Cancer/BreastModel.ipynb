{
 "cells": [
  {
   "cell_type": "code",
   "execution_count": 1,
   "metadata": {},
   "outputs": [],
   "source": [
    "from ipynb.fs.full.BreastFunctions import *\n",
    "#from BreastFunctions_py import *\n",
    "import numpy as np\n",
    "import pandas as pd"
   ]
  },
  {
   "cell_type": "code",
   "execution_count": 55,
   "metadata": {},
   "outputs": [],
   "source": [
    "# Prepare this dataframe (total results) only once\n",
    "\n",
    "# Only load if needed to load total results from previous runs to continue on\n",
    "total_results_dataframe_SVM = pd.read_csv(\"total_breastCancer_results_SVM.csv\")\n",
    "total_results_dataframe_KNN = pd.read_csv(\"total_breastCancer_results_KNN.csv\")\n",
    "\n",
    "# Prepare this dataframe (total results) only once\n",
    "# total_results_dataframe_SVM = pd.DataFrame(columns=[\"Patient to be predicted/left out\" , \"Metastasis-Free Subpopulation\" , \"Metastasis Subpopulation\" , \"Predicted Metastasis\" ,\n",
    "# \"Metastasis Status\", \"Number of Clusters\" , \"SAM Features for each tSNE run on new subset\"])\n",
    "\n",
    "# total_results_dataframe_KNN= pd.DataFrame(columns=[\"Patient to be predicted/left out\" , \"Metastasis-Free Subpopulation\" , \"Metastasis Subpopulation\" , \"Predicted Metastasis\" ,\n",
    "# \"Metastasis Status\", \"Number of Clusters\" , \"SAM Features for each tSNE run on new subset\"])\n",
    "\n"
   ]
  },
  {
   "cell_type": "code",
   "execution_count": 11,
   "metadata": {},
   "outputs": [],
   "source": [
    "HE_image , MSI_data_cube , goodlist, peak_list, pixel_to_sample_ID, sample_only_data, sample_only_scaled_data , sample_ID_pixels = ReadBreastData()"
   ]
  },
  {
   "cell_type": "code",
   "execution_count": 12,
   "metadata": {},
   "outputs": [],
   "source": [
    "## Selecting Patient as test\n",
    "testPatient_ID = 1\n",
    "#-------------------------------------------------------\n",
    "\n",
    "train_scaled_data,train_data,train_ID_pixels,test_scaled_data,test_data,test_ID_pixels = SplitData(ID = testPatient_ID ,\n",
    "        sample_only_data = sample_only_data,\n",
    "        sample_only_scaled_data = sample_only_scaled_data,\n",
    "        sample_ID_pixels = sample_ID_pixels )\n"
   ]
  },
  {
   "cell_type": "code",
   "execution_count": 144,
   "metadata": {},
   "outputs": [
    {
     "name": "stdout",
     "output_type": "stream",
     "text": [
      "[t-SNE] Computing 151 nearest neighbors...\n",
      "[t-SNE] Indexed 46718 samples in 0.005s...\n",
      "[t-SNE] Computed neighbors for 46718 samples in 50.746s...\n",
      "[t-SNE] Computed conditional probabilities for sample 1000 / 46718\n",
      "[t-SNE] Computed conditional probabilities for sample 2000 / 46718\n",
      "[t-SNE] Computed conditional probabilities for sample 3000 / 46718\n",
      "[t-SNE] Computed conditional probabilities for sample 4000 / 46718\n",
      "[t-SNE] Computed conditional probabilities for sample 5000 / 46718\n",
      "[t-SNE] Computed conditional probabilities for sample 6000 / 46718\n",
      "[t-SNE] Computed conditional probabilities for sample 7000 / 46718\n",
      "[t-SNE] Computed conditional probabilities for sample 8000 / 46718\n",
      "[t-SNE] Computed conditional probabilities for sample 9000 / 46718\n",
      "[t-SNE] Computed conditional probabilities for sample 10000 / 46718\n",
      "[t-SNE] Computed conditional probabilities for sample 11000 / 46718\n",
      "[t-SNE] Computed conditional probabilities for sample 12000 / 46718\n",
      "[t-SNE] Computed conditional probabilities for sample 13000 / 46718\n",
      "[t-SNE] Computed conditional probabilities for sample 14000 / 46718\n",
      "[t-SNE] Computed conditional probabilities for sample 15000 / 46718\n",
      "[t-SNE] Computed conditional probabilities for sample 16000 / 46718\n",
      "[t-SNE] Computed conditional probabilities for sample 17000 / 46718\n",
      "[t-SNE] Computed conditional probabilities for sample 18000 / 46718\n",
      "[t-SNE] Computed conditional probabilities for sample 19000 / 46718\n",
      "[t-SNE] Computed conditional probabilities for sample 20000 / 46718\n",
      "[t-SNE] Computed conditional probabilities for sample 21000 / 46718\n",
      "[t-SNE] Computed conditional probabilities for sample 22000 / 46718\n",
      "[t-SNE] Computed conditional probabilities for sample 23000 / 46718\n",
      "[t-SNE] Computed conditional probabilities for sample 24000 / 46718\n",
      "[t-SNE] Computed conditional probabilities for sample 25000 / 46718\n",
      "[t-SNE] Computed conditional probabilities for sample 26000 / 46718\n",
      "[t-SNE] Computed conditional probabilities for sample 27000 / 46718\n",
      "[t-SNE] Computed conditional probabilities for sample 28000 / 46718\n",
      "[t-SNE] Computed conditional probabilities for sample 29000 / 46718\n",
      "[t-SNE] Computed conditional probabilities for sample 30000 / 46718\n",
      "[t-SNE] Computed conditional probabilities for sample 31000 / 46718\n",
      "[t-SNE] Computed conditional probabilities for sample 32000 / 46718\n",
      "[t-SNE] Computed conditional probabilities for sample 33000 / 46718\n",
      "[t-SNE] Computed conditional probabilities for sample 34000 / 46718\n",
      "[t-SNE] Computed conditional probabilities for sample 35000 / 46718\n",
      "[t-SNE] Computed conditional probabilities for sample 36000 / 46718\n",
      "[t-SNE] Computed conditional probabilities for sample 37000 / 46718\n",
      "[t-SNE] Computed conditional probabilities for sample 38000 / 46718\n",
      "[t-SNE] Computed conditional probabilities for sample 39000 / 46718\n",
      "[t-SNE] Computed conditional probabilities for sample 40000 / 46718\n",
      "[t-SNE] Computed conditional probabilities for sample 41000 / 46718\n",
      "[t-SNE] Computed conditional probabilities for sample 42000 / 46718\n",
      "[t-SNE] Computed conditional probabilities for sample 43000 / 46718\n",
      "[t-SNE] Computed conditional probabilities for sample 44000 / 46718\n",
      "[t-SNE] Computed conditional probabilities for sample 45000 / 46718\n",
      "[t-SNE] Computed conditional probabilities for sample 46000 / 46718\n",
      "[t-SNE] Computed conditional probabilities for sample 46718 / 46718\n",
      "[t-SNE] Mean sigma: 0.000000\n",
      "[t-SNE] KL divergence after 250 iterations with early exaggeration: 98.324463\n",
      "[t-SNE] KL divergence after 1000 iterations: 2.776618\n",
      "t-SNE done! Time elapsed: 1205.3433961868286 seconds\n"
     ]
    }
   ],
   "source": [
    "tsne_results = tSNE(train_scaled_data)\n",
    "np.save(\"patient_TSNE/BreastCancer_tSNE_Model_Patient_{}\".format(testPatient_ID) , tsne_results)"
   ]
  },
  {
   "cell_type": "code",
   "execution_count": 13,
   "metadata": {},
   "outputs": [],
   "source": [
    "tsne_results = np.load(\"patient_TSNE/BreastCancer_tSNE_Model_Patient_{}.npy\".format(testPatient_ID))"
   ]
  },
  {
   "cell_type": "code",
   "execution_count": 14,
   "metadata": {},
   "outputs": [],
   "source": [
    "kmeans_8 , kmeans_7, kmeans_6, kmeans_5 = KMeans_results(tsne_results)"
   ]
  },
  {
   "cell_type": "code",
   "execution_count": 15,
   "metadata": {},
   "outputs": [],
   "source": [
    "Clinical_data = ReadClinicalData(testPatient_ID , \"ClinicalData.xlsx\")\n",
    "Clinical_data_full = pd.read_excel(\"ClinicalData.xlsx\",\"Breast Cancer Clinical Data\")"
   ]
  },
  {
   "cell_type": "code",
   "execution_count": 16,
   "metadata": {},
   "outputs": [
    {
     "name": "stdout",
     "output_type": "stream",
     "text": [
      "NonMetastasis: [1. 2. 5. 3. 1. 2. 0. 3.]\n",
      "Metastasis: [ 4.  4.  2.  5.  3.  1. 10.  5.]\n"
     ]
    },
    {
     "data": {
      "image/png": "[encoded data removed]",
      "text/plain": [
       "<Figure size 432x288 with 1 Axes>"
      ]
     },
     "metadata": {
      "needs_background": "light"
     },
     "output_type": "display_data"
    },
    {
     "name": "stdout",
     "output_type": "stream",
     "text": [
      "NonMetastasis: [2. 3. 1. 2. 1. 1. 5.]\n",
      "Metastasis: [8. 5. 3. 1. 9. 6. 3.]\n"
     ]
    },
    {
     "data": {
      "image/png": "[encoded data removed]",
      "text/plain": [
       "<Figure size 432x288 with 1 Axes>"
      ]
     },
     "metadata": {
      "needs_background": "light"
     },
     "output_type": "display_data"
    },
    {
     "name": "stdout",
     "output_type": "stream",
     "text": [
      "NonMetastasis: [3. 2. 5. 1. 2. 1.]\n",
      "Metastasis: [5. 8. 4. 5. 1. 5.]\n"
     ]
    },
    {
     "data": {
      "image/png": "[encoded data removed]",
      "text/plain": [
       "<Figure size 432x288 with 1 Axes>"
      ]
     },
     "metadata": {
      "needs_background": "light"
     },
     "output_type": "display_data"
    },
    {
     "name": "stdout",
     "output_type": "stream",
     "text": [
      "NonMetastasis: [2. 4. 2. 3. 1.]\n",
      "Metastasis: [8. 4. 5. 2. 6.]\n"
     ]
    },
    {
     "data": {
      "image/png": "[encoded data removed]",
      "text/plain": [
       "<Figure size 432x288 with 1 Axes>"
      ]
     },
     "metadata": {
      "needs_background": "light"
     },
     "output_type": "display_data"
    }
   ],
   "source": [
    "# Returns Non-Metastasis and Metastasis clusters\n",
    "state08, state18 = metastasis_status(kmeans_8.labels_, Clinical_data,train_ID_pixels)\n",
    "state07, state17 = metastasis_status(kmeans_7.labels_, Clinical_data,train_ID_pixels)\n",
    "state06, state16 = metastasis_status(kmeans_6.labels_, Clinical_data,train_ID_pixels)\n",
    "state05, state15 = metastasis_status(kmeans_5.labels_, Clinical_data,train_ID_pixels)\n",
    "\n",
    "# Plots bar plot of Non-Metastasis and Metastasis clusters\n",
    "plot_metastasis_status(state08, state18)\n",
    "plot_metastasis_status(state07, state17)\n",
    "plot_metastasis_status(state06, state16)\n",
    "plot_metastasis_status(state05, state15)\n",
    "\n",
    "# Create dict to save kmeans results and select them later\n",
    "kmeans_dict = {\"8_Clusters\": [kmeans_8.labels_,state08] , \"7_Clusters\": [kmeans_7.labels_,state07]  , \"6_Clusters\": [kmeans_6.labels_,state06] , \"5_Clusters\": [kmeans_5.labels_,state05] }"
   ]
  },
  {
   "cell_type": "code",
   "execution_count": 17,
   "metadata": {},
   "outputs": [
    {
     "name": "stdout",
     "output_type": "stream",
     "text": [
      "Fully metastasis cluster label's index is 6 and it is cluster 7\n"
     ]
    }
   ],
   "source": [
    "# Select the correct kmeans that shows best results from metastasis analysis, must have one fully metastasis cluster\n",
    "selected_clusters_value = 8\n",
    "\n",
    "# ----------------------------------------------------------------------------------\n",
    "\n",
    "# Detect the fully metastasis cluster, select the correct kmeans that shows best results from metastasis analysis\n",
    "labels = kmeans_dict[str(selected_clusters_value)+\"_Clusters\"][0]\n",
    "selected_state = kmeans_dict[str(selected_clusters_value)+\"_Clusters\"][1]\n",
    "\n",
    "fully_metastasis_cluster_label = 0\n",
    "for cluster in selected_state:\n",
    "    if not cluster: # Cluster list is empty, has no healthy patients, so it's fully metastasis cluster\n",
    "        break # fully_metastasis_cluster_label now has the right label, exit loop\n",
    "    \n",
    "    fully_metastasis_cluster_label += 1\n",
    "\n",
    "print(\"Fully metastasis cluster label's index is {} and it is cluster {}\".format(fully_metastasis_cluster_label,fully_metastasis_cluster_label+1))"
   ]
  },
  {
   "cell_type": "code",
   "execution_count": 23,
   "metadata": {},
   "outputs": [],
   "source": [
    "protein_dataframe = SAM_Analysis(labels, Clinical_data, train_ID_pixels, fully_metastasis_cluster_label, train_data, peak_list)\n",
    "protein_dataframe.to_csv(\"BreastCancerAverageSpectrumValues.csv\",index=False)\n",
    "\n",
    "# Run R file in order to generate significant proteins using the csv file"
   ]
  },
  {
   "cell_type": "code",
   "execution_count": 32,
   "metadata": {},
   "outputs": [],
   "source": [
    "#Need to read significant protein file outputted from R\n",
    "\n",
    "SAM_protein = readSignificantProteins(\"significant_breast_proteins.json\",delete=False)\n",
    "SAM_protein = SAM_protein + readSignificantProteins(\"significant_breast_proteins_up.json\",delete=False)\n",
    "\n",
    "SAM_protein_indices=[]\n",
    "for i in range(len(peak_list)):\n",
    "\n",
    "    if peak_list[i][0] in SAM_protein:\n",
    "        SAM_protein_indices.append(i)\n",
    "\n",
    "train_scaled_selected_proteins_data = train_scaled_data[:,SAM_protein_indices]\n",
    "test_scaled_selected_proteins_data = test_scaled_data[:,SAM_protein_indices]\n",
    "\n",
    "train_selected_proteins_data = train_data[:,SAM_protein_indices]\n",
    "test_selected_proteins_data = test_data[:,SAM_protein_indices]\n",
    "\n",
    "train_labels = TargetLabelsCreation(labels , Clinical_data, train_ID_pixels, fully_metastasis_cluster_label)"
   ]
  },
  {
   "cell_type": "code",
   "execution_count": 33,
   "metadata": {},
   "outputs": [
    {
     "data": {
      "text/plain": [
       "[6650, 4999, 6277, 11652]"
      ]
     },
     "execution_count": 33,
     "metadata": {},
     "output_type": "execute_result"
    }
   ],
   "source": [
    "SAM_protein"
   ]
  },
  {
   "cell_type": "code",
   "execution_count": 34,
   "metadata": {},
   "outputs": [],
   "source": [
    "# Test rbf at c = 0.1 , 1 , 10\n",
    "# Test linear at c = 0.1 , 1 , 10\n",
    "y_pred_SVM = SVM(\"rbf\" , 0.1 , train_scaled_selected_proteins_data , train_labels , test_scaled_selected_proteins_data)"
   ]
  },
  {
   "cell_type": "code",
   "execution_count": 35,
   "metadata": {},
   "outputs": [
    {
     "name": "stdout",
     "output_type": "stream",
     "text": [
      "Metastasis probability : 64.54849498327759 \n",
      "Non-Metastasis probability : 35.45150501672241\n"
     ]
    }
   ],
   "source": [
    "Metastasis_prob, Non_Metastasis_prob = ProbabilityCalc(y_pred_SVM)\n",
    "Surv_SVM = [Metastasis_prob , Non_Metastasis_prob]"
   ]
  },
  {
   "cell_type": "code",
   "execution_count": 36,
   "metadata": {},
   "outputs": [],
   "source": [
    "y_pred_KNN = KNN(5 , train_scaled_selected_proteins_data, train_labels, test_scaled_selected_proteins_data)"
   ]
  },
  {
   "cell_type": "code",
   "execution_count": 37,
   "metadata": {},
   "outputs": [
    {
     "name": "stdout",
     "output_type": "stream",
     "text": [
      "Metastasis probability : 65.55183946488295 \n",
      "Non-Metastasis probability : 34.448160535117054\n"
     ]
    }
   ],
   "source": [
    "Metastasis_prob, Non_Metastasis_prob = ProbabilityCalc(y_pred_KNN)\n",
    "Surv_KNN = [Metastasis_prob , Non_Metastasis_prob]"
   ]
  },
  {
   "cell_type": "code",
   "execution_count": 38,
   "metadata": {},
   "outputs": [],
   "source": [
    "# Selected Gastric probabilities, select KNN or SVM results\n",
    "Selected_model = Surv_SVM\n",
    "Metastasis_prob = Selected_model[0]\n",
    "Non_Metastasis_prob = Selected_model[1]"
   ]
  },
  {
   "cell_type": "code",
   "execution_count": 46,
   "metadata": {},
   "outputs": [],
   "source": [
    "# Run after model complete to save the result in the total results dataframe\n",
    "total_results_dataframe_SVM = OutputDataframe(total_results_dataframe, testPatient_ID , Clinical_data_full, Non_Metastasis_prob, Metastasis_prob, selected_clusters_value, SAM_protein)"
   ]
  },
  {
   "cell_type": "code",
   "execution_count": 47,
   "metadata": {},
   "outputs": [
    {
     "data": {
      "text/html": [
       "<div>\n",
       "<style scoped>\n",
       "    .dataframe tbody tr th:only-of-type {\n",
       "        vertical-align: middle;\n",
       "    }\n",
       "\n",
       "    .dataframe tbody tr th {\n",
       "        vertical-align: top;\n",
       "    }\n",
       "\n",
       "    .dataframe thead th {\n",
       "        text-align: right;\n",
       "    }\n",
       "</style>\n",
       "<table border=\"1\" class=\"dataframe\">\n",
       "  <thead>\n",
       "    <tr style=\"text-align: right;\">\n",
       "      <th></th>\n",
       "      <th>Patient to be predicted/left out</th>\n",
       "      <th>Metastasis-Free Subpopulation</th>\n",
       "      <th>Metastasis Subpopulation</th>\n",
       "      <th>Predicted Metastasis</th>\n",
       "      <th>Metastasis Status</th>\n",
       "      <th>Number of Clusters</th>\n",
       "      <th>SAM Features for each tSNE run on new subset</th>\n",
       "    </tr>\n",
       "  </thead>\n",
       "  <tbody>\n",
       "    <tr>\n",
       "      <th>0</th>\n",
       "      <td>1</td>\n",
       "      <td>54.329246</td>\n",
       "      <td>45.670754</td>\n",
       "      <td>2</td>\n",
       "      <td>1</td>\n",
       "      <td>8</td>\n",
       "      <td>Significant Features : m/z = [6650, 4999, 6277...</td>\n",
       "    </tr>\n",
       "    <tr>\n",
       "      <th>1</th>\n",
       "      <td>2</td>\n",
       "      <td>99.824356</td>\n",
       "      <td>0.175644</td>\n",
       "      <td>1</td>\n",
       "      <td>1</td>\n",
       "      <td>8</td>\n",
       "      <td>Significant Features : m/z = [4965, 4999, 5171...</td>\n",
       "    </tr>\n",
       "    <tr>\n",
       "      <th>2</th>\n",
       "      <td>3</td>\n",
       "      <td>36.860215</td>\n",
       "      <td>63.139785</td>\n",
       "      <td>2</td>\n",
       "      <td>1</td>\n",
       "      <td>6</td>\n",
       "      <td>Significant Features : m/z = [6650, 6277, 6980...</td>\n",
       "    </tr>\n",
       "    <tr>\n",
       "      <th>3</th>\n",
       "      <td>4</td>\n",
       "      <td>87.548638</td>\n",
       "      <td>12.451362</td>\n",
       "      <td>2</td>\n",
       "      <td>1</td>\n",
       "      <td>5</td>\n",
       "      <td>Significant Features : m/z = [11310, 6980, 7009]</td>\n",
       "    </tr>\n",
       "    <tr>\n",
       "      <th>4</th>\n",
       "      <td>5</td>\n",
       "      <td>97.392230</td>\n",
       "      <td>2.607770</td>\n",
       "      <td>2</td>\n",
       "      <td>1</td>\n",
       "      <td>8</td>\n",
       "      <td>Significant Features : m/z = [4999, 4965, 5171...</td>\n",
       "    </tr>\n",
       "    <tr>\n",
       "      <th>5</th>\n",
       "      <td>6</td>\n",
       "      <td>61.614173</td>\n",
       "      <td>38.385827</td>\n",
       "      <td>2</td>\n",
       "      <td>1</td>\n",
       "      <td>8</td>\n",
       "      <td>Significant Features : m/z = [6277, 11652, 665...</td>\n",
       "    </tr>\n",
       "    <tr>\n",
       "      <th>6</th>\n",
       "      <td>7</td>\n",
       "      <td>82.867384</td>\n",
       "      <td>17.132616</td>\n",
       "      <td>2</td>\n",
       "      <td>1</td>\n",
       "      <td>6</td>\n",
       "      <td>Significant Features : m/z = [6650, 6277, 1165...</td>\n",
       "    </tr>\n",
       "    <tr>\n",
       "      <th>7</th>\n",
       "      <td>8</td>\n",
       "      <td>32.474227</td>\n",
       "      <td>67.525773</td>\n",
       "      <td>2</td>\n",
       "      <td>1</td>\n",
       "      <td>5</td>\n",
       "      <td>Significant Features : m/z = [6650, 6277, 4965...</td>\n",
       "    </tr>\n",
       "    <tr>\n",
       "      <th>8</th>\n",
       "      <td>9</td>\n",
       "      <td>83.183569</td>\n",
       "      <td>16.816431</td>\n",
       "      <td>2</td>\n",
       "      <td>1</td>\n",
       "      <td>8</td>\n",
       "      <td>Significant Features : m/z = [11652, 6650, 627...</td>\n",
       "    </tr>\n",
       "    <tr>\n",
       "      <th>9</th>\n",
       "      <td>10</td>\n",
       "      <td>68.213573</td>\n",
       "      <td>31.786427</td>\n",
       "      <td>2</td>\n",
       "      <td>1</td>\n",
       "      <td>8</td>\n",
       "      <td>Significant Features : m/z = [6277, 6650, 1165...</td>\n",
       "    </tr>\n",
       "    <tr>\n",
       "      <th>10</th>\n",
       "      <td>11</td>\n",
       "      <td>99.284010</td>\n",
       "      <td>0.715990</td>\n",
       "      <td>1</td>\n",
       "      <td>1</td>\n",
       "      <td>7</td>\n",
       "      <td>Significant Features : m/z = [4965, 4999, 5171...</td>\n",
       "    </tr>\n",
       "    <tr>\n",
       "      <th>0</th>\n",
       "      <td>1</td>\n",
       "      <td>35.451505</td>\n",
       "      <td>64.548495</td>\n",
       "      <td>2</td>\n",
       "      <td>1</td>\n",
       "      <td>8</td>\n",
       "      <td>Significant Features : m/z = [6650, 4999, 6277...</td>\n",
       "    </tr>\n",
       "    <tr>\n",
       "      <th>0</th>\n",
       "      <td>1</td>\n",
       "      <td>34.448161</td>\n",
       "      <td>65.551839</td>\n",
       "      <td>2</td>\n",
       "      <td>1</td>\n",
       "      <td>8</td>\n",
       "      <td>Significant Features : m/z = [6650, 4999, 6277...</td>\n",
       "    </tr>\n",
       "  </tbody>\n",
       "</table>\n",
       "</div>"
      ],
      "text/plain": [
       "    Patient to be predicted/left out  Metastasis-Free Subpopulation  \\\n",
       "0                                  1                      54.329246   \n",
       "1                                  2                      99.824356   \n",
       "2                                  3                      36.860215   \n",
       "3                                  4                      87.548638   \n",
       "4                                  5                      97.392230   \n",
       "5                                  6                      61.614173   \n",
       "6                                  7                      82.867384   \n",
       "7                                  8                      32.474227   \n",
       "8                                  9                      83.183569   \n",
       "9                                 10                      68.213573   \n",
       "10                                11                      99.284010   \n",
       "0                                  1                      35.451505   \n",
       "0                                  1                      34.448161   \n",
       "\n",
       "    Metastasis Subpopulation  Predicted Metastasis  Metastasis Status  \\\n",
       "0                  45.670754                     2                  1   \n",
       "1                   0.175644                     1                  1   \n",
       "2                  63.139785                     2                  1   \n",
       "3                  12.451362                     2                  1   \n",
       "4                   2.607770                     2                  1   \n",
       "5                  38.385827                     2                  1   \n",
       "6                  17.132616                     2                  1   \n",
       "7                  67.525773                     2                  1   \n",
       "8                  16.816431                     2                  1   \n",
       "9                  31.786427                     2                  1   \n",
       "10                  0.715990                     1                  1   \n",
       "0                  64.548495                     2                  1   \n",
       "0                  65.551839                     2                  1   \n",
       "\n",
       "    Number of Clusters       SAM Features for each tSNE run on new subset  \n",
       "0                    8  Significant Features : m/z = [6650, 4999, 6277...  \n",
       "1                    8  Significant Features : m/z = [4965, 4999, 5171...  \n",
       "2                    6  Significant Features : m/z = [6650, 6277, 6980...  \n",
       "3                    5   Significant Features : m/z = [11310, 6980, 7009]  \n",
       "4                    8  Significant Features : m/z = [4999, 4965, 5171...  \n",
       "5                    8  Significant Features : m/z = [6277, 11652, 665...  \n",
       "6                    6  Significant Features : m/z = [6650, 6277, 1165...  \n",
       "7                    5  Significant Features : m/z = [6650, 6277, 4965...  \n",
       "8                    8  Significant Features : m/z = [11652, 6650, 627...  \n",
       "9                    8  Significant Features : m/z = [6277, 6650, 1165...  \n",
       "10                   7  Significant Features : m/z = [4965, 4999, 5171...  \n",
       "0                    8  Significant Features : m/z = [6650, 4999, 6277...  \n",
       "0                    8  Significant Features : m/z = [6650, 4999, 6277...  "
      ]
     },
     "execution_count": 47,
     "metadata": {},
     "output_type": "execute_result"
    }
   ],
   "source": [
    "total_results_dataframe_SVM"
   ]
  },
  {
   "cell_type": "code",
   "execution_count": 49,
   "metadata": {},
   "outputs": [],
   "source": [
    "total_results_dataframe_SVM.to_csv(\"total_breastCancer_results_SVM.csv\" , index = False)"
   ]
  },
  {
   "cell_type": "code",
   "execution_count": 50,
   "metadata": {},
   "outputs": [],
   "source": [
    "Selected_model = Surv_KNN\n",
    "Metastasis_prob = Selected_model[0]\n",
    "Non_Metastasis_prob = Selected_model[1]"
   ]
  },
  {
   "cell_type": "code",
   "execution_count": 51,
   "metadata": {},
   "outputs": [],
   "source": [
    "total_results_dataframe_KNN = OutputDataframe(total_results_dataframe_KNN, testPatient_ID , Clinical_data_full, Non_Metastasis_prob, Metastasis_prob, selected_clusters_value, SAM_protein)"
   ]
  },
  {
   "cell_type": "code",
   "execution_count": 52,
   "metadata": {},
   "outputs": [
    {
     "data": {
      "text/html": [
       "<div>\n",
       "<style scoped>\n",
       "    .dataframe tbody tr th:only-of-type {\n",
       "        vertical-align: middle;\n",
       "    }\n",
       "\n",
       "    .dataframe tbody tr th {\n",
       "        vertical-align: top;\n",
       "    }\n",
       "\n",
       "    .dataframe thead th {\n",
       "        text-align: right;\n",
       "    }\n",
       "</style>\n",
       "<table border=\"1\" class=\"dataframe\">\n",
       "  <thead>\n",
       "    <tr style=\"text-align: right;\">\n",
       "      <th></th>\n",
       "      <th>Patient to be predicted/left out</th>\n",
       "      <th>Metastasis-Free Subpopulation</th>\n",
       "      <th>Metastasis Subpopulation</th>\n",
       "      <th>Predicted Metastasis</th>\n",
       "      <th>Metastasis Status</th>\n",
       "      <th>Number of Clusters</th>\n",
       "      <th>SAM Features for each tSNE run on new subset</th>\n",
       "    </tr>\n",
       "  </thead>\n",
       "  <tbody>\n",
       "    <tr>\n",
       "      <th>0</th>\n",
       "      <td>1</td>\n",
       "      <td>34.448161</td>\n",
       "      <td>65.551839</td>\n",
       "      <td>2</td>\n",
       "      <td>1</td>\n",
       "      <td>8</td>\n",
       "      <td>Significant Features : m/z = [6650, 4999, 6277...</td>\n",
       "    </tr>\n",
       "    <tr>\n",
       "      <th>0</th>\n",
       "      <td>1</td>\n",
       "      <td>34.448161</td>\n",
       "      <td>65.551839</td>\n",
       "      <td>2</td>\n",
       "      <td>1</td>\n",
       "      <td>8</td>\n",
       "      <td>Significant Features : m/z = [6650, 4999, 6277...</td>\n",
       "    </tr>\n",
       "  </tbody>\n",
       "</table>\n",
       "</div>"
      ],
      "text/plain": [
       "  Patient to be predicted/left out  Metastasis-Free Subpopulation  \\\n",
       "0                                1                      34.448161   \n",
       "0                                1                      34.448161   \n",
       "\n",
       "   Metastasis Subpopulation Predicted Metastasis Metastasis Status  \\\n",
       "0                 65.551839                    2                 1   \n",
       "0                 65.551839                    2                 1   \n",
       "\n",
       "  Number of Clusters       SAM Features for each tSNE run on new subset  \n",
       "0                  8  Significant Features : m/z = [6650, 4999, 6277...  \n",
       "0                  8  Significant Features : m/z = [6650, 4999, 6277...  "
      ]
     },
     "execution_count": 52,
     "metadata": {},
     "output_type": "execute_result"
    }
   ],
   "source": [
    "total_results_dataframe_KNN"
   ]
  },
  {
   "cell_type": "code",
   "execution_count": 54,
   "metadata": {},
   "outputs": [],
   "source": [
    "total_results_dataframe_KNN.to_csv(\"total_breastCancer_results_KNN.csv\" , index = False)"
   ]
  },
  {
   "cell_type": "code",
   "execution_count": null,
   "metadata": {},
   "outputs": [],
   "source": []
  }
 ],
 "metadata": {
  "interpreter": {
   "hash": "5a862fa755b339cb269ec5ceb6e73837f63b6953002ae94843c7ff6941dd7636"
  },
  "kernelspec": {
   "display_name": "Python 3.8.5 ('base')",
   "language": "python",
   "name": "python3"
  },
  "language_info": {
   "codemirror_mode": {
    "name": "ipython",
    "version": 3
   },
   "file_extension": ".py",
   "mimetype": "text/x-python",
   "name": "python",
   "nbconvert_exporter": "python",
   "pygments_lexer": "ipython3",
   "version": "3.8.8"
  },
  "orig_nbformat": 4
 },
 "nbformat": 4,
 "nbformat_minor": 2
}
