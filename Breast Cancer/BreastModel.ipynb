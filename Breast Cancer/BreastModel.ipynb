{
 "cells": [
  {
   "cell_type": "code",
   "execution_count": 1,
   "metadata": {},
   "outputs": [],
   "source": [
    "from ipynb.fs.full.BreastFunctions import *\n",
    "#from BreastFunctions_py import *\n",
    "import numpy as np\n",
    "import pandas as pd"
   ]
  },
  {
   "cell_type": "code",
   "execution_count": 639,
   "metadata": {},
   "outputs": [],
   "source": [
    "# Prepare this dataframe (total results) only once\n",
    "\n",
    "# Only load if needed to load total results from previous runs to continue on\n",
    "total_results_dataframe_SVM = pd.read_csv(\"total_breastCancer_results_SVM.csv\")\n",
    "total_results_dataframe_KNN = pd.read_csv(\"total_breastCancer_results_KNN.csv\")\n",
    "\n",
    "# # Prepare this dataframe (total results) only once\n",
    "# total_results_dataframe_SVM = pd.DataFrame(columns=[\"Patient to be predicted/left out\" , \"Metastasis-Free Subpopulation\" , \"Metastasis Subpopulation\" , \"Predicted Metastasis\" ,\n",
    "# \"Metastasis Status\", \"Number of Clusters\" , \"SAM Features for each tSNE run on new subset\"])\n",
    "\n",
    "# total_results_dataframe_KNN= pd.DataFrame(columns=[\"Patient to be predicted/left out\" , \"Metastasis-Free Subpopulation\" , \"Metastasis Subpopulation\" , \"Predicted Metastasis\" ,\n",
    "# \"Metastasis Status\", \"Number of Clusters\" , \"SAM Features for each tSNE run on new subset\"])\n",
    "\n"
   ]
  },
  {
   "cell_type": "code",
   "execution_count": 533,
   "metadata": {},
   "outputs": [],
   "source": [
    "HE_image , MSI_data_cube , goodlist, peak_list, pixel_to_sample_ID, sample_only_data , sample_ID_pixels = ReadBreastData()"
   ]
  },
  {
   "cell_type": "code",
   "execution_count": 507,
   "metadata": {},
   "outputs": [
    {
     "name": "stdout",
     "output_type": "stream",
     "text": [
      "[t-SNE] Computing 151 nearest neighbors...\n",
      "[t-SNE] Indexed 47588 samples in 0.005s...\n",
      "[t-SNE] Computed neighbors for 47588 samples in 53.100s...\n",
      "[t-SNE] Computed conditional probabilities for sample 1000 / 47588\n",
      "[t-SNE] Computed conditional probabilities for sample 2000 / 47588\n",
      "[t-SNE] Computed conditional probabilities for sample 3000 / 47588\n",
      "[t-SNE] Computed conditional probabilities for sample 4000 / 47588\n",
      "[t-SNE] Computed conditional probabilities for sample 5000 / 47588\n",
      "[t-SNE] Computed conditional probabilities for sample 6000 / 47588\n",
      "[t-SNE] Computed conditional probabilities for sample 7000 / 47588\n",
      "[t-SNE] Computed conditional probabilities for sample 8000 / 47588\n",
      "[t-SNE] Computed conditional probabilities for sample 9000 / 47588\n",
      "[t-SNE] Computed conditional probabilities for sample 10000 / 47588\n",
      "[t-SNE] Computed conditional probabilities for sample 11000 / 47588\n",
      "[t-SNE] Computed conditional probabilities for sample 12000 / 47588\n",
      "[t-SNE] Computed conditional probabilities for sample 13000 / 47588\n",
      "[t-SNE] Computed conditional probabilities for sample 14000 / 47588\n",
      "[t-SNE] Computed conditional probabilities for sample 15000 / 47588\n",
      "[t-SNE] Computed conditional probabilities for sample 16000 / 47588\n",
      "[t-SNE] Computed conditional probabilities for sample 17000 / 47588\n",
      "[t-SNE] Computed conditional probabilities for sample 18000 / 47588\n",
      "[t-SNE] Computed conditional probabilities for sample 19000 / 47588\n",
      "[t-SNE] Computed conditional probabilities for sample 20000 / 47588\n",
      "[t-SNE] Computed conditional probabilities for sample 21000 / 47588\n",
      "[t-SNE] Computed conditional probabilities for sample 22000 / 47588\n",
      "[t-SNE] Computed conditional probabilities for sample 23000 / 47588\n",
      "[t-SNE] Computed conditional probabilities for sample 24000 / 47588\n",
      "[t-SNE] Computed conditional probabilities for sample 25000 / 47588\n",
      "[t-SNE] Computed conditional probabilities for sample 26000 / 47588\n",
      "[t-SNE] Computed conditional probabilities for sample 27000 / 47588\n",
      "[t-SNE] Computed conditional probabilities for sample 28000 / 47588\n",
      "[t-SNE] Computed conditional probabilities for sample 29000 / 47588\n",
      "[t-SNE] Computed conditional probabilities for sample 30000 / 47588\n",
      "[t-SNE] Computed conditional probabilities for sample 31000 / 47588\n",
      "[t-SNE] Computed conditional probabilities for sample 32000 / 47588\n",
      "[t-SNE] Computed conditional probabilities for sample 33000 / 47588\n",
      "[t-SNE] Computed conditional probabilities for sample 34000 / 47588\n",
      "[t-SNE] Computed conditional probabilities for sample 35000 / 47588\n",
      "[t-SNE] Computed conditional probabilities for sample 36000 / 47588\n",
      "[t-SNE] Computed conditional probabilities for sample 37000 / 47588\n",
      "[t-SNE] Computed conditional probabilities for sample 38000 / 47588\n",
      "[t-SNE] Computed conditional probabilities for sample 39000 / 47588\n",
      "[t-SNE] Computed conditional probabilities for sample 40000 / 47588\n",
      "[t-SNE] Computed conditional probabilities for sample 41000 / 47588\n",
      "[t-SNE] Computed conditional probabilities for sample 42000 / 47588\n",
      "[t-SNE] Computed conditional probabilities for sample 43000 / 47588\n",
      "[t-SNE] Computed conditional probabilities for sample 44000 / 47588\n",
      "[t-SNE] Computed conditional probabilities for sample 45000 / 47588\n",
      "[t-SNE] Computed conditional probabilities for sample 46000 / 47588\n",
      "[t-SNE] Computed conditional probabilities for sample 47000 / 47588\n",
      "[t-SNE] Computed conditional probabilities for sample 47588 / 47588\n",
      "[t-SNE] Mean sigma: 0.000000\n",
      "[t-SNE] KL divergence after 250 iterations with early exaggeration: 98.469437\n",
      "[t-SNE] KL divergence after 1000 iterations: 2.802109\n",
      "t-SNE done! Time elapsed: 1210.452555656433 seconds\n"
     ]
    }
   ],
   "source": [
    "# For loop run tSNE on patients\n",
    "    ## Selecting Patient as test\n",
    "testPatient_ID = 11\n",
    "#-------------------------------------------------------\n",
    "# Splitting data into train and test and scaled and non_scaled\n",
    "train_scaled_data,train_data,train_ID_pixels,test_scaled_data,test_data,test_ID_pixels = SplitData(ID = testPatient_ID ,\n",
    "        sample_only_data = sample_only_data,\n",
    "        sample_ID_pixels = sample_ID_pixels )\n",
    "\n",
    "    # Run tSNE Model\n",
    "tsne_results = tSNE(train_scaled_data)\n",
    "np.save(\"patient_TSNE/BreastCancer_tSNE_Model_Patient_{}\".format(testPatient_ID) , tsne_results)"
   ]
  },
  {
   "cell_type": "code",
   "execution_count": 652,
   "metadata": {},
   "outputs": [],
   "source": [
    "## Selecting Patient as test\n",
    "testPatient_ID = 12\n",
    "#-------------------------------------------------------\n",
    "\n",
    "# Splitting data into train and test and scaled and non_scaled\n",
    "train_scaled_data,train_data,train_ID_pixels,test_scaled_data,test_data,test_ID_pixels = SplitData(ID = testPatient_ID ,\n",
    "        sample_only_data = sample_only_data,\n",
    "        sample_ID_pixels = sample_ID_pixels )\n",
    "\n"
   ]
  },
  {
   "cell_type": "code",
   "execution_count": 653,
   "metadata": {},
   "outputs": [],
   "source": [
    "tsne_results = np.load(\"patient_TSNE/BreastCancer_tSNE_Model_Patient_{}.npy\".format(testPatient_ID))"
   ]
  },
  {
   "cell_type": "code",
   "execution_count": 654,
   "metadata": {},
   "outputs": [],
   "source": [
    "kmeans_8 , kmeans_7, kmeans_6, kmeans_5 = KMeans_results(tsne_results)"
   ]
  },
  {
   "cell_type": "code",
   "execution_count": 655,
   "metadata": {},
   "outputs": [],
   "source": [
    "Clinical_data = ReadClinicalData(testPatient_ID , \"ClinicalData.xlsx\")\n",
    "Clinical_data_full = pd.read_excel(\"ClinicalData.xlsx\",\"Breast Cancer Clinical Data\")"
   ]
  },
  {
   "cell_type": "code",
   "execution_count": 656,
   "metadata": {},
   "outputs": [
    {
     "name": "stdout",
     "output_type": "stream",
     "text": [
      "NonMetastasis: [6. 1. 1. 1. 3. 3. 1. 0.]\n",
      "Metastasis: [1. 4. 6. 3. 3. 2. 8. 1.]\n"
     ]
    },
    {
     "data": {
      "image/png": "[encoded data removed]",
      "text/plain": [
       "<Figure size 432x288 with 1 Axes>"
      ]
     },
     "metadata": {
      "needs_background": "light"
     },
     "output_type": "display_data"
    },
    {
     "name": "stdout",
     "output_type": "stream",
     "text": [
      "NonMetastasis: [2. 2. 1. 7. 1. 2. 4.]\n",
      "Metastasis: [5. 4. 4. 2. 9. 1. 2.]\n"
     ]
    },
    {
     "data": {
      "image/png": "[encoded data removed]",
      "text/plain": [
       "<Figure size 432x288 with 1 Axes>"
      ]
     },
     "metadata": {
      "needs_background": "light"
     },
     "output_type": "display_data"
    },
    {
     "name": "stdout",
     "output_type": "stream",
     "text": [
      "NonMetastasis: [1. 3. 2. 5. 3. 1.]\n",
      "Metastasis: [3. 3. 5. 3. 4. 8.]\n"
     ]
    },
    {
     "data": {
      "image/png": "[encoded data removed]",
      "text/plain": [
       "<Figure size 432x288 with 1 Axes>"
      ]
     },
     "metadata": {
      "needs_background": "light"
     },
     "output_type": "display_data"
    },
    {
     "name": "stdout",
     "output_type": "stream",
     "text": [
      "NonMetastasis: [3. 1. 3. 3. 3.]\n",
      "Metastasis: [ 3.  3.  5. 10.  3.]\n"
     ]
    },
    {
     "data": {
      "image/png": "[encoded data removed]",
      "text/plain": [
       "<Figure size 432x288 with 1 Axes>"
      ]
     },
     "metadata": {
      "needs_background": "light"
     },
     "output_type": "display_data"
    }
   ],
   "source": [
    "# Returns Non-Metastasis and Metastasis clusters\n",
    "state08, state18 = metastasis_status(kmeans_8.labels_, Clinical_data,train_ID_pixels)\n",
    "state07, state17 = metastasis_status(kmeans_7.labels_, Clinical_data,train_ID_pixels)\n",
    "state06, state16 = metastasis_status(kmeans_6.labels_, Clinical_data,train_ID_pixels)\n",
    "state05, state15 = metastasis_status(kmeans_5.labels_, Clinical_data,train_ID_pixels)\n",
    "\n",
    "# Plots bar plot of Non-Metastasis and Metastasis clusters\n",
    "plot_metastasis_status(state08, state18)\n",
    "plot_metastasis_status(state07, state17)\n",
    "plot_metastasis_status(state06, state16)\n",
    "plot_metastasis_status(state05, state15)\n",
    "\n",
    "# Create dict to save kmeans results and select them later\n",
    "kmeans_dict = {\"8_Clusters\": [kmeans_8.labels_,state08] , \"7_Clusters\": [kmeans_7.labels_,state07]  , \"6_Clusters\": [kmeans_6.labels_,state06] , \"5_Clusters\": [kmeans_5.labels_,state05] }"
   ]
  },
  {
   "cell_type": "code",
   "execution_count": 657,
   "metadata": {},
   "outputs": [
    {
     "name": "stdout",
     "output_type": "stream",
     "text": [
      "Fully metastasis cluster label's index is 7 and it is cluster 8\n"
     ]
    }
   ],
   "source": [
    "# Select the correct kmeans that shows best results from metastasis analysis, must have one fully metastasis cluster\n",
    "selected_clusters_value = 8\n",
    "\n",
    "# ----------------------------------------------------------------------------------\n",
    "\n",
    "# Detect the fully metastasis cluster, select the correct kmeans that shows best results from metastasis analysis\n",
    "labels = kmeans_dict[str(selected_clusters_value)+\"_Clusters\"][0]\n",
    "selected_state = kmeans_dict[str(selected_clusters_value)+\"_Clusters\"][1]\n",
    "\n",
    "fully_metastasis_cluster_label = 0\n",
    "for cluster in selected_state:\n",
    "    if not cluster: # Cluster list is empty, has no healthy patients, so it's fully metastasis cluster\n",
    "        break # fully_metastasis_cluster_label now has the right label, exit loop\n",
    "    \n",
    "    fully_metastasis_cluster_label += 1\n",
    "\n",
    "print(\"Fully metastasis cluster label's index is {} and it is cluster {}\".format(fully_metastasis_cluster_label,fully_metastasis_cluster_label+1))"
   ]
  },
  {
   "cell_type": "code",
   "execution_count": 658,
   "metadata": {},
   "outputs": [],
   "source": [
    "# Run R file in order to generate significant proteins using the csv file\n",
    "protein_dataframe = SAM_Analysis(labels, Clinical_data, train_ID_pixels, fully_metastasis_cluster_label, train_data, peak_list)\n",
    "protein_dataframe.to_csv(\"BreastCancerAverageSpectrumValues.csv\",index=False)"
   ]
  },
  {
   "cell_type": "code",
   "execution_count": 626,
   "metadata": {},
   "outputs": [],
   "source": [
    "#Need to read significant protein file outputted from R\n",
    "\n",
    "SAM_protein = readSignificantProteins(\"significant_breast_proteins.json\",delete=False)\n",
    "SAM_protein = SAM_protein + readSignificantProteins(\"significant_breast_proteins_up.json\",delete=False)\n",
    "\n",
    "SAM_protein_indices=[]\n",
    "for i in range(len(peak_list)):\n",
    "\n",
    "    if peak_list[i][0] in SAM_protein:\n",
    "        SAM_protein_indices.append(i)\n",
    "\n",
    "train_scaled_selected_proteins_data = train_scaled_data[:,SAM_protein_indices]\n",
    "test_scaled_selected_proteins_data = test_scaled_data[:,SAM_protein_indices]\n",
    "\n",
    "train_selected_proteins_data = train_data[:,SAM_protein_indices]\n",
    "test_selected_proteins_data = test_data[:,SAM_protein_indices]\n",
    "\n",
    "train_labels = TargetLabelsCreation(labels , Clinical_data, train_ID_pixels, fully_metastasis_cluster_label)"
   ]
  },
  {
   "cell_type": "code",
   "execution_count": 627,
   "metadata": {},
   "outputs": [
    {
     "data": {
      "text/plain": [
       "[4999, 4965, 5171, 5067, 9265, 6980]"
      ]
     },
     "execution_count": 627,
     "metadata": {},
     "output_type": "execute_result"
    }
   ],
   "source": [
    "SAM_protein"
   ]
  },
  {
   "cell_type": "code",
   "execution_count": 628,
   "metadata": {},
   "outputs": [],
   "source": [
    "# Test rbf at c = 0.1 , 1 , 10\n",
    "# Test linear at c = 0.1 , 1 , 10\n",
    "y_pred_SVM = SVM(\"rbf\" , 0.1 , train_scaled_selected_proteins_data , train_labels , test_scaled_selected_proteins_data)"
   ]
  },
  {
   "cell_type": "code",
   "execution_count": 638,
   "metadata": {},
   "outputs": [
    {
     "name": "stdout",
     "output_type": "stream",
     "text": [
      "Metastasis probability : 50.12333497779971 \n",
      "Non-Metastasis probability : 49.87666502220029\n"
     ]
    }
   ],
   "source": [
    "Metastasis_prob, Non_Metastasis_prob = ProbabilityCalc(y_pred_SVM)\n",
    "Surv_SVM = [Metastasis_prob , Non_Metastasis_prob]"
   ]
  },
  {
   "cell_type": "code",
   "execution_count": 610,
   "metadata": {},
   "outputs": [],
   "source": [
    "y_pred_KNN = KNN(5 , train_scaled_selected_proteins_data, train_labels, test_scaled_selected_proteins_data)"
   ]
  },
  {
   "cell_type": "code",
   "execution_count": 629,
   "metadata": {},
   "outputs": [
    {
     "name": "stdout",
     "output_type": "stream",
     "text": [
      "Metastasis probability : 25.900345337937843 \n",
      "Non-Metastasis probability : 74.09965466206216\n"
     ]
    }
   ],
   "source": [
    "Metastasis_prob, Non_Metastasis_prob = ProbabilityCalc(y_pred_KNN)\n",
    "Surv_KNN = [Metastasis_prob , Non_Metastasis_prob]"
   ]
  },
  {
   "cell_type": "code",
   "execution_count": 630,
   "metadata": {},
   "outputs": [],
   "source": [
    "# Selected Gastric probabilities, select KNN or SVM results\n",
    "Selected_model = Surv_SVM\n",
    "Metastasis_prob = Selected_model[0]\n",
    "Non_Metastasis_prob = Selected_model[1]"
   ]
  },
  {
   "cell_type": "code",
   "execution_count": 631,
   "metadata": {},
   "outputs": [],
   "source": [
    "# Run after model complete to save the result in the total results dataframe\n",
    "total_results_dataframe_SVM = OutputDataframe(total_results_dataframe_SVM, testPatient_ID , Clinical_data_full, Non_Metastasis_prob, Metastasis_prob, selected_clusters_value, SAM_protein)"
   ]
  },
  {
   "cell_type": "code",
   "execution_count": 632,
   "metadata": {},
   "outputs": [
    {
     "data": {
      "text/html": [
       "<div>\n",
       "<style scoped>\n",
       "    .dataframe tbody tr th:only-of-type {\n",
       "        vertical-align: middle;\n",
       "    }\n",
       "\n",
       "    .dataframe tbody tr th {\n",
       "        vertical-align: top;\n",
       "    }\n",
       "\n",
       "    .dataframe thead th {\n",
       "        text-align: right;\n",
       "    }\n",
       "</style>\n",
       "<table border=\"1\" class=\"dataframe\">\n",
       "  <thead>\n",
       "    <tr style=\"text-align: right;\">\n",
       "      <th></th>\n",
       "      <th>Patient to be predicted/left out</th>\n",
       "      <th>Metastasis-Free Subpopulation</th>\n",
       "      <th>Metastasis Subpopulation</th>\n",
       "      <th>Predicted Metastasis</th>\n",
       "      <th>Metastasis Status</th>\n",
       "      <th>Number of Clusters</th>\n",
       "      <th>SAM Features for each tSNE run on new subset</th>\n",
       "    </tr>\n",
       "  </thead>\n",
       "  <tbody>\n",
       "    <tr>\n",
       "      <th>0</th>\n",
       "      <td>1</td>\n",
       "      <td>74.916388</td>\n",
       "      <td>25.083612</td>\n",
       "      <td>2</td>\n",
       "      <td>1</td>\n",
       "      <td>8</td>\n",
       "      <td>Significant Features : m/z = [6650, 4999, 6277...</td>\n",
       "    </tr>\n",
       "    <tr>\n",
       "      <th>1</th>\n",
       "      <td>2</td>\n",
       "      <td>83.548009</td>\n",
       "      <td>16.451991</td>\n",
       "      <td>2</td>\n",
       "      <td>1</td>\n",
       "      <td>8</td>\n",
       "      <td>Significant Features : m/z = [4965, 4999, 5171...</td>\n",
       "    </tr>\n",
       "    <tr>\n",
       "      <th>2</th>\n",
       "      <td>3</td>\n",
       "      <td>53.247312</td>\n",
       "      <td>46.752688</td>\n",
       "      <td>2</td>\n",
       "      <td>1</td>\n",
       "      <td>5</td>\n",
       "      <td>Significant Features : m/z = [4999, 6980, 4965...</td>\n",
       "    </tr>\n",
       "    <tr>\n",
       "      <th>3</th>\n",
       "      <td>4</td>\n",
       "      <td>90.439133</td>\n",
       "      <td>9.560867</td>\n",
       "      <td>2</td>\n",
       "      <td>1</td>\n",
       "      <td>5</td>\n",
       "      <td>Significant Features : m/z = [4965, 5171, 4999...</td>\n",
       "    </tr>\n",
       "    <tr>\n",
       "      <th>4</th>\n",
       "      <td>5</td>\n",
       "      <td>88.451304</td>\n",
       "      <td>11.548696</td>\n",
       "      <td>2</td>\n",
       "      <td>1</td>\n",
       "      <td>7</td>\n",
       "      <td>Significant Features : m/z = [4965, 4999, 5171]</td>\n",
       "    </tr>\n",
       "    <tr>\n",
       "      <th>5</th>\n",
       "      <td>6</td>\n",
       "      <td>62.598425</td>\n",
       "      <td>37.401575</td>\n",
       "      <td>2</td>\n",
       "      <td>1</td>\n",
       "      <td>8</td>\n",
       "      <td>Significant Features : m/z = [6277, 11652, 665...</td>\n",
       "    </tr>\n",
       "    <tr>\n",
       "      <th>6</th>\n",
       "      <td>7</td>\n",
       "      <td>88.387097</td>\n",
       "      <td>11.612903</td>\n",
       "      <td>2</td>\n",
       "      <td>1</td>\n",
       "      <td>7</td>\n",
       "      <td>Significant Features : m/z = [4999, 4965, 5067...</td>\n",
       "    </tr>\n",
       "    <tr>\n",
       "      <th>7</th>\n",
       "      <td>8</td>\n",
       "      <td>55.007364</td>\n",
       "      <td>44.992636</td>\n",
       "      <td>2</td>\n",
       "      <td>1</td>\n",
       "      <td>6</td>\n",
       "      <td>Significant Features : m/z = [6650, 6277, 4999...</td>\n",
       "    </tr>\n",
       "    <tr>\n",
       "      <th>0</th>\n",
       "      <td>9</td>\n",
       "      <td>70.218228</td>\n",
       "      <td>29.781772</td>\n",
       "      <td>2</td>\n",
       "      <td>1</td>\n",
       "      <td>8</td>\n",
       "      <td>Significant Features : m/z = [11652, 6650, 499...</td>\n",
       "    </tr>\n",
       "    <tr>\n",
       "      <th>0</th>\n",
       "      <td>10</td>\n",
       "      <td>59.580838</td>\n",
       "      <td>40.419162</td>\n",
       "      <td>2</td>\n",
       "      <td>1</td>\n",
       "      <td>7</td>\n",
       "      <td>Significant Features : m/z = [6980, 4965, 4999...</td>\n",
       "    </tr>\n",
       "    <tr>\n",
       "      <th>0</th>\n",
       "      <td>14</td>\n",
       "      <td>95.268817</td>\n",
       "      <td>4.731183</td>\n",
       "      <td>2</td>\n",
       "      <td>2</td>\n",
       "      <td>7</td>\n",
       "      <td>Significant Features : m/z = [4965, 4999, 5067...</td>\n",
       "    </tr>\n",
       "    <tr>\n",
       "      <th>0</th>\n",
       "      <td>15</td>\n",
       "      <td>94.721263</td>\n",
       "      <td>5.278737</td>\n",
       "      <td>2</td>\n",
       "      <td>2</td>\n",
       "      <td>8</td>\n",
       "      <td>Significant Features : m/z = [4999, 5067, 4965...</td>\n",
       "    </tr>\n",
       "    <tr>\n",
       "      <th>0</th>\n",
       "      <td>15</td>\n",
       "      <td>86.679822</td>\n",
       "      <td>13.320178</td>\n",
       "      <td>2</td>\n",
       "      <td>2</td>\n",
       "      <td>7</td>\n",
       "      <td>Significant Features : m/z = [5067, 4999, 4620]</td>\n",
       "    </tr>\n",
       "    <tr>\n",
       "      <th>0</th>\n",
       "      <td>15</td>\n",
       "      <td>50.468673</td>\n",
       "      <td>49.531327</td>\n",
       "      <td>2</td>\n",
       "      <td>2</td>\n",
       "      <td>5</td>\n",
       "      <td>Significant Features : m/z = [4999, 4965, 5171...</td>\n",
       "    </tr>\n",
       "  </tbody>\n",
       "</table>\n",
       "</div>"
      ],
      "text/plain": [
       "   Patient to be predicted/left out  Metastasis-Free Subpopulation  \\\n",
       "0                                 1                      74.916388   \n",
       "1                                 2                      83.548009   \n",
       "2                                 3                      53.247312   \n",
       "3                                 4                      90.439133   \n",
       "4                                 5                      88.451304   \n",
       "5                                 6                      62.598425   \n",
       "6                                 7                      88.387097   \n",
       "7                                 8                      55.007364   \n",
       "0                                 9                      70.218228   \n",
       "0                                10                      59.580838   \n",
       "0                                14                      95.268817   \n",
       "0                                15                      94.721263   \n",
       "0                                15                      86.679822   \n",
       "0                                15                      50.468673   \n",
       "\n",
       "   Metastasis Subpopulation  Predicted Metastasis  Metastasis Status  \\\n",
       "0                 25.083612                     2                  1   \n",
       "1                 16.451991                     2                  1   \n",
       "2                 46.752688                     2                  1   \n",
       "3                  9.560867                     2                  1   \n",
       "4                 11.548696                     2                  1   \n",
       "5                 37.401575                     2                  1   \n",
       "6                 11.612903                     2                  1   \n",
       "7                 44.992636                     2                  1   \n",
       "0                 29.781772                     2                  1   \n",
       "0                 40.419162                     2                  1   \n",
       "0                  4.731183                     2                  2   \n",
       "0                  5.278737                     2                  2   \n",
       "0                 13.320178                     2                  2   \n",
       "0                 49.531327                     2                  2   \n",
       "\n",
       "   Number of Clusters       SAM Features for each tSNE run on new subset  \n",
       "0                   8  Significant Features : m/z = [6650, 4999, 6277...  \n",
       "1                   8  Significant Features : m/z = [4965, 4999, 5171...  \n",
       "2                   5  Significant Features : m/z = [4999, 6980, 4965...  \n",
       "3                   5  Significant Features : m/z = [4965, 5171, 4999...  \n",
       "4                   7    Significant Features : m/z = [4965, 4999, 5171]  \n",
       "5                   8  Significant Features : m/z = [6277, 11652, 665...  \n",
       "6                   7  Significant Features : m/z = [4999, 4965, 5067...  \n",
       "7                   6  Significant Features : m/z = [6650, 6277, 4999...  \n",
       "0                   8  Significant Features : m/z = [11652, 6650, 499...  \n",
       "0                   7  Significant Features : m/z = [6980, 4965, 4999...  \n",
       "0                   7  Significant Features : m/z = [4965, 4999, 5067...  \n",
       "0                   8  Significant Features : m/z = [4999, 5067, 4965...  \n",
       "0                   7    Significant Features : m/z = [5067, 4999, 4620]  \n",
       "0                   5  Significant Features : m/z = [4999, 4965, 5171...  "
      ]
     },
     "execution_count": 632,
     "metadata": {},
     "output_type": "execute_result"
    }
   ],
   "source": [
    "total_results_dataframe_SVM"
   ]
  },
  {
   "cell_type": "code",
   "execution_count": 633,
   "metadata": {},
   "outputs": [],
   "source": [
    "total_results_dataframe_SVM.to_csv(\"total_breastCancer_results_SVM.csv\" , index = False)"
   ]
  },
  {
   "cell_type": "code",
   "execution_count": 634,
   "metadata": {},
   "outputs": [],
   "source": [
    "Selected_model = Surv_KNN\n",
    "Metastasis_prob = Selected_model[0]\n",
    "Non_Metastasis_prob = Selected_model[1]"
   ]
  },
  {
   "cell_type": "code",
   "execution_count": 635,
   "metadata": {},
   "outputs": [],
   "source": [
    "total_results_dataframe_KNN = OutputDataframe(total_results_dataframe_KNN, testPatient_ID , Clinical_data_full, Non_Metastasis_prob, Metastasis_prob, selected_clusters_value, SAM_protein)"
   ]
  },
  {
   "cell_type": "code",
   "execution_count": 636,
   "metadata": {},
   "outputs": [
    {
     "data": {
      "text/html": [
       "<div>\n",
       "<style scoped>\n",
       "    .dataframe tbody tr th:only-of-type {\n",
       "        vertical-align: middle;\n",
       "    }\n",
       "\n",
       "    .dataframe tbody tr th {\n",
       "        vertical-align: top;\n",
       "    }\n",
       "\n",
       "    .dataframe thead th {\n",
       "        text-align: right;\n",
       "    }\n",
       "</style>\n",
       "<table border=\"1\" class=\"dataframe\">\n",
       "  <thead>\n",
       "    <tr style=\"text-align: right;\">\n",
       "      <th></th>\n",
       "      <th>Patient to be predicted/left out</th>\n",
       "      <th>Metastasis-Free Subpopulation</th>\n",
       "      <th>Metastasis Subpopulation</th>\n",
       "      <th>Predicted Metastasis</th>\n",
       "      <th>Metastasis Status</th>\n",
       "      <th>Number of Clusters</th>\n",
       "      <th>SAM Features for each tSNE run on new subset</th>\n",
       "    </tr>\n",
       "  </thead>\n",
       "  <tbody>\n",
       "    <tr>\n",
       "      <th>0</th>\n",
       "      <td>1</td>\n",
       "      <td>58.231141</td>\n",
       "      <td>41.768859</td>\n",
       "      <td>2</td>\n",
       "      <td>1</td>\n",
       "      <td>8</td>\n",
       "      <td>Significant Features : m/z = [6650, 4999, 6277...</td>\n",
       "    </tr>\n",
       "    <tr>\n",
       "      <th>1</th>\n",
       "      <td>2</td>\n",
       "      <td>74.297424</td>\n",
       "      <td>25.702576</td>\n",
       "      <td>2</td>\n",
       "      <td>1</td>\n",
       "      <td>8</td>\n",
       "      <td>Significant Features : m/z = [4965, 4999, 5171...</td>\n",
       "    </tr>\n",
       "    <tr>\n",
       "      <th>2</th>\n",
       "      <td>3</td>\n",
       "      <td>51.612903</td>\n",
       "      <td>48.387097</td>\n",
       "      <td>2</td>\n",
       "      <td>1</td>\n",
       "      <td>5</td>\n",
       "      <td>Significant Features : m/z = [4999, 6980, 4965...</td>\n",
       "    </tr>\n",
       "    <tr>\n",
       "      <th>3</th>\n",
       "      <td>4</td>\n",
       "      <td>87.993330</td>\n",
       "      <td>12.006670</td>\n",
       "      <td>2</td>\n",
       "      <td>1</td>\n",
       "      <td>5</td>\n",
       "      <td>Significant Features : m/z = [4965, 5171, 4999...</td>\n",
       "    </tr>\n",
       "    <tr>\n",
       "      <th>4</th>\n",
       "      <td>5</td>\n",
       "      <td>75.944651</td>\n",
       "      <td>24.055349</td>\n",
       "      <td>2</td>\n",
       "      <td>1</td>\n",
       "      <td>7</td>\n",
       "      <td>Significant Features : m/z = [4965, 4999, 5171]</td>\n",
       "    </tr>\n",
       "    <tr>\n",
       "      <th>5</th>\n",
       "      <td>6</td>\n",
       "      <td>54.921260</td>\n",
       "      <td>45.078740</td>\n",
       "      <td>2</td>\n",
       "      <td>1</td>\n",
       "      <td>8</td>\n",
       "      <td>Significant Features : m/z = [6277, 11652, 665...</td>\n",
       "    </tr>\n",
       "    <tr>\n",
       "      <th>6</th>\n",
       "      <td>7</td>\n",
       "      <td>78.207885</td>\n",
       "      <td>21.792115</td>\n",
       "      <td>2</td>\n",
       "      <td>1</td>\n",
       "      <td>7</td>\n",
       "      <td>Significant Features : m/z = [4999, 4965, 5067...</td>\n",
       "    </tr>\n",
       "    <tr>\n",
       "      <th>7</th>\n",
       "      <td>8</td>\n",
       "      <td>58.173785</td>\n",
       "      <td>41.826215</td>\n",
       "      <td>2</td>\n",
       "      <td>1</td>\n",
       "      <td>6</td>\n",
       "      <td>Significant Features : m/z = [6650, 6277, 4999...</td>\n",
       "    </tr>\n",
       "    <tr>\n",
       "      <th>0</th>\n",
       "      <td>9</td>\n",
       "      <td>67.394095</td>\n",
       "      <td>32.605905</td>\n",
       "      <td>2</td>\n",
       "      <td>1</td>\n",
       "      <td>8</td>\n",
       "      <td>Significant Features : m/z = [11652, 6650, 499...</td>\n",
       "    </tr>\n",
       "    <tr>\n",
       "      <th>0</th>\n",
       "      <td>10</td>\n",
       "      <td>60.179641</td>\n",
       "      <td>39.820359</td>\n",
       "      <td>2</td>\n",
       "      <td>1</td>\n",
       "      <td>7</td>\n",
       "      <td>Significant Features : m/z = [6980, 4965, 4999...</td>\n",
       "    </tr>\n",
       "    <tr>\n",
       "      <th>0</th>\n",
       "      <td>14</td>\n",
       "      <td>84.731183</td>\n",
       "      <td>15.268817</td>\n",
       "      <td>2</td>\n",
       "      <td>2</td>\n",
       "      <td>7</td>\n",
       "      <td>Significant Features : m/z = [4965, 4999, 5067...</td>\n",
       "    </tr>\n",
       "    <tr>\n",
       "      <th>0</th>\n",
       "      <td>15</td>\n",
       "      <td>79.378392</td>\n",
       "      <td>20.621608</td>\n",
       "      <td>2</td>\n",
       "      <td>2</td>\n",
       "      <td>8</td>\n",
       "      <td>Significant Features : m/z = [4999, 5067, 4965...</td>\n",
       "    </tr>\n",
       "    <tr>\n",
       "      <th>0</th>\n",
       "      <td>15</td>\n",
       "      <td>74.099655</td>\n",
       "      <td>25.900345</td>\n",
       "      <td>2</td>\n",
       "      <td>2</td>\n",
       "      <td>7</td>\n",
       "      <td>Significant Features : m/z = [5067, 4999, 4620]</td>\n",
       "    </tr>\n",
       "    <tr>\n",
       "      <th>0</th>\n",
       "      <td>15</td>\n",
       "      <td>74.099655</td>\n",
       "      <td>25.900345</td>\n",
       "      <td>2</td>\n",
       "      <td>2</td>\n",
       "      <td>5</td>\n",
       "      <td>Significant Features : m/z = [4999, 4965, 5171...</td>\n",
       "    </tr>\n",
       "  </tbody>\n",
       "</table>\n",
       "</div>"
      ],
      "text/plain": [
       "   Patient to be predicted/left out  Metastasis-Free Subpopulation  \\\n",
       "0                                 1                      58.231141   \n",
       "1                                 2                      74.297424   \n",
       "2                                 3                      51.612903   \n",
       "3                                 4                      87.993330   \n",
       "4                                 5                      75.944651   \n",
       "5                                 6                      54.921260   \n",
       "6                                 7                      78.207885   \n",
       "7                                 8                      58.173785   \n",
       "0                                 9                      67.394095   \n",
       "0                                10                      60.179641   \n",
       "0                                14                      84.731183   \n",
       "0                                15                      79.378392   \n",
       "0                                15                      74.099655   \n",
       "0                                15                      74.099655   \n",
       "\n",
       "   Metastasis Subpopulation  Predicted Metastasis  Metastasis Status  \\\n",
       "0                 41.768859                     2                  1   \n",
       "1                 25.702576                     2                  1   \n",
       "2                 48.387097                     2                  1   \n",
       "3                 12.006670                     2                  1   \n",
       "4                 24.055349                     2                  1   \n",
       "5                 45.078740                     2                  1   \n",
       "6                 21.792115                     2                  1   \n",
       "7                 41.826215                     2                  1   \n",
       "0                 32.605905                     2                  1   \n",
       "0                 39.820359                     2                  1   \n",
       "0                 15.268817                     2                  2   \n",
       "0                 20.621608                     2                  2   \n",
       "0                 25.900345                     2                  2   \n",
       "0                 25.900345                     2                  2   \n",
       "\n",
       "   Number of Clusters       SAM Features for each tSNE run on new subset  \n",
       "0                   8  Significant Features : m/z = [6650, 4999, 6277...  \n",
       "1                   8  Significant Features : m/z = [4965, 4999, 5171...  \n",
       "2                   5  Significant Features : m/z = [4999, 6980, 4965...  \n",
       "3                   5  Significant Features : m/z = [4965, 5171, 4999...  \n",
       "4                   7    Significant Features : m/z = [4965, 4999, 5171]  \n",
       "5                   8  Significant Features : m/z = [6277, 11652, 665...  \n",
       "6                   7  Significant Features : m/z = [4999, 4965, 5067...  \n",
       "7                   6  Significant Features : m/z = [6650, 6277, 4999...  \n",
       "0                   8  Significant Features : m/z = [11652, 6650, 499...  \n",
       "0                   7  Significant Features : m/z = [6980, 4965, 4999...  \n",
       "0                   7  Significant Features : m/z = [4965, 4999, 5067...  \n",
       "0                   8  Significant Features : m/z = [4999, 5067, 4965...  \n",
       "0                   7    Significant Features : m/z = [5067, 4999, 4620]  \n",
       "0                   5  Significant Features : m/z = [4999, 4965, 5171...  "
      ]
     },
     "execution_count": 636,
     "metadata": {},
     "output_type": "execute_result"
    }
   ],
   "source": [
    "total_results_dataframe_KNN"
   ]
  },
  {
   "cell_type": "code",
   "execution_count": 637,
   "metadata": {},
   "outputs": [],
   "source": [
    "total_results_dataframe_KNN.to_csv(\"total_breastCancer_results_KNN.csv\" , index = False)"
   ]
  },
  {
   "cell_type": "code",
   "execution_count": null,
   "metadata": {},
   "outputs": [],
   "source": []
  },
  {
   "cell_type": "code",
   "execution_count": null,
   "metadata": {},
   "outputs": [],
   "source": []
  }
 ],
 "metadata": {
  "interpreter": {
   "hash": "5a862fa755b339cb269ec5ceb6e73837f63b6953002ae94843c7ff6941dd7636"
  },
  "kernelspec": {
   "display_name": "Python 3.8.5 ('base')",
   "language": "python",
   "name": "python3"
  },
  "language_info": {
   "codemirror_mode": {
    "name": "ipython",
    "version": 3
   },
   "file_extension": ".py",
   "mimetype": "text/x-python",
   "name": "python",
   "nbconvert_exporter": "python",
   "pygments_lexer": "ipython3",
   "version": "3.8.8"
  },
  "orig_nbformat": 4
 },
 "nbformat": 4,
 "nbformat_minor": 2
}
