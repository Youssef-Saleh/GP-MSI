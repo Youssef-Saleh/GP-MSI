{
 "cells": [
  {
   "cell_type": "code",
   "execution_count": 1,
   "metadata": {},
   "outputs": [],
   "source": [
    "from ipynb.fs.full.BreastFunctions import *\n",
    "#from BreastFunctions_py import *\n",
    "import numpy as np\n",
    "import pandas as pd"
   ]
  },
  {
   "cell_type": "code",
   "execution_count": 85,
   "metadata": {},
   "outputs": [],
   "source": [
    "# Prepare this dataframe (total results) only once\n",
    "total_results_dataframe = pd.DataFrame(columns=[\"Patient to be predicted/left out\" , \"Metastasis-Free Subpopulation\" , \"Metastasis Subpopulation\" , \n",
    "\"Metastasis Status\", \"SAM Features for each tSNE run on new subset\"])\n",
    "\n",
    "# Only load if needed to load total results from previous runs to continue on\n",
    "#total_results_dataframe = pd.read_csv(\"total_breastCancer_results.csv\")\n"
   ]
  },
  {
   "cell_type": "code",
   "execution_count": 21,
   "metadata": {},
   "outputs": [],
   "source": [
    "HE_image , MSI_data_cube , goodlist, peak_list, pixel_to_sample_ID, sample_only_data, sample_only_scaled_data , sample_ID_pixels = ReadBreastData()"
   ]
  },
  {
   "cell_type": "code",
   "execution_count": 53,
   "metadata": {},
   "outputs": [],
   "source": [
    "## Selecting Patient as test\n",
    "testPatient_ID = 1\n",
    "#-------------------------------------------------------\n",
    "\n",
    "train_scaled_data,train_data,train_ID_pixels,test_scaled_data,test_data,test_ID_pixels = SplitData(ID = testPatient_ID ,\n",
    "        sample_only_data = sample_only_data,\n",
    "        sample_only_scaled_data = sample_only_scaled_data,\n",
    "        sample_ID_pixels = sample_ID_pixels )\n"
   ]
  },
  {
   "cell_type": "code",
   "execution_count": 23,
   "metadata": {},
   "outputs": [
    {
     "name": "stdout",
     "output_type": "stream",
     "text": [
      "[t-SNE] Computing 151 nearest neighbors...\n",
      "[t-SNE] Indexed 46718 samples in 0.006s...\n",
      "[t-SNE] Computed neighbors for 46718 samples in 52.626s...\n",
      "[t-SNE] Computed conditional probabilities for sample 1000 / 46718\n",
      "[t-SNE] Computed conditional probabilities for sample 2000 / 46718\n",
      "[t-SNE] Computed conditional probabilities for sample 3000 / 46718\n",
      "[t-SNE] Computed conditional probabilities for sample 4000 / 46718\n",
      "[t-SNE] Computed conditional probabilities for sample 5000 / 46718\n",
      "[t-SNE] Computed conditional probabilities for sample 6000 / 46718\n",
      "[t-SNE] Computed conditional probabilities for sample 7000 / 46718\n",
      "[t-SNE] Computed conditional probabilities for sample 8000 / 46718\n",
      "[t-SNE] Computed conditional probabilities for sample 9000 / 46718\n",
      "[t-SNE] Computed conditional probabilities for sample 10000 / 46718\n",
      "[t-SNE] Computed conditional probabilities for sample 11000 / 46718\n",
      "[t-SNE] Computed conditional probabilities for sample 12000 / 46718\n",
      "[t-SNE] Computed conditional probabilities for sample 13000 / 46718\n",
      "[t-SNE] Computed conditional probabilities for sample 14000 / 46718\n",
      "[t-SNE] Computed conditional probabilities for sample 15000 / 46718\n",
      "[t-SNE] Computed conditional probabilities for sample 16000 / 46718\n",
      "[t-SNE] Computed conditional probabilities for sample 17000 / 46718\n",
      "[t-SNE] Computed conditional probabilities for sample 18000 / 46718\n",
      "[t-SNE] Computed conditional probabilities for sample 19000 / 46718\n",
      "[t-SNE] Computed conditional probabilities for sample 20000 / 46718\n",
      "[t-SNE] Computed conditional probabilities for sample 21000 / 46718\n",
      "[t-SNE] Computed conditional probabilities for sample 22000 / 46718\n",
      "[t-SNE] Computed conditional probabilities for sample 23000 / 46718\n",
      "[t-SNE] Computed conditional probabilities for sample 24000 / 46718\n",
      "[t-SNE] Computed conditional probabilities for sample 25000 / 46718\n",
      "[t-SNE] Computed conditional probabilities for sample 26000 / 46718\n",
      "[t-SNE] Computed conditional probabilities for sample 27000 / 46718\n",
      "[t-SNE] Computed conditional probabilities for sample 28000 / 46718\n",
      "[t-SNE] Computed conditional probabilities for sample 29000 / 46718\n",
      "[t-SNE] Computed conditional probabilities for sample 30000 / 46718\n",
      "[t-SNE] Computed conditional probabilities for sample 31000 / 46718\n",
      "[t-SNE] Computed conditional probabilities for sample 32000 / 46718\n",
      "[t-SNE] Computed conditional probabilities for sample 33000 / 46718\n",
      "[t-SNE] Computed conditional probabilities for sample 34000 / 46718\n",
      "[t-SNE] Computed conditional probabilities for sample 35000 / 46718\n",
      "[t-SNE] Computed conditional probabilities for sample 36000 / 46718\n",
      "[t-SNE] Computed conditional probabilities for sample 37000 / 46718\n",
      "[t-SNE] Computed conditional probabilities for sample 38000 / 46718\n",
      "[t-SNE] Computed conditional probabilities for sample 39000 / 46718\n",
      "[t-SNE] Computed conditional probabilities for sample 40000 / 46718\n",
      "[t-SNE] Computed conditional probabilities for sample 41000 / 46718\n",
      "[t-SNE] Computed conditional probabilities for sample 42000 / 46718\n",
      "[t-SNE] Computed conditional probabilities for sample 43000 / 46718\n",
      "[t-SNE] Computed conditional probabilities for sample 44000 / 46718\n",
      "[t-SNE] Computed conditional probabilities for sample 45000 / 46718\n",
      "[t-SNE] Computed conditional probabilities for sample 46000 / 46718\n",
      "[t-SNE] Computed conditional probabilities for sample 46718 / 46718\n",
      "[t-SNE] Mean sigma: 0.000000\n",
      "[t-SNE] KL divergence after 250 iterations with early exaggeration: 98.291702\n",
      "[t-SNE] KL divergence after 1000 iterations: 2.777366\n",
      "t-SNE done! Time elapsed: 1054.1693410873413 seconds\n"
     ]
    }
   ],
   "source": [
    "tsne_results = tSNE(train_scaled_data)\n",
    "np.save(\"BreastCancer_tSNE_Model_Patient_{}\".format(testPatient_ID) , tsne_results)"
   ]
  },
  {
   "cell_type": "code",
   "execution_count": 54,
   "metadata": {},
   "outputs": [],
   "source": [
    "tsne_results = np.load(\"BreastCancer_tSNE_Model_Patient_{}.npy\".format(testPatient_ID))"
   ]
  },
  {
   "cell_type": "code",
   "execution_count": 55,
   "metadata": {},
   "outputs": [],
   "source": [
    "kmeans_8 , kmeans_7, kmeans_6, kmeans_5 = KMeans_results(tsne_results)"
   ]
  },
  {
   "cell_type": "code",
   "execution_count": 56,
   "metadata": {},
   "outputs": [],
   "source": [
    "Clinical_data = ReadClinicalData(testPatient_ID , \"ClinicalData.xlsx\")\n",
    "Clinical_data_full = pd.read_excel(\"ClinicalData.xlsx\",\"Breast Cancer Clinical Data\")"
   ]
  },
  {
   "cell_type": "code",
   "execution_count": 57,
   "metadata": {},
   "outputs": [
    {
     "name": "stdout",
     "output_type": "stream",
     "text": [
      "NonMetastasis: [1. 3. 5. 3. 1. 2. 1. 0.]\n",
      "Metastasis: [4. 4. 2. 4. 3. 1. 4. 9.]\n"
     ]
    },
    {
     "data": {
      "image/png": "[encoded data removed]",
      "text/plain": [
       "<Figure size 432x288 with 1 Axes>"
      ]
     },
     "metadata": {
      "needs_background": "light"
     },
     "output_type": "display_data"
    },
    {
     "name": "stdout",
     "output_type": "stream",
     "text": [
      "NonMetastasis: [1. 1. 2. 4. 0. 3. 4.]\n",
      "Metastasis: [7. 3. 1. 6. 9. 4. 2.]\n"
     ]
    },
    {
     "data": {
      "image/png": "[encoded data removed]",
      "text/plain": [
       "<Figure size 432x288 with 1 Axes>"
      ]
     },
     "metadata": {
      "needs_background": "light"
     },
     "output_type": "display_data"
    },
    {
     "name": "stdout",
     "output_type": "stream",
     "text": [
      "NonMetastasis: [2. 2. 1. 1. 5. 3.]\n",
      "Metastasis: [8. 1. 5. 7. 4. 5.]\n"
     ]
    },
    {
     "data": {
      "image/png": "[encoded data removed]",
      "text/plain": [
       "<Figure size 432x288 with 1 Axes>"
      ]
     },
     "metadata": {
      "needs_background": "light"
     },
     "output_type": "display_data"
    },
    {
     "name": "stdout",
     "output_type": "stream",
     "text": [
      "NonMetastasis: [2. 3. 4. 1. 1.]\n",
      "Metastasis: [8. 3. 4. 6. 5.]\n"
     ]
    },
    {
     "data": {
      "image/png": "[encoded data removed]",
      "text/plain": [
       "<Figure size 432x288 with 1 Axes>"
      ]
     },
     "metadata": {
      "needs_background": "light"
     },
     "output_type": "display_data"
    }
   ],
   "source": [
    "# Returns Non-Metastasis and Metastasis clusters\n",
    "state08, state18 = metastasis_status(kmeans_8.labels_, Clinical_data,train_ID_pixels)\n",
    "state07, state17 = metastasis_status(kmeans_7.labels_, Clinical_data,train_ID_pixels)\n",
    "state06, state16 = metastasis_status(kmeans_6.labels_, Clinical_data,train_ID_pixels)\n",
    "state05, state15 = metastasis_status(kmeans_5.labels_, Clinical_data,train_ID_pixels)\n",
    "\n",
    "# Plots bar plot of Non-Metastasis and Metastasis clusters\n",
    "plot_metastasis_status(state08, state18)\n",
    "plot_metastasis_status(state07, state17)\n",
    "plot_metastasis_status(state06, state16)\n",
    "plot_metastasis_status(state05, state15)\n",
    "\n",
    "# Create dict to save kmeans results and select them later\n",
    "kmeans_dict = {}\n",
    "kmeans_dict[\"kmeans_clusters\"] = [8,7,6,5]\n",
    "kmeans_dict[\"Selected_state\"] = [state08,state07,state06,state05]\n",
    "kmeans_dict[\"kmeans_labels\"] = [kmeans_8.labels_,kmeans_7.labels_,kmeans_6.labels_,kmeans_5.labels_]"
   ]
  },
  {
   "cell_type": "code",
   "execution_count": 60,
   "metadata": {},
   "outputs": [
    {
     "name": "stdout",
     "output_type": "stream",
     "text": [
      "Fully metastasis cluster label's index is 7 and it is cluster 8\n"
     ]
    }
   ],
   "source": [
    "# Select the correct kmeans that shows best results from metastasis analysis, must have one fully metastasis cluster\n",
    "selected_clusters_value = 7\n",
    "\n",
    "# ----------------------------------------------------------------------------------\n",
    "\n",
    "# Detect the fully metastasis cluster, select the correct kmeans that shows best results from metastasis analysis\n",
    "selected_state = kmeans_dict[\"Selected_state\"][kmeans_dict[\"kmeans_clusters\"] == selected_clusters_value]\n",
    "labels = kmeans_dict[\"kmeans_labels\"][kmeans_dict[\"kmeans_clusters\"] == selected_clusters_value]\n",
    "\n",
    "fully_metastasis_cluster_label = 0\n",
    "for cluster in selected_state:\n",
    "    if not cluster: # Cluster list is empty, has no healthy patients, so it's fully metastasis cluster\n",
    "        break # fully_metastasis_cluster_label now has the right label, exit loop\n",
    "    \n",
    "    fully_metastasis_cluster_label += 1\n",
    "\n",
    "print(\"Fully metastasis cluster label's index is {} and it is cluster {}\".format(fully_metastasis_cluster_label,fully_metastasis_cluster_label+1))"
   ]
  },
  {
   "cell_type": "code",
   "execution_count": 62,
   "metadata": {},
   "outputs": [],
   "source": [
    "protein_dataframe = SAM_Analysis(labels, Clinical_data, train_ID_pixels, fully_metastasis_cluster_label, train_data, peak_list)\n",
    "protein_dataframe.to_csv(\"BreastCancerAverageSpectrumValues.csv\",index=False)"
   ]
  },
  {
   "cell_type": "code",
   "execution_count": 63,
   "metadata": {},
   "outputs": [],
   "source": [
    "#Need to read significant protein file outputted from R\n",
    "\n",
    "SAM_protein = readSignificantProteins(\"significant_breast_proteins.json\",delete=False)\n",
    "\n",
    "SAM_protein_indices=[]\n",
    "for i in range(len(peak_list)):\n",
    "\n",
    "    if peak_list[i][0] in SAM_protein:\n",
    "        SAM_protein_indices.append(i)\n",
    "\n",
    "train_scaled_selected_proteins_data = train_scaled_data[:,SAM_protein_indices]\n",
    "test_scaled_selected_proteins_data = test_scaled_data[:,SAM_protein_indices]\n",
    "\n",
    "train_selected_proteins_data = train_data[:,SAM_protein_indices]\n",
    "test_selected_proteins_data = test_data[:,SAM_protein_indices]"
   ]
  },
  {
   "cell_type": "code",
   "execution_count": 64,
   "metadata": {},
   "outputs": [],
   "source": [
    "train_labels = TargetLabelsCreation(labels , Clinical_data, train_ID_pixels, fully_metastasis_cluster_label)"
   ]
  },
  {
   "cell_type": "code",
   "execution_count": 65,
   "metadata": {},
   "outputs": [],
   "source": [
    "# Test rbf at c = 0.1 , 1 , 10\n",
    "# Test linear at c = 0.1 , 1 , 10\n",
    "y_pred_SVM = SVM(\"rbf\" , 1 , train_scaled_data , train_labels , test_scaled_data)"
   ]
  },
  {
   "cell_type": "code",
   "execution_count": 66,
   "metadata": {},
   "outputs": [
    {
     "name": "stdout",
     "output_type": "stream",
     "text": [
      "Metastasis probability : 96.17242660720922 \n",
      "Non-Metastasis probability : 3.827573392790784\n"
     ]
    }
   ],
   "source": [
    "Metastasis_prob_SVM , Non_Metastasis_prob_SVM = ProbabilityCalc(y_pred_SVM)"
   ]
  },
  {
   "cell_type": "code",
   "execution_count": 67,
   "metadata": {},
   "outputs": [],
   "source": [
    "y_pred_KNN = KNN(5 , train_scaled_data, train_labels, test_scaled_data)"
   ]
  },
  {
   "cell_type": "code",
   "execution_count": 68,
   "metadata": {},
   "outputs": [
    {
     "name": "stdout",
     "output_type": "stream",
     "text": [
      "Metastasis probability : 90.04087699739873 \n",
      "Non-Metastasis probability : 9.959123002601263\n"
     ]
    }
   ],
   "source": [
    "Metastasis_prob_KNN , Non_Metastasis_prob_KNN = ProbabilityCalc(y_pred_KNN)"
   ]
  },
  {
   "cell_type": "code",
   "execution_count": 69,
   "metadata": {},
   "outputs": [],
   "source": [
    "# Selected Metastasis probabilities, select KNN or SVM results\n",
    "Metastasis_prob = Metastasis_prob_KNN\n",
    "Non_Metastasis_prob = Non_Metastasis_prob_KNN"
   ]
  },
  {
   "cell_type": "code",
   "execution_count": 82,
   "metadata": {},
   "outputs": [],
   "source": [
    "# Run after model complete to save the result in the total results dataframe\n",
    "total_results_dataframe = OutputDataframe(total_results_dataframe, testPatient_ID , Clinical_data_full, Non_Metastasis_prob, Metastasis_prob, SAM_protein)"
   ]
  },
  {
   "cell_type": "code",
   "execution_count": 83,
   "metadata": {},
   "outputs": [
    {
     "data": {
      "text/html": [
       "<div>\n",
       "<style scoped>\n",
       "    .dataframe tbody tr th:only-of-type {\n",
       "        vertical-align: middle;\n",
       "    }\n",
       "\n",
       "    .dataframe tbody tr th {\n",
       "        vertical-align: top;\n",
       "    }\n",
       "\n",
       "    .dataframe thead th {\n",
       "        text-align: right;\n",
       "    }\n",
       "</style>\n",
       "<table border=\"1\" class=\"dataframe\">\n",
       "  <thead>\n",
       "    <tr style=\"text-align: right;\">\n",
       "      <th></th>\n",
       "      <th>Patient to be predicted/left out</th>\n",
       "      <th>Metastasis-Free Subpopulation</th>\n",
       "      <th>Metastasis Subpopulation</th>\n",
       "      <th>Metastasis Status</th>\n",
       "      <th>SAM Features for each tSNE run on new subset</th>\n",
       "    </tr>\n",
       "  </thead>\n",
       "  <tbody>\n",
       "    <tr>\n",
       "      <th>0</th>\n",
       "      <td>1</td>\n",
       "      <td>9.959123</td>\n",
       "      <td>90.040877</td>\n",
       "      <td>1</td>\n",
       "      <td>Significant Features : m/z = [4999, 4965, 5171...</td>\n",
       "    </tr>\n",
       "    <tr>\n",
       "      <th>0</th>\n",
       "      <td>1</td>\n",
       "      <td>9.959123</td>\n",
       "      <td>90.040877</td>\n",
       "      <td>1</td>\n",
       "      <td>Significant Features : m/z = [4999, 4965, 5171...</td>\n",
       "    </tr>\n",
       "  </tbody>\n",
       "</table>\n",
       "</div>"
      ],
      "text/plain": [
       "   Patient to be predicted/left out  Metastasis-Free Subpopulation  \\\n",
       "0                                 1                       9.959123   \n",
       "0                                 1                       9.959123   \n",
       "\n",
       "   Metastasis Subpopulation  Metastasis Status  \\\n",
       "0                 90.040877                  1   \n",
       "0                 90.040877                  1   \n",
       "\n",
       "        SAM Features for each tSNE run on new subset  \n",
       "0  Significant Features : m/z = [4999, 4965, 5171...  \n",
       "0  Significant Features : m/z = [4999, 4965, 5171...  "
      ]
     },
     "execution_count": 83,
     "metadata": {},
     "output_type": "execute_result"
    }
   ],
   "source": [
    "total_results_dataframe"
   ]
  },
  {
   "cell_type": "code",
   "execution_count": 84,
   "metadata": {},
   "outputs": [],
   "source": [
    "# Only run if needed to save and load at a later time\n",
    "total_results_dataframe.to_csv(\"total_breastCancer_results.csv\" , index = False)"
   ]
  }
 ],
 "metadata": {
  "interpreter": {
   "hash": "5a862fa755b339cb269ec5ceb6e73837f63b6953002ae94843c7ff6941dd7636"
  },
  "kernelspec": {
   "display_name": "Python 3.8.5 ('base')",
   "language": "python",
   "name": "python3"
  },
  "language_info": {
   "codemirror_mode": {
    "name": "ipython",
    "version": 3
   },
   "file_extension": ".py",
   "mimetype": "text/x-python",
   "name": "python",
   "nbconvert_exporter": "python",
   "pygments_lexer": "ipython3",
   "version": "3.8.5"
  },
  "orig_nbformat": 4
 },
 "nbformat": 4,
 "nbformat_minor": 2
}
