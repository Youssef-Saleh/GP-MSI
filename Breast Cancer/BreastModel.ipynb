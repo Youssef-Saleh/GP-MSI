{
 "cells": [
  {
   "cell_type": "code",
   "execution_count": null,
   "metadata": {},
   "outputs": [],
   "source": [
    "from ipynb.fs.full.BreastFunctions import *\n",
    "#from BreastFunctions_py import *\n",
    "import numpy as np\n",
    "import pandas as pd"
   ]
  },
  {
   "cell_type": "code",
   "execution_count": null,
   "metadata": {},
   "outputs": [],
   "source": [
    "# Prepare this dataframe (total results) only once\n",
    "total_results_dataframe = pd.DataFrame(columns=[\"Patient to be predicted/left out\" , \"Metastasis-Free Subpopulation\" , \"Metastasis Subpopulation\" , \n",
    "\"Metastasis Status\",\"Number of Clusters\" , \"SAM Features for each tSNE run on new subset\"])\n",
    "\n",
    "# Only load if needed to load total results from previous runs to continue on\n",
    "#total_results_dataframe = pd.read_csv(\"total_breastCancer_results.csv\")\n"
   ]
  },
  {
   "cell_type": "code",
   "execution_count": null,
   "metadata": {},
   "outputs": [],
   "source": [
    "HE_image , MSI_data_cube , goodlist, peak_list, pixel_to_sample_ID, sample_only_data, sample_only_scaled_data , sample_ID_pixels = ReadBreastData()"
   ]
  },
  {
   "cell_type": "code",
   "execution_count": null,
   "metadata": {},
   "outputs": [],
   "source": [
    "## Selecting Patient as test\n",
    "testPatient_ID = 1\n",
    "#-------------------------------------------------------\n",
    "\n",
    "train_scaled_data,train_data,train_ID_pixels,test_scaled_data,test_data,test_ID_pixels = SplitData(ID = testPatient_ID ,\n",
    "        sample_only_data = sample_only_data,\n",
    "        sample_only_scaled_data = sample_only_scaled_data,\n",
    "        sample_ID_pixels = sample_ID_pixels )\n"
   ]
  },
  {
   "cell_type": "code",
   "execution_count": null,
   "metadata": {},
   "outputs": [],
   "source": [
    "tsne_results = tSNE(train_scaled_data)\n",
    "np.save(\"patient_TSNE/BreastCancer_tSNE_Model_Patient_{}\".format(testPatient_ID) , tsne_results)"
   ]
  },
  {
   "cell_type": "code",
   "execution_count": null,
   "metadata": {},
   "outputs": [],
   "source": [
    "tsne_results = np.load(\"patient_TSNE/BreastCancer_tSNE_Model_Patient_{}.npy\".format(testPatient_ID))"
   ]
  },
  {
   "cell_type": "code",
   "execution_count": null,
   "metadata": {},
   "outputs": [],
   "source": [
    "kmeans_8 , kmeans_7, kmeans_6, kmeans_5 = KMeans_results(tsne_results)"
   ]
  },
  {
   "cell_type": "code",
   "execution_count": null,
   "metadata": {},
   "outputs": [],
   "source": [
    "Clinical_data = ReadClinicalData(testPatient_ID , \"ClinicalData.xlsx\")\n",
    "Clinical_data_full = pd.read_excel(\"ClinicalData.xlsx\",\"Breast Cancer Clinical Data\")"
   ]
  },
  {
   "cell_type": "code",
   "execution_count": null,
   "metadata": {},
   "outputs": [],
   "source": [
    "# Returns Non-Metastasis and Metastasis clusters\n",
    "state08, state18 = metastasis_status(kmeans_8.labels_, Clinical_data,train_ID_pixels)\n",
    "state07, state17 = metastasis_status(kmeans_7.labels_, Clinical_data,train_ID_pixels)\n",
    "state06, state16 = metastasis_status(kmeans_6.labels_, Clinical_data,train_ID_pixels)\n",
    "state05, state15 = metastasis_status(kmeans_5.labels_, Clinical_data,train_ID_pixels)\n",
    "\n",
    "# Plots bar plot of Non-Metastasis and Metastasis clusters\n",
    "plot_metastasis_status(state08, state18)\n",
    "plot_metastasis_status(state07, state17)\n",
    "plot_metastasis_status(state06, state16)\n",
    "plot_metastasis_status(state05, state15)\n",
    "\n",
    "# Create dict to save kmeans results and select them later\n",
    "kmeans_dict = {\"8_Clusters\": [kmeans_8.labels_,state08] , \"7_Clusters\": [kmeans_7.labels_,state07]  , \"6_Clusters\": [kmeans_6.labels_,state06] , \"5_Clusters\": [kmeans_5.labels_,state05] }"
   ]
  },
  {
   "cell_type": "code",
   "execution_count": null,
   "metadata": {},
   "outputs": [],
   "source": [
    "# Select the correct kmeans that shows best results from metastasis analysis, must have one fully metastasis cluster\n",
    "selected_clusters_value = 7\n",
    "\n",
    "# ----------------------------------------------------------------------------------\n",
    "\n",
    "# Detect the fully metastasis cluster, select the correct kmeans that shows best results from metastasis analysis\n",
    "labels = kmeans_dict[str(selected_clusters_value)+\"_Clusters\"][0]\n",
    "selected_state = kmeans_dict[str(selected_clusters_value)+\"_Clusters\"][1]\n",
    "\n",
    "fully_metastasis_cluster_label = 0\n",
    "for cluster in selected_state:\n",
    "    if not cluster: # Cluster list is empty, has no healthy patients, so it's fully metastasis cluster\n",
    "        break # fully_metastasis_cluster_label now has the right label, exit loop\n",
    "    \n",
    "    fully_metastasis_cluster_label += 1\n",
    "\n",
    "print(\"Fully metastasis cluster label's index is {} and it is cluster {}\".format(fully_metastasis_cluster_label,fully_metastasis_cluster_label+1))"
   ]
  },
  {
   "cell_type": "code",
   "execution_count": null,
   "metadata": {},
   "outputs": [],
   "source": [
    "protein_dataframe = SAM_Analysis(labels, Clinical_data, train_ID_pixels, fully_metastasis_cluster_label, train_data, peak_list)\n",
    "protein_dataframe.to_csv(\"BreastCancerAverageSpectrumValues.csv\",index=False)\n",
    "\n",
    "# Run R file in order to generate significant proteins using the csv file"
   ]
  },
  {
   "cell_type": "code",
   "execution_count": null,
   "metadata": {},
   "outputs": [],
   "source": [
    "#Need to read significant protein file outputted from R\n",
    "\n",
    "SAM_protein = readSignificantProteins(\"significant_breast_proteins.json\",delete=False)\n",
    "\n",
    "SAM_protein_indices=[]\n",
    "for i in range(len(peak_list)):\n",
    "\n",
    "    if peak_list[i][0] in SAM_protein:\n",
    "        SAM_protein_indices.append(i)\n",
    "\n",
    "train_scaled_selected_proteins_data = train_scaled_data[:,SAM_protein_indices]\n",
    "test_scaled_selected_proteins_data = test_scaled_data[:,SAM_protein_indices]\n",
    "\n",
    "train_selected_proteins_data = train_data[:,SAM_protein_indices]\n",
    "test_selected_proteins_data = test_data[:,SAM_protein_indices]\n",
    "\n",
    "train_labels = TargetLabelsCreation(labels , Clinical_data, train_ID_pixels, fully_metastasis_cluster_label)"
   ]
  },
  {
   "cell_type": "code",
   "execution_count": null,
   "metadata": {},
   "outputs": [],
   "source": [
    "# Test rbf at c = 0.1 , 1 , 10\n",
    "# Test linear at c = 0.1 , 1 , 10\n",
    "y_pred_SVM = SVM(\"rbf\" , 1 , train_scaled_data , train_labels , test_scaled_data)"
   ]
  },
  {
   "cell_type": "code",
   "execution_count": null,
   "metadata": {},
   "outputs": [],
   "source": [
    "Metastasis_prob_SVM , Non_Metastasis_prob_SVM = ProbabilityCalc(y_pred_SVM)"
   ]
  },
  {
   "cell_type": "code",
   "execution_count": null,
   "metadata": {},
   "outputs": [],
   "source": [
    "y_pred_KNN = KNN(5 , train_scaled_data, train_labels, test_scaled_data)"
   ]
  },
  {
   "cell_type": "code",
   "execution_count": null,
   "metadata": {},
   "outputs": [],
   "source": [
    "Metastasis_prob_KNN , Non_Metastasis_prob_KNN = ProbabilityCalc(y_pred_KNN)"
   ]
  },
  {
   "cell_type": "code",
   "execution_count": null,
   "metadata": {},
   "outputs": [],
   "source": [
    "# Selected Metastasis probabilities, select KNN or SVM results\n",
    "Metastasis_prob = Metastasis_prob_KNN\n",
    "Non_Metastasis_prob = Non_Metastasis_prob_KNN"
   ]
  },
  {
   "cell_type": "code",
   "execution_count": null,
   "metadata": {},
   "outputs": [],
   "source": [
    "# Run after model complete to save the result in the total results dataframe\n",
    "total_results_dataframe = OutputDataframe(total_results_dataframe, testPatient_ID , Clinical_data_full, Non_Metastasis_prob, Metastasis_prob, SAM_protein)"
   ]
  },
  {
   "cell_type": "code",
   "execution_count": null,
   "metadata": {},
   "outputs": [],
   "source": [
    "total_results_dataframe"
   ]
  },
  {
   "cell_type": "code",
   "execution_count": null,
   "metadata": {},
   "outputs": [],
   "source": [
    "# Only run if needed to save and load at a later time\n",
    "total_results_dataframe.to_csv(\"total_breastCancer_results.csv\" , index = False)"
   ]
  }
 ],
 "metadata": {
  "interpreter": {
   "hash": "5a862fa755b339cb269ec5ceb6e73837f63b6953002ae94843c7ff6941dd7636"
  },
  "kernelspec": {
   "display_name": "Python 3.8.5 ('base')",
   "language": "python",
   "name": "python3"
  },
  "language_info": {
   "codemirror_mode": {
    "name": "ipython",
    "version": 3
   },
   "file_extension": ".py",
   "mimetype": "text/x-python",
   "name": "python",
   "nbconvert_exporter": "python",
   "pygments_lexer": "ipython3",
   "version": "3.8.5"
  },
  "orig_nbformat": 4
 },
 "nbformat": 4,
 "nbformat_minor": 2
}
